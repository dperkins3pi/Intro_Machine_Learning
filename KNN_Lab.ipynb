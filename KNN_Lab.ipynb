{
  "cells": [
    {
      "cell_type": "markdown",
      "metadata": {
        "id": "DVL7_bgmIAPR"
      },
      "source": [
        "# K-Nearest Neighbor Lab\n",
        "Read over the sklearn info on [nearest neighbor learners](https://scikit-learn.org/stable/modules/neighbors.html#nearest-neighbors-classification)\n",
        "\n",
        "\n"
      ]
    },
    {
      "cell_type": "code",
      "execution_count": 2,
      "metadata": {
        "id": "6ZbYjZZZ_yLV"
      },
      "outputs": [],
      "source": [
        "from sklearn.neighbors import KNeighborsClassifier, KNeighborsRegressor\n",
        "import numpy as np\n",
        "import pandas as pd\n",
        "from scipy.io import arff\n",
        "import matplotlib.pyplot as plt\n",
        "from sklearn.model_selection import train_test_split\n",
        "from sklearn import preprocessing as p\n",
        "from sklearn.metrics import mean_absolute_error"
      ]
    },
    {
      "cell_type": "markdown",
      "metadata": {
        "id": "wTBGqWUNf6Aw"
      },
      "source": [
        "## 1 K-Nearest Neighbor (KNN) algorithm\n",
        "\n",
        "### 1.1 (15%) Basic KNN Classification\n",
        "\n",
        "Learn the [Glass data set](https://archive.ics.uci.edu/dataset/42/glass+identification) using [KNeighborsClassifier](https://scikit-learn.org/stable/modules/generated/sklearn.neighbors.KNeighborsClassifier.html#sklearn.neighbors.KNeighborsClassifier) with default parameters.\n",
        "- Randomly split your data into train/test.  Anytime we don't tell you specifics (such as what percentage is train vs test) choose your own reasonable values\n",
        "- Give typical train and test set accuracies after running with different random splits\n",
        "- Print the output probabilities for a test set (predict_proba)\n",
        "- Try it with different p values (Minkowskian exponent) and discuss any differences"
      ]
    },
    {
      "cell_type": "code",
      "execution_count": 4,
      "metadata": {
        "colab": {
          "base_uri": "https://localhost:8080/"
        },
        "id": "foOTcP3Jf6Aw",
        "outputId": "94991006-99e8-42d7-a7a8-90b4e89c339c"
      },
      "outputs": [
        {
          "output_type": "stream",
          "name": "stdout",
          "text": [
            "Training Accuracy: 0.7368421052631579\n",
            "Test Accuracy: 0.7441860465116279\n",
            "\n",
            "______Output Probabilities______\n",
            "[[0.2 0.6 0.  0.  0.  0.2]\n",
            " [0.  1.  0.  0.  0.  0. ]\n",
            " [0.8 0.  0.2 0.  0.  0. ]\n",
            " [0.  0.6 0.  0.4 0.  0. ]\n",
            " [0.  0.  0.  0.  0.  1. ]\n",
            " [0.  0.  0.  0.  0.  1. ]\n",
            " [0.2 0.8 0.  0.  0.  0. ]\n",
            " [0.  0.2 0.  0.4 0.  0.4]\n",
            " [0.2 0.2 0.4 0.  0.  0.2]\n",
            " [0.6 0.2 0.2 0.  0.  0. ]\n",
            " [0.2 0.6 0.2 0.  0.  0. ]\n",
            " [0.  0.  0.  0.  0.  1. ]\n",
            " [0.  1.  0.  0.  0.  0. ]\n",
            " [0.2 0.  0.2 0.  0.4 0.2]\n",
            " [0.4 0.6 0.  0.  0.  0. ]\n",
            " [0.8 0.2 0.  0.  0.  0. ]\n",
            " [1.  0.  0.  0.  0.  0. ]\n",
            " [0.  1.  0.  0.  0.  0. ]\n",
            " [0.6 0.2 0.2 0.  0.  0. ]\n",
            " [0.  0.8 0.  0.2 0.  0. ]\n",
            " [0.6 0.  0.4 0.  0.  0. ]\n",
            " [0.2 0.8 0.  0.  0.  0. ]\n",
            " [0.6 0.4 0.  0.  0.  0. ]\n",
            " [0.  1.  0.  0.  0.  0. ]\n",
            " [0.  0.2 0.  0.8 0.  0. ]\n",
            " [0.8 0.  0.2 0.  0.  0. ]\n",
            " [0.  0.4 0.  0.6 0.  0. ]\n",
            " [0.4 0.  0.4 0.  0.  0.2]\n",
            " [0.  0.  0.  0.  0.  1. ]\n",
            " [0.  0.2 0.  0.  0.8 0. ]\n",
            " [0.4 0.  0.4 0.  0.  0.2]\n",
            " [0.4 0.  0.6 0.  0.  0. ]\n",
            " [0.  0.  0.  0.  0.  1. ]\n",
            " [0.6 0.4 0.  0.  0.  0. ]\n",
            " [0.  0.2 0.  0.4 0.  0.4]\n",
            " [0.2 0.8 0.  0.  0.  0. ]\n",
            " [0.8 0.  0.2 0.  0.  0. ]\n",
            " [0.  0.  0.  0.  0.  1. ]\n",
            " [1.  0.  0.  0.  0.  0. ]\n",
            " [1.  0.  0.  0.  0.  0. ]\n",
            " [0.  0.  0.  0.  0.  1. ]\n",
            " [0.4 0.6 0.  0.  0.  0. ]\n",
            " [0.4 0.6 0.  0.  0.  0. ]]\n",
            "\n",
            "----p-value of 1-----\n",
            "Training Accuracy: 0.7660818713450293\n",
            "Test Accuracy: 0.813953488372093\n",
            "----p-value of 2-----\n",
            "Training Accuracy: 0.7368421052631579\n",
            "Test Accuracy: 0.7441860465116279\n",
            "----p-value of 3-----\n",
            "Training Accuracy: 0.7309941520467836\n",
            "Test Accuracy: 0.7209302325581395\n",
            "----p-value of 5-----\n",
            "Training Accuracy: 0.7251461988304093\n",
            "Test Accuracy: 0.7209302325581395\n",
            "----p-value of 10-----\n",
            "Training Accuracy: 0.7251461988304093\n",
            "Test Accuracy: 0.6976744186046512\n",
            "----p-value of 100-----\n",
            "Training Accuracy: 0.7134502923976608\n",
            "Test Accuracy: 0.6976744186046512\n",
            "----p-value of 500-----\n",
            "Training Accuracy: 0.7134502923976608\n",
            "Test Accuracy: 0.6511627906976745\n",
            "----p-value of 1000-----\n",
            "Training Accuracy: 0.672514619883041\n",
            "Test Accuracy: 0.627906976744186\n",
            "______Output Probabilities For p-value of 10,000______\n",
            "[[0.  0.8 0.  0.  0.  0.2]\n",
            " [0.2 0.6 0.2 0.  0.  0. ]\n",
            " [0.8 0.  0.2 0.  0.  0. ]\n",
            " [0.  0.8 0.  0.2 0.  0. ]\n",
            " [0.  0.  0.  0.  0.  1. ]\n",
            " [0.  0.  0.  0.  0.  1. ]\n",
            " [0.2 0.6 0.2 0.  0.  0. ]\n",
            " [0.  1.  0.  0.  0.  0. ]\n",
            " [0.  0.8 0.2 0.  0.  0. ]\n",
            " [0.2 0.8 0.  0.  0.  0. ]\n",
            " [0.  0.8 0.2 0.  0.  0. ]\n",
            " [0.  0.6 0.  0.  0.  0.4]\n",
            " [0.  1.  0.  0.  0.  0. ]\n",
            " [0.4 0.4 0.  0.  0.  0.2]\n",
            " [0.4 0.6 0.  0.  0.  0. ]\n",
            " [0.4 0.6 0.  0.  0.  0. ]\n",
            " [0.6 0.4 0.  0.  0.  0. ]\n",
            " [0.4 0.4 0.2 0.  0.  0. ]\n",
            " [0.2 0.8 0.  0.  0.  0. ]\n",
            " [0.  0.8 0.  0.2 0.  0. ]\n",
            " [0.6 0.  0.4 0.  0.  0. ]\n",
            " [0.  1.  0.  0.  0.  0. ]\n",
            " [0.2 0.4 0.4 0.  0.  0. ]\n",
            " [0.  1.  0.  0.  0.  0. ]\n",
            " [0.  0.2 0.  0.8 0.  0. ]\n",
            " [0.6 0.  0.4 0.  0.  0. ]\n",
            " [0.  0.4 0.  0.6 0.  0. ]\n",
            " [0.4 0.4 0.2 0.  0.  0. ]\n",
            " [0.  0.  0.  0.  0.  1. ]\n",
            " [0.  0.2 0.  0.2 0.6 0. ]\n",
            " [0.4 0.  0.4 0.  0.  0.2]\n",
            " [0.6 0.  0.4 0.  0.  0. ]\n",
            " [0.  0.  0.  0.  0.  1. ]\n",
            " [0.2 0.4 0.4 0.  0.  0. ]\n",
            " [0.  1.  0.  0.  0.  0. ]\n",
            " [0.2 0.6 0.2 0.  0.  0. ]\n",
            " [0.8 0.  0.2 0.  0.  0. ]\n",
            " [0.  0.  0.  0.  0.  1. ]\n",
            " [0.8 0.2 0.  0.  0.  0. ]\n",
            " [0.6 0.4 0.  0.  0.  0. ]\n",
            " [0.  0.  0.  0.  0.  1. ]\n",
            " [0.6 0.4 0.  0.  0.  0. ]\n",
            " [0.2 0.8 0.  0.  0.  0. ]]\n",
            "\n"
          ]
        }
      ],
      "source": [
        "# Learn the glass data\n",
        "data = []\n",
        "with open(\"glass.data\", \"r\") as file:\n",
        "    data_set = file.read().splitlines()\n",
        "\n",
        "#separate each line into a list and append to data\n",
        "for line in data_set:\n",
        "    data.append(line.split(\",\"))\n",
        "\n",
        "#convert the data into an array\n",
        "Data_Set_df = pd.DataFrame(data)\n",
        "data = Data_Set_df.to_numpy()\n",
        "data = data.astype(np.float64)  # Convert strings to floats\n",
        "\n",
        "X = data[:, 1:-1]  # Ignore column with ID numbers because will cause overfitting\n",
        "y = data[:, -1]\n",
        "\n",
        "# Training and test split\n",
        "X_train, X_test, y_train, y_test = train_test_split(X, y, test_size=0.20)\n",
        "\n",
        "clf = KNeighborsClassifier().fit(X_train, y_train)\n",
        "print(\"Training Accuracy:\", clf.score(X_train, y_train))\n",
        "print(\"Test Accuracy:\", clf.score(X_test, y_test))\n",
        "print()\n",
        "print(\"______Output Probabilities______\")\n",
        "print(clf.predict_proba(X_test))\n",
        "print()\n",
        "\n",
        "for p in [1, 2, 3, 5, 10, 100, 500, 1000]:\n",
        "    clf = KNeighborsClassifier(p=p).fit(X_train, y_train)\n",
        "    print(f\"----p-value of {p}-----\")\n",
        "    print(\"Training Accuracy:\", clf.score(X_train, y_train))\n",
        "    print(\"Test Accuracy:\", clf.score(X_test, y_test))\n",
        "\n",
        "print(\"______Output Probabilities For p-value of 10,000______\")\n",
        "print(clf.predict_proba(X_test))\n",
        "print()"
      ]
    },
    {
      "cell_type": "markdown",
      "metadata": {
        "id": "qH1YW68hf6Aw"
      },
      "source": [
        "Discussion\n",
        "\n",
        "For this problem, I used the glass data set and ran a KNN classification on it to see how well the algorithm can predict the type of glass for this specific data set. To avoid overfit, I excluded the ID number feature, which had a different value for each instance. After running the model with an 80%-20% training-test split, the training set typically had an accuracy of about 75% and a test accuracy of 67%. These numbers were lower than I expected. I think that this means that the data set was difficult to separate.\n",
        "\n",
        "I also printed out the output probabilities.About half ot the test set had 100% probability that the specific instance belonged to a particular class. And, the other data points always had 2-3 possible classes, with probabilities ranging from 20-80%. This is likely because the model used a default of 5 nearest neighbors. These numbers derived from the ratios of each class in the 5 closest neighbors.\n",
        "\n",
        "After my original test, I ran the same model on the data with various different values for p. This represents the Minkowski exponent, which is part of determine the formula used to calculate the distance. To my surprise, the various values for p did not have a large effect on the test and training accuracies of the model. I think that this occured because the data set was small. The only noticeable difference was the decrease in training accuracy when I choose a very large p-value of 1000. This likely occured because the number was so large that it led to very different results on the distance metric."
      ]
    },
    {
      "cell_type": "markdown",
      "metadata": {
        "id": "9vWiTdlbR2Xh"
      },
      "source": [
        "## 2 KNN Classification with normalization and distance weighting\n",
        "\n",
        "Use the [magic telescope](https://axon.cs.byu.edu/data/uci_class/MagicTelescope.arff) dataset\n",
        "\n",
        "### 2.1 (5%) - Without Normalization or Distance Weighting\n",
        "- Do random 80/20 train/test splits each time\n",
        "- Run with k=3 and *without* distance weighting and *without* normalization\n",
        "- Show train and test set accuracy"
      ]
    },
    {
      "cell_type": "code",
      "execution_count": 5,
      "metadata": {
        "id": "4SSoasDQSKXb",
        "colab": {
          "base_uri": "https://localhost:8080/"
        },
        "outputId": "76010ad2-9141-4489-ec57-1a512a970d2c"
      },
      "outputs": [
        {
          "output_type": "stream",
          "name": "stdout",
          "text": [
            "Trial #1\n",
            "Training Accuracy: 0.8863038906414301\n",
            "Test Accuracy: 0.806782334384858\n",
            "\n",
            "Trial #2\n",
            "Training Accuracy: 0.8853838065194533\n",
            "Test Accuracy: 0.7896950578338591\n",
            "\n",
            "Trial #3\n",
            "Training Accuracy: 0.8844637223974764\n",
            "Test Accuracy: 0.7928496319663512\n",
            "\n"
          ]
        }
      ],
      "source": [
        "# Learn magic telescope data\n",
        "\n",
        "# Import the data from iris.arff\n",
        "Data_Set = arff.loadarff('magic_telescope.arff')\n",
        "iris_df = pd.DataFrame(Data_Set[0])\n",
        "Data_Set_np = iris_df.to_numpy()\n",
        "\n",
        "# Separate data into array of inputs and targets and make it binary\n",
        "X = Data_Set_np[:, :-1]\n",
        "X = X.astype(float)\n",
        "y = Data_Set_np[:, -1]\n",
        "y[y == b'g'] = 0\n",
        "y[y == b'h'] = 1\n",
        "y = y.astype(float)\n",
        "\n",
        "# Training and test split\n",
        "for i in range(3):\n",
        "    print(f\"Trial #{i+1}\")\n",
        "    X_train, X_test, y_train, y_test = train_test_split(X, y, test_size=0.20)\n",
        "    clf = KNeighborsClassifier(n_neighbors=3, weights=\"uniform\").fit(X_train, y_train)\n",
        "    print(\"Training Accuracy:\", clf.score(X_train, y_train))\n",
        "    print(\"Test Accuracy:\", clf.score(X_test, y_test))\n",
        "    print()"
      ]
    },
    {
      "cell_type": "markdown",
      "metadata": {
        "id": "ceqi9sMxf6Ax"
      },
      "source": [
        "*Discussion*\n",
        "\n",
        "For this problem, I ran the 80%-20% training-test split on the data three different times. Each time, I ran the KNN model with a k value of 3 and without normaliziation. Also, I recorded the training accuracy and test accuracy. The training accuracy was always around 88.5% and the test accuracy was about 80%. This is relatively accuracte. But, I believe that it can improve based on a better use of hyperparemeters."
      ]
    },
    {
      "cell_type": "markdown",
      "metadata": {
        "id": "7g72uPxnf6Ay"
      },
      "source": [
        "### 2.2 (10%) With Normalization\n",
        "- Try it with k=3 without distance weighting but *with* normalization of input features.  You may use any reasonable normalization approach (e.g. standard min-max normalization between 0-1, z-transform, etc.)"
      ]
    },
    {
      "cell_type": "code",
      "execution_count": 6,
      "metadata": {
        "colab": {
          "base_uri": "https://localhost:8080/"
        },
        "id": "rgGrAD51f6Ay",
        "outputId": "f16b8050-4662-4bcf-e876-d31eb5fc4907"
      },
      "outputs": [
        {
          "output_type": "stream",
          "name": "stdout",
          "text": [
            "Trial #1\n",
            "Training Accuracy: 0.9013538380651945\n",
            "Test Accuracy: 0.8401682439537329\n",
            "\n",
            "Trial #2\n",
            "Training Accuracy: 0.9016824395373291\n",
            "Test Accuracy: 0.8364879074658255\n",
            "\n",
            "Trial #3\n",
            "Training Accuracy: 0.9006309148264984\n",
            "Test Accuracy: 0.8288643533123028\n",
            "\n"
          ]
        }
      ],
      "source": [
        "# Train/Predict with normalization\n",
        "\n",
        "# Normalize the data with standard min-max normalization\n",
        "from sklearn import preprocessing as p\n",
        "X = p.MinMaxScaler().fit_transform(X)\n",
        "\n",
        "# Train the model\n",
        "for i in range(3):\n",
        "    print(f\"Trial #{i+1}\")\n",
        "    X_train, X_test, y_train, y_test = train_test_split(X, y, test_size=0.20)\n",
        "    clf = KNeighborsClassifier(n_neighbors=3, weights=\"uniform\").fit(X_train, y_train)\n",
        "    print(\"Training Accuracy:\", clf.score(X_train, y_train))\n",
        "    print(\"Test Accuracy:\", clf.score(X_test, y_test))\n",
        "    print()"
      ]
    },
    {
      "cell_type": "markdown",
      "metadata": {
        "id": "a0ragF-df6Ay"
      },
      "source": [
        "*Discuss the results of using normalized data vs. unnormalized data*\n",
        "\n",
        "For this problem, I used sklearn's prepocessing module to normalize the data. In specific, I chose the min-max approach which sets the largest value of each feature to 1 and the smallest to 0 (with everything else somewhere in between, based on their proportions to the largest value). After this slight modification to the data, I was not surprised to see that both the training accuracy and the test accuracies increased by about 2%. This makes sense because the data set had some features with values in the hundreds and other features with values always less than one. Normalizing the data made it so that each feature had an equal impact on the distance metric used to find the nearest neighbors. In other words, it prevented large numbers from making points feel farther than they actually are from the novel inputs."
      ]
    },
    {
      "cell_type": "markdown",
      "metadata": {
        "id": "RCyaYF_Rf6Ay"
      },
      "source": [
        "### 2.3 (10%) With Distance Weighting\n",
        "- Try it with k=3 and with distance weighting *and* normalization"
      ]
    },
    {
      "cell_type": "code",
      "execution_count": 7,
      "metadata": {
        "colab": {
          "base_uri": "https://localhost:8080/"
        },
        "id": "HJmcCMUYf6Ay",
        "outputId": "fc4b23b3-847c-49b5-8449-4933d1446233"
      },
      "outputs": [
        {
          "output_type": "stream",
          "name": "stdout",
          "text": [
            "Trial #1\n",
            "Training Accuracy: 1.0\n",
            "Test Accuracy: 0.8233438485804416\n",
            "\n",
            "Trial #2\n",
            "Training Accuracy: 1.0\n",
            "Test Accuracy: 0.8225552050473186\n",
            "\n",
            "Trial #3\n",
            "Training Accuracy: 1.0\n",
            "Test Accuracy: 0.8349106203995794\n",
            "\n"
          ]
        }
      ],
      "source": [
        "#Train/Precdict with normalization and distance weighting\n",
        "# Note: The Data is already saved as normalized\n",
        "# Train the model\n",
        "for i in range(3):\n",
        "    print(f\"Trial #{i+1}\")\n",
        "    X_train, X_test, y_train, y_test = train_test_split(X, y, test_size=0.20)\n",
        "    clf = KNeighborsClassifier(n_neighbors=3, weights=\"distance\").fit(X_train, y_train)\n",
        "    print(\"Training Accuracy:\", clf.score(X_train, y_train))\n",
        "    print(\"Test Accuracy:\", clf.score(X_test, y_test))\n",
        "    print()"
      ]
    },
    {
      "cell_type": "markdown",
      "metadata": {
        "id": "NDaYBM1Tf6Az"
      },
      "source": [
        "Comparison and Discussion\n",
        "\n",
        "This time, using the normalized data, I also used distance weighting. This gave nodes that were closer to the inputs a larger vote for classification. This vastly improved the training accuracy, making it an outstanding 100%. Also, the test accuracy improved by about 1.5-2% I was not surprised to see these numbers improve because the nodes that are closer are more likely to give more accurate predictions (since they share more similar features). But, I was surprised by how much the training accuracy improved. So, it is possible that this model overfit the data. This makes me wonder how the different k-values may affect the accuracy."
      ]
    },
    {
      "cell_type": "markdown",
      "metadata": {
        "id": "drWuDtyQf6Az"
      },
      "source": [
        "### 2.4 (10%) Different k Values\n",
        "- Using your normalized data with distance weighting, create one graph with classification accuracy on the test set on the y-axis and k values on the x-axis.\n",
        "- Use values of k from 1 to 15.  Use the same train/test split for each."
      ]
    },
    {
      "cell_type": "code",
      "execution_count": 8,
      "metadata": {
        "colab": {
          "base_uri": "https://localhost:8080/",
          "height": 472
        },
        "id": "tUvkdhlCf6Az",
        "outputId": "dc84fd8f-55c2-49fd-aa3c-921fb88d8d02"
      },
      "outputs": [
        {
          "output_type": "display_data",
          "data": {
            "text/plain": [
              "<Figure size 640x480 with 1 Axes>"
            ],
            "image/png": "[encoded data removed]"
          },
          "metadata": {}
        }
      ],
      "source": [
        "# Calculate and Graph classification accuracy vs k values\n",
        "# Note: The Data is already saved as normalized\n",
        "\n",
        "K = np.arange(1, 16)\n",
        "test_accuracy = []\n",
        "\n",
        "# Train the model on various values of k\n",
        "for k in K:\n",
        "    X_train, X_test, y_train, y_test = train_test_split(X, y, test_size=0.20)\n",
        "    clf = KNeighborsClassifier(n_neighbors=k, weights=\"distance\").fit(X_train, y_train)\n",
        "    test_accuracy.append(clf.score(X_test, y_test))\n",
        "\n",
        "# Graph it\n",
        "plt.title(\"KNN Model with different k-values\")\n",
        "plt.plot(K, test_accuracy)\n",
        "plt.xlabel(\"Value of k\")\n",
        "plt.ylabel(\"Classification Accuracy\")\n",
        "plt.show()\n"
      ]
    },
    {
      "cell_type": "markdown",
      "metadata": {
        "id": "7j_kLOfHf6Az"
      },
      "source": [
        "*Discussion*\n",
        "\n",
        "Using the normalized input and distance weighted, I experimented with various k-values for the KNN model. The k-value represents the number of k-nearest nodes that the model takes the vote of when predicting the class of an input vector. As k increases, the model is much less likely to overfit since the majority vote of the nodes is less likely to contain noise. But, if k is too large, it may decrease overall accuracy by giving more vote to further nodes.\n",
        "\n",
        "On this specific data set, the test accuracy improved from 80% to 85% as the value of k increased from 1 to 15. This was not a surprise because increasing the k-value decreases the likelihood that a model overfits. For this particular problem, it may be optimal to use a k-value of about 6. This is because after 6, the test accuracy does not see much improvement."
      ]
    },
    {
      "cell_type": "markdown",
      "metadata": {
        "id": "SIRG42TgSR4x"
      },
      "source": [
        "## 3 KNN Regression with normalization and distance weighting\n",
        "\n",
        "Use the [sklean KNeighborsRegressor](https://scikit-learn.org/stable/modules/generated/sklearn.neighbors.KNeighborsRegressor.html#sklearn.neighbors.KNeighborsRegressor) on the [housing price prediction](https://axon.cs.byu.edu/data/uci_regression/housing.arff) problem.  \n",
        "### 3.1 (5%) Ethical Data\n",
        "Note this data set has an example of an inappropriate input feature which we discussed.  State which feature is inappropriate and discuss why."
      ]
    },
    {
      "cell_type": "code",
      "source": [
        "Data_Set = arff.loadarff('Housing.arff')\n",
        "iris_df = pd.DataFrame(Data_Set[0])\n",
        "Data_Set_np = iris_df.to_numpy()\n",
        "\n",
        "# Separate data into array of inputs and targets\n",
        "X = Data_Set_np[:, :-1]\n",
        "y = Data_Set_np[:, -1]\n",
        "\n",
        "# Remove the unethical data\n",
        "X = np.delete(X, 11, 1)\n",
        "\n",
        "# Cast to float\n",
        "X = X.astype(np.float64)\n",
        "y = y.astype(np.float64)\n",
        "\n",
        "# Run the model\n",
        "X_train, X_test, y_train, y_test = train_test_split(X, y, test_size=0.20)\n",
        "clf = KNeighborsRegressor().fit(X_train, y_train)\n",
        "\n",
        "print(\"Training Accuracy:\", clf.score(X_train, y_train))\n",
        "print(\"Test Accuracy:\", clf.score(X_test, y_test))"
      ],
      "metadata": {
        "colab": {
          "base_uri": "https://localhost:8080/"
        },
        "id": "Wwin8U38PL7s",
        "outputId": "7b6626b6-3236-499d-dfe7-f0704990971c"
      },
      "execution_count": 9,
      "outputs": [
        {
          "output_type": "stream",
          "name": "stdout",
          "text": [
            "Training Accuracy: 0.7509630866342464\n",
            "Test Accuracy: 0.46004429745084396\n"
          ]
        }
      ]
    },
    {
      "cell_type": "markdown",
      "metadata": {
        "id": "H1Gcr_82f6Az"
      },
      "source": [
        "*Discuss the innapropriate feature*\n",
        "\n",
        "This time I imported a data set used to predict housing prices and ran the KNN regressor on it. However, after looking at the set, I discovered that the 12th feature may be unethical. This feature measured the proportion of blacks in the town. Because of the racist past of our country, housing prices in black communities have likely been lower than those of other communities. This model may use the statistic to estimate lower than accurate housing prices in these black communities. This would promote systemic racism, making black communities less likely to increase their standard of living. So, in order to avoid this problem, I removed the entire feature from the data set and will not be using it in my future analysis.\n"
      ]
    },
    {
      "cell_type": "markdown",
      "metadata": {
        "id": "Jkd9Bbgxf6Az"
      },
      "source": [
        "### 3.2 (15%) - KNN Regression\n",
        "- Do random 80/20 train/test splits each time\n",
        "- Run with k=3\n",
        "- Print the score (coefficient of determination) and Mean Absolute Error (MAE) for the train and test set for the cases of\n",
        "  - No input normalization and no distance weighting\n",
        "  - Normalization and no distance weighting\n",
        "  - Normalization and distance weighting\n",
        "- Normalize inputs features where needed but do not normalize the output"
      ]
    },
    {
      "cell_type": "code",
      "execution_count": 27,
      "metadata": {
        "id": "KBGUn43ASiXW",
        "colab": {
          "base_uri": "https://localhost:8080/"
        },
        "outputId": "47a0a645-2e12-43ff-884c-ed089d51a3f1"
      },
      "outputs": [
        {
          "output_type": "stream",
          "name": "stdout",
          "text": [
            "_____No input normalization and no distance weighting_____\n",
            "Training Score: 0.7965858326027181\n",
            "Test Score: 0.6349850461094113\n",
            "Training MAE 2.646287128712871\n",
            "Testing MAE 4.037254901960784\n",
            "\n",
            "_____Input normalization but no distance weighting_____\n",
            "Training Score: 0.8924492059426781\n",
            "Test Score: 0.7498782900066746\n",
            "Training MAE 1.9547854785478544\n",
            "Testing MAE 3.243464052287581\n",
            "\n",
            "_____Input normalization and distance weighting_____\n",
            "Training Score: 1.0\n",
            "Test Score: 0.7717819193832738\n",
            "Training MAE 0.0\n",
            "Testing MAE 3.0033554920882835\n"
          ]
        }
      ],
      "source": [
        "Data_Set = arff.loadarff('Housing.arff')\n",
        "iris_df = pd.DataFrame(Data_Set[0])\n",
        "Data_Set_np = iris_df.to_numpy()\n",
        "\n",
        "# Separate data into array of inputs and targets\n",
        "X = Data_Set_np[:, :-1]\n",
        "y = Data_Set_np[:, -1]\n",
        "\n",
        "# Remove the unethical data\n",
        "X = np.delete(X, 11, 1)\n",
        "\n",
        "# Cast to float\n",
        "X = X.astype(np.float64)\n",
        "y = y.astype(np.float64)\n",
        "\n",
        "\n",
        "# No input normalization and no distance weighting\n",
        "X_train, X_test, y_train, y_test = train_test_split(X, y, test_size=0.20)\n",
        "clf = KNeighborsRegressor(n_neighbors=3).fit(X_train, y_train)\n",
        "print(\"_____No input normalization and no distance weighting_____\")\n",
        "print(\"Training Score:\", clf.score(X_train, y_train))\n",
        "print(\"Test Score:\", clf.score(X_test, y_test))\n",
        "print(\"Training MAE\", mean_absolute_error(clf.predict(X_train), y_train))\n",
        "print(\"Testing MAE\", mean_absolute_error(clf.predict(X_test), y_test))\n",
        "print()\n",
        "\n",
        "# Input normalization but no distance weighting\n",
        "from sklearn import preprocessing as p\n",
        "X = p.MinMaxScaler().fit_transform(X)\n",
        "X_train, X_test, y_train, y_test = train_test_split(X, y, test_size=0.20)\n",
        "clf = KNeighborsRegressor(n_neighbors=3).fit(X_train, y_train)\n",
        "print(\"_____Input normalization but no distance weighting_____\")\n",
        "print(\"Training Score:\", clf.score(X_train, y_train))\n",
        "print(\"Test Score:\", clf.score(X_test, y_test))\n",
        "print(\"Training MAE\", mean_absolute_error(clf.predict(X_train), y_train))\n",
        "print(\"Testing MAE\", mean_absolute_error(clf.predict(X_test), y_test))\n",
        "print()\n",
        "\n",
        "# Input normalization and distance weighting\n",
        "X_train, X_test, y_train, y_test = train_test_split(X, y, test_size=0.20)\n",
        "clf = KNeighborsRegressor(n_neighbors=3, weights=\"distance\").fit(X_train, y_train)\n",
        "print(\"_____Input normalization and distance weighting_____\")\n",
        "print(\"Training Score:\", clf.score(X_train, y_train))\n",
        "print(\"Test Score:\", clf.score(X_test, y_test))\n",
        "print(\"Training MAE\", mean_absolute_error(clf.predict(X_train), y_train))\n",
        "print(\"Testing MAE\", mean_absolute_error(clf.predict(X_test), y_test))"
      ]
    },
    {
      "cell_type": "markdown",
      "metadata": {
        "id": "fmU8Td-Ef6Az"
      },
      "source": [
        "*Discuss your results*\n",
        "\n",
        "This time, using the input set without the unethical feature, I ran the KNN Regressor. First, I did it without normalization and without distance weighting. This yielded a training score of 81%, testing score of 64%. Also, the training mean average error was 2.6 and testing MAE was 48. These results were not optimal. So, I ran the same model, but this time with the input normalized. This improved the both the training and test accuracies by about 10%. Also, it decreased the testing MAE by 1.1. This makes sense becuase the original data set had some features with very large numbers and others with small ones. Normalizing meade each feature have an equal impact on the model.\n",
        "\n",
        "Finally, I ran the same model agian. But, this time I added distance weighting to give the closer nodes more say in each vote. This vastly improved the training accuracy, making it 100%. And, it reduced the training MAE to 0.But, it only marginally improved testing score/MAE. So, all in all, it was the best way to run the model."
      ]
    },
    {
      "cell_type": "markdown",
      "metadata": {
        "id": "_XW5IpEKf6A0"
      },
      "source": [
        "### 3.3 (10%)  Different k Values\n",
        "- Using housing with normalized data and distance weighting, create one graph with MAE on the test set on the y-axis and k values on the x-axis\n",
        "- Use values of k from 1 to 15.  Use the same train/test split for each."
      ]
    },
    {
      "cell_type": "code",
      "execution_count": 35,
      "metadata": {
        "colab": {
          "base_uri": "https://localhost:8080/",
          "height": 472
        },
        "id": "TkEiDwTRf6A0",
        "outputId": "6fd5c1a7-64fc-4839-f357-ec0a63147d25"
      },
      "outputs": [
        {
          "output_type": "display_data",
          "data": {
            "text/plain": [
              "<Figure size 640x480 with 1 Axes>"
            ],
            "image/png": "[encoded data removed]"
          },
          "metadata": {}
        }
      ],
      "source": [
        "# Learn and graph for different k values\n",
        "\n",
        "K = np.arange(1, 16)\n",
        "MAE = []\n",
        "\n",
        "# Note: The data is already normalized\n",
        "# Train the model on various values of k\n",
        "X_train, X_test, y_train, y_test = train_test_split(X, y, test_size=0.20)\n",
        "for k in K:\n",
        "    clf = KNeighborsRegressor(n_neighbors=k, weights=\"distance\").fit(X_train, y_train)\n",
        "    MAE.append(mean_absolute_error(clf.predict(X_test), y_test))\n",
        "\n",
        "# Graph it\n",
        "plt.title(\"KNN Model with different k-values\")\n",
        "plt.plot(K, MAE)\n",
        "plt.xlabel(\"Value of k\")\n",
        "plt.ylabel(\"Testing Mean Average Error\")\n",
        "plt.show()"
      ]
    },
    {
      "cell_type": "markdown",
      "metadata": {
        "id": "A2VQTTCJf6A0"
      },
      "source": [
        "Discussion\n",
        "\n",
        "This time, I analyzed the effects of the value for k on the KNN Regressor. The k-value represents the number of neighbors that are used to vote for each input. When k was 1, the model had a large testing mean average error. This makes sense because it was lenient to noise. As k increased to 4, the MAE was minimized at about 3.2. However, as k increased beyond 4, the MAE actually increased once again. Initially, I was surprised to see this. But, I realized that if k is too high, nodes that are actually far away from the node get to vote. This decreases the overall accuracy because the input is more likely to be similar to the nodes that it is closer too. So, for this particular case, I beleive that the optimal value for k is 4."
      ]
    },
    {
      "cell_type": "markdown",
      "metadata": {
        "id": "l8gdNjIsf6A0"
      },
      "source": [
        "## 4. (20%) KNN with nominal and real data\n",
        "\n",
        "- Use the [lymph dataset](https://axon.cs.byu.edu/data/uci_class/lymph.arff)\n",
        "- Use a 80/20 split of the data for the training/test set\n",
        "- This dataset has both continuous and nominal attributes\n",
        "- Implement a distance metric which uses Euclidean distance for continuous features and 0/1 distance for nominal. Hints:\n",
        "    - Write your own distance function (e.g. mydist) and use clf = KNeighborsClassifier(metric=mydist)\n",
        "    - Change the nominal features in the data set to integer values since KNeighborsClassifier expects numeric features. I used Label_Encoder on the nominal features.\n",
        "    - Keep a list of which features are nominal which mydist can use to decide which distance measure to use\n",
        "    - There was an occasional bug in SK version 1.3.0 (\"Flags object has no attribute 'c_contiguous'\") that went away when I upgraded to the lastest SK version 1.3.1\n",
        "- Use your own choice for k and other parameters"
      ]
    },
    {
      "cell_type": "code",
      "execution_count": 66,
      "metadata": {
        "id": "GdJo47Wtf6A0"
      },
      "outputs": [],
      "source": [
        "# Train/Predict lymph with your own distance metric\n",
        "Data_Set = arff.loadarff('lymph.arff')\n",
        "iris_df = pd.DataFrame(Data_Set[0])\n",
        "Data_Set_np = iris_df.to_numpy()\n",
        "\n",
        "# Separate data into array of inputs and targets\n",
        "X = Data_Set_np[:, 1:-1]\n",
        "y = Data_Set_np[:, 0]\n",
        "\n",
        "# Convert nominal data to integers (following same pattern as .arff file)\n",
        "\n",
        "# All binary yes and no's  (automatically will follow 0/1 function)\n",
        "X[X == b'no'] = 1\n",
        "X[X == b'yes'] = 2\n",
        "\n",
        "# Class\n",
        "y[y == b'normal'] = 1\n",
        "y[y == b'arched'] = 2\n",
        "y[y == b'deformed'] = 3\n",
        "y[y == b'displaced'] = 4\n",
        "\n",
        "# Feature 10\n",
        "X[X == b'bean'] = 1\n",
        "X[X == b'oval'] = 2\n",
        "X[X == b'round'] = 3\n",
        "\n",
        "# Feature 11, 12\n",
        "X[X == b'lacunar'] = 2\n",
        "X[X == b'lac_margin'] = 3\n",
        "X[X == b'lac_central'] = 4\n",
        "\n",
        "# Feature 13\n",
        "X[X == b'grainy'] = 2\n",
        "X[X == b'drop_like'] = 3\n",
        "X[X == b'coarse'] = 4\n",
        "X[X == b'diluted'] = 5\n",
        "X[X == b'reticular'] = 6\n",
        "X[X == b'stripped'] = 7\n",
        "X[X == b'faint'] = 8\n",
        "\n",
        "# Feature 14\n",
        "X[X == b'chalices'] = 2\n",
        "X[X == b'vesicles'] = 3\n",
        "\n",
        "X = X.astype(np.float64)\n",
        "y = y.astype(np.float64)"
      ]
    },
    {
      "cell_type": "code",
      "source": [
        "def mydist(x, y):\n",
        "    \"\"\"\n",
        "    Calculate the distance between two vectors\n",
        "    If the features are nomiral, uses a 0/1 distance\n",
        "    If the features are real, uses Euclidean\n",
        "    \"\"\"\n",
        "    # Note, binary features can be accounted for like real ones\n",
        "    # (since the function returns the same result either way)\n",
        "    nominal_features = [0, 10, 11, 12, 13, 14]   # indices of the nominal feautres\n",
        "    distance = 0\n",
        "    for i in range(len(x)):\n",
        "        if i in nominal_features:\n",
        "            if x[i] != y[i]:    # If nominal value not the same\n",
        "                distance += 1\n",
        "        else:\n",
        "            distance += abs(x[i] - y[i])**2   # If continuous, use square of distance diffences\n",
        "    return distance ** (1/2)     # Make if Euclidean"
      ],
      "metadata": {
        "id": "wrv-phkijfww"
      },
      "execution_count": 123,
      "outputs": []
    },
    {
      "cell_type": "code",
      "source": [
        "X_train, X_test, y_train, y_test = train_test_split(X, y, test_size=0.20)\n",
        "clf = KNeighborsClassifier(n_neighbors=3, weights=\"distance\", metric=mydist).fit(X_train, y_train)\n",
        "print(\"Training Accuracy:\", clf.score(X_train, y_train))\n",
        "print(\"Test Accuracy:\", clf.score(X_test, y_test))"
      ],
      "metadata": {
        "colab": {
          "base_uri": "https://localhost:8080/"
        },
        "id": "ULIwqZywmCrL",
        "outputId": "2519dad7-cbbd-4969-ffeb-95449d1242e2"
      },
      "execution_count": 130,
      "outputs": [
        {
          "output_type": "stream",
          "name": "stdout",
          "text": [
            "Training Accuracy: 1.0\n",
            "Test Accuracy: 0.5\n"
          ]
        }
      ]
    },
    {
      "cell_type": "markdown",
      "metadata": {
        "id": "1XHyhzrrf6A0"
      },
      "source": [
        "*Explain your distance metric and discuss your results*\n",
        "\n",
        "This time, I ran the KNN model on the lymph data set. This data set had both nominal and real data. So, first, I manually edited the attributes in each feature to make them integers (using the same key as the one in the arff file). Then, I created my own distance function to measure the distance. Using a stored list of the indices of the nominal data, this function returned a distance of 1 if the nominal features were different and 0 if they were the same. Then, for the real inputs, the square of the differences was added. I treated the binary data as real since it would yield the same results either way. Finally, for the total distance for each input, I added the nominal distances and real distances and took the square root (making it resemble the standard Euclidean distance).\n",
        "\n",
        "After creating this function, I ran the KNeighborClassifier on it with my new distance function. I also used a k-value of 3 and the weighted distance measure. This resulted in a training accuracy of 100%. But, the test accuracy was only 40-50%, which was much less than expected. This accuracy is sill better than nothing (since baseline accuracy is about 25%). But, it was definately not perfect. This means that the model overfit the data. More analysis is needed to determine the root of this overfit."
      ]
    },
    {
      "cell_type": "markdown",
      "metadata": {
        "id": "cpOku4fof6A0"
      },
      "source": [
        "## 5. (Optional 15% extra credit) Code up your own KNN Learner\n",
        "Below is a scaffold you could use if you want. Requirements for this task:\n",
        "- Your model should support the methods shown in the example scaffold below\n",
        "- Use Euclidean distance to decide closest neighbors\n",
        "- Implement both the classification and regression versions\n",
        "- Include optional distance weighting for both algorithms\n",
        "- Run your algorithm on the magic telescope and housing data sets above and discuss and compare your results"
      ]
    },
    {
      "cell_type": "code",
      "execution_count": 160,
      "metadata": {
        "id": "_z8aI8xDf6A0"
      },
      "outputs": [],
      "source": [
        "from sklearn.base import BaseEstimator, ClassifierMixin\n",
        "from scipy import linalg as la\n",
        "\n",
        "class KNNClassifier(BaseEstimator,ClassifierMixin):\n",
        "    def __init__(self, columntype=[], weight_type='inverse_distance', k=1, distance_weighting=False): ## add parameters here\n",
        "        \"\"\"\n",
        "        Args:\n",
        "            columntype for each column tells you if continues[real] or if nominal[categoritcal].\n",
        "            weight_type: inverse_distance voting or if non distance weighting. Options = [\"no_weight\",\"inverse_distance\"]\n",
        "        \"\"\"\n",
        "        self.columntype = columntype #Note This won't be needed until part 5\n",
        "        self.weight_type = weight_type\n",
        "        self.k = k        # Number of nearest neighbors\n",
        "        self.distance_weighting = distance_weighting\n",
        "\n",
        "    def fit(self, data, labels):\n",
        "        \"\"\" Fit the data; run the algorithm (for this lab really just saves the data :D)\n",
        "        Args:\n",
        "            X (array-like): A 2D numpy array with the training data, excluding targets\n",
        "            y (array-like): A 2D numpy array with the training targets\n",
        "        Returns:\n",
        "            self: this allows this to be chained, e.g. model.fit(X,y).predict(X_test)\n",
        "        \"\"\"\n",
        "        self.X = data\n",
        "        self.y = labels\n",
        "        return self\n",
        "\n",
        "    def nearest_neighbors(self, data):\n",
        "        \"\"\"\n",
        "        Finds the k nearest neighbors of a specific instance\n",
        "        Returns the indices of the k nearest neighbor and its distance\n",
        "        Also returns corresponding distances\n",
        "        \"\"\"\n",
        "        neighbors = []\n",
        "        norms = []   #list of distances\n",
        "        distances = []   # used for k smallest distances\n",
        "        for point in self.X:\n",
        "            norms.append(la.norm(point - data))   #add distance of each point\n",
        "        nearest_neighbor = self.X[np.argmin(norms)]\n",
        "        for i in range(self.k):\n",
        "            neighbors.append(np.argmin(norms))\n",
        "            distances.append(min(norms))\n",
        "            norms[np.argmin(norms)] = np.inf # Set to infity so no longer smallest\n",
        "        return neighbors, distances   #returns the points with smallest distance and its distance\n",
        "\n",
        "\n",
        "    def predict(self, data):\n",
        "        \"\"\" Predict all classes for a dataset X\n",
        "        Args:\n",
        "            X (array-like): A 2D numpy array with the training data, excluding targets\n",
        "        Returns:\n",
        "            array, shape (n_samples,)\n",
        "                Predicted target values per element in X.\n",
        "        \"\"\"\n",
        "        predictions = []\n",
        "        for point in data:\n",
        "            # find nearest neighbors and corresponding distances to corresponding point\n",
        "            k_nearest_neighbors, distances = self.nearest_neighbors(point)\n",
        "            guesses = self.y[k_nearest_neighbors]    # To store classes of each of the nearest neighbors\n",
        "            if not self.distance_weighting:    # No distance weighting, pick top vote\n",
        "                set_of_classes = set()\n",
        "                for guess in guesses:\n",
        "                    set_of_classes.add(guess)   # Find which target values exist in k neighbors\n",
        "                classes = sorted(set_of_classes)\n",
        "                scores = [0] * len(set_of_classes)  # To store distance value\n",
        "                for i in range(len(guesses)):    # For each class prediction in k-nearest neighbors\n",
        "                    scores[classes.index(guesses[i])] += 1\n",
        "                prediction = classes[np.argmax(scores)]    # Find class prediction based on highest score\n",
        "            else:     # Distance weighting\n",
        "                set_of_classes = set()\n",
        "                for guess in guesses:\n",
        "                    set_of_classes.add(guess)   # Find which target values exist in k neighbors\n",
        "                classes = sorted(set_of_classes)\n",
        "                scores = [0] * len(set_of_classes)  # To store weighted distance value\n",
        "                for i in range(len(guesses)):    # For each class prediction in k-nearest neighbors\n",
        "                    if distances[i] == 0:  weight = np.inf  # Avoid dividing by 0\n",
        "                    else:  weight = 1 / (distances[i] ** 2)\n",
        "                    scores[classes.index(guesses[i])] += weight\n",
        "                prediction = classes[np.argmax(scores)]    # Find class prediction based on highest score\n",
        "            predictions.append(prediction)\n",
        "        return predictions\n",
        "\n",
        "    #Returns the Mean score given input data and labels\n",
        "    def score(self, X, y):\n",
        "        \"\"\" Return accuracy of model on a given dataset. Must implement own score function.\n",
        "        Args:\n",
        "            X (array-like): A 2D numpy array with data, excluding targets\n",
        "            y (array-like): A 2D numpy array with targets\n",
        "        Returns:\n",
        "            score : float\n",
        "                Mean accuracy of self.predict(X) wrt. y.\n",
        "        \"\"\"\n",
        "        prediction = self.predict(X)\n",
        "        i = 0\n",
        "        num_incorrect = 0\n",
        "        for guess in prediction:\n",
        "            if guess != y[i]:\n",
        "                num_incorrect += 1\n",
        "            i += 1\n",
        "        return 1 - num_incorrect / len(y)"
      ]
    },
    {
      "cell_type": "code",
      "source": [
        "Data_Set = arff.loadarff('magic_telescope.arff')\n",
        "iris_df = pd.DataFrame(Data_Set[0])\n",
        "Data_Set_np = iris_df.to_numpy()\n",
        "\n",
        "# Separate data into array of inputs and targets and make it binary\n",
        "X = Data_Set_np[:, :-1]\n",
        "X = X.astype(float)\n",
        "y = Data_Set_np[:, -1]\n",
        "y[y == b'g'] = 0\n",
        "y[y == b'h'] = 1\n",
        "y = y.astype(float)\n",
        "\n",
        "# Training and test split\n",
        "X_train, X_test, y_train, y_test = train_test_split(X, y, test_size=0.20)\n",
        "clf = KNNClassifier(k=3).fit(X_train, y_train)\n",
        "print(\"Training Accuracy:\", clf.score(X_train, y_train))\n",
        "print(\"Test Accuracy:\", clf.score(X_test, y_test))"
      ],
      "metadata": {
        "colab": {
          "base_uri": "https://localhost:8080/"
        },
        "id": "zH-V4U5mT6_D",
        "outputId": "c2f9d325-d7ad-4ddc-e8dd-c629fd2f228f"
      },
      "execution_count": 166,
      "outputs": [
        {
          "output_type": "stream",
          "name": "stdout",
          "text": [
            "Training Accuracy: 0.8843980021030494\n",
            "Test Accuracy: 0.8012618296529969\n"
          ]
        }
      ]
    },
    {
      "cell_type": "code",
      "source": [
        "Data_Set = arff.loadarff('Housing.arff')\n",
        "iris_df = pd.DataFrame(Data_Set[0])\n",
        "Data_Set_np = iris_df.to_numpy()\n",
        "\n",
        "# Separate data into array of inputs and targets\n",
        "X = Data_Set_np[:, :-1]\n",
        "y = Data_Set_np[:, -1]\n",
        "\n",
        "# Remove the unethical data\n",
        "X = np.delete(X, 11, 1)\n",
        "\n",
        "# Cast to float\n",
        "X = X.astype(np.float64)\n",
        "y = y.astype(np.float64)\n",
        "\n",
        "from sklearn import preprocessing as p\n",
        "X = p.MinMaxScaler().fit_transform(X)\n",
        "# Input normalization and distance weighting\n",
        "X_train, X_test, y_train, y_test = train_test_split(X, y, test_size=0.20)\n",
        "clf = KNNClassifier(k=3, distance_weighting=True).fit(X_train, y_train)\n",
        "print(clf.score(X_train, y_train))\n",
        "\n",
        "print(\"Training Score:\", clf.score(X_train, y_train))\n",
        "print(\"Test Score:\", clf.score(X_test, y_test))\n",
        "print(\"Training MAE\", mean_absolute_error(clf.predict(X_train), y_train))\n",
        "print(\"Testing MAE\", mean_absolute_error(clf.predict(X_test), y_test))"
      ],
      "metadata": {
        "colab": {
          "base_uri": "https://localhost:8080/"
        },
        "id": "I09jvvdr8kv0",
        "outputId": "953474aa-4cb0-4392-eacf-510099a2c8d9"
      },
      "execution_count": 167,
      "outputs": [
        {
          "output_type": "stream",
          "name": "stdout",
          "text": [
            "1.0\n",
            "Training Score: 1.0\n",
            "Test Score: 0.019607843137254943\n",
            "Training MAE 0.0\n",
            "Testing MAE 3.8774509803921564\n"
          ]
        }
      ]
    },
    {
      "cell_type": "markdown",
      "metadata": {
        "id": "p41QDo1Nf6A0"
      },
      "source": [
        "*Discussion*\n",
        "\n",
        "I created the KNN Learner myself with the code above. For my code, I first implemented a function to find the k-nearest neighbors of a specific instance (based on the Euclidean algorithm). For this assignment, I used the brute-force method. So, it took quite a long time for the algorithm to run on the large \"magic_telescope\" data file. But, if I were to do it again, I would implemenet a K-tree algorithm to improve the runtime. Also, in my algorithm, I allowed users to choose if they want distance weighting or not. If they did, the algorithm used a formula to weight the votes based on distance. Otherwise, it just selected the majority vote. My algorithm works both for regression and classification.\n",
        "\n",
        "Overall, my algorithm yielded similar results to the classic Sklearn model. For the housing.arff file (with distance weighting), I had an overall training score of about 100%. But, my test accuracy was only 2%. Also, my training MAE was 0 and the tes MAE was 3.87. These results were less accurate than the Sklearn model, but still very accurate. And, for the magic_telescope data, the model took quite a long tie to run. But, its final training accuracy was 88.5% which is the exact same as the training accuracy on the Sklearn model. And, its testing accuracy was 80%.\n",
        "\n",
        "All in all, I was surprised to see how easy it is to write up a K-Nearest Neighbor algorithm. My algorithm closely resembled Sklearn, but was not quite as accurate. More work is needed to improve the efficiency. But, I now have a much better understanding about how the algorithm works as a whole."
      ]
    }
  ],
  "metadata": {
    "colab": {
      "provenance": []
    },
    "kernelspec": {
      "display_name": "Python 3.10.7 64-bit",
      "language": "python",
      "name": "python3"
    },
    "language_info": {
      "codemirror_mode": {
        "name": "ipython",
        "version": 3
      },
      "file_extension": ".py",
      "mimetype": "text/x-python",
      "name": "python",
      "nbconvert_exporter": "python",
      "pygments_lexer": "ipython3",
      "version": "3.10.7"
    },
    "vscode": {
      "interpreter": {
        "hash": "aee8b7b246df8f9039afb4144a1f6fd8d2ca17a180786b69acc140d282b71a49"
      }
    }
  },
  "nbformat": 4,
  "nbformat_minor": 0
}