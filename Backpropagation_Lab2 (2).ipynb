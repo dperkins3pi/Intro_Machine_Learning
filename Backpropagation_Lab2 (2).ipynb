{
  "cells": [
    {
      "cell_type": "markdown",
      "metadata": {
        "id": "DVL7_bgmIAPR"
      },
      "source": [
        "# Backpropagation Lab\n",
        "\n",
        "\n",
        "\n"
      ]
    },
    {
      "cell_type": "code",
      "execution_count": 2,
      "metadata": {
        "id": "6ZbYjZZZ_yLV"
      },
      "outputs": [],
      "source": [
        "from sklearn.neural_network import MLPClassifier\n",
        "import numpy as np\n",
        "import pandas as pd\n",
        "import matplotlib.pyplot as plt\n",
        "from scipy.io import arff\n",
        "from sklearn.model_selection import train_test_split\n",
        "from tabulate import tabulate\n",
        "from sklearn import preprocessing\n",
        "from sklearn.neural_network import MLPRegressor\n",
        "from sklearn.metrics import mean_absolute_error"
      ]
    },
    {
      "cell_type": "markdown",
      "metadata": {
        "id": "9vWiTdlbR2Xh"
      },
      "source": [
        "## 1 Avoiding Overfit: Early Stopping and Loss Regularization\n",
        "\n",
        "### 1.1 (10%) No overfit avoidance\n",
        "Train the sklearn [MLP classifier](https://scikit-learn.org/stable/modules/generated/sklearn.neural_network.MLPClassifier.html#sklearn.neural_network.MLPClassifier) on the [Iris Dataset](https://raw.githubusercontent.com/cs472ta/CS472/master/datasets/iris.arff).  Use 3 output nodes (1 per class). Expanding the one output variable into 3 is called one-hot encoding or dummy variable encoding. There are lots of ways to implement this including the Pandas get_dummies method. This experiment is set up to run a little longer to better see the effects of overfit.  Be patient as there are lots of hidden nodes and a high max iterations setting.\n",
        "\n",
        "Use default parameters except the following:\n",
        "- hidden_layer_sizes = [64] - One hidden layer with 64 hidden nodes\n",
        "- activation = 'logistic'\n",
        "- solver = 'sgd'\n",
        "- alpha = 0\n",
        "- batch_size = 1\n",
        "- learning_rate_init = 0.01\n",
        "- shuffle = True\n",
        "- momentum = 0\n",
        "- n_iter_no_change = 50\n",
        "- max_iterations = 1000\n",
        "\n",
        "Use a random 80/20 split of the data.  Run it a few times with different random training/test splits and give average values for\n",
        "- Number of iterations until convergence\n",
        "- Training set accuracy\n",
        "- Test set accuracy\n",
        "For one run observe the softmax probabilities on the test set using clf.predict_proba"
      ]
    },
    {
      "cell_type": "code",
      "source": [
        "# Import the data from iris.arff\n",
        "Data_Set = arff.loadarff('iris.arff')\n",
        "Data_Set_df = pd.DataFrame(Data_Set[0])\n",
        "Data_Set_np = Data_Set_df.to_numpy()\n",
        "\n",
        "# Separate data into array of inputs and targets\n",
        "X = Data_Set_np[:, :-1]\n",
        "X = X.astype(float)\n",
        "y = Data_Set_np[:, -1]\n",
        "\n",
        "# One hot encode the output\n",
        "y = pd.get_dummies(y)\n",
        "y = y.to_numpy()\n",
        "y = y.astype(float)"
      ],
      "metadata": {
        "id": "Ywy7uI1_WfkD"
      },
      "execution_count": 3,
      "outputs": []
    },
    {
      "cell_type": "code",
      "execution_count": 4,
      "metadata": {
        "colab": {
          "base_uri": "https://localhost:8080/"
        },
        "id": "hVXFHeDxWa4u",
        "outputId": "c2cb9f2b-4adb-4c83-f013-aa6357d7071d"
      },
      "outputs": [
        {
          "output_type": "stream",
          "name": "stdout",
          "text": [
            "----Training Split 1----\n",
            "Iterations until convergence:  460\n",
            "Training accuracy 0.9416666666666667\n",
            "Test accuracy 0.9333333333333333\n",
            "\n",
            "----Training Split 2----\n",
            "Iterations until convergence:  385\n",
            "Training accuracy 0.9416666666666667\n",
            "Test accuracy 0.9666666666666667\n",
            "\n",
            "----Training Split 3----\n",
            "Iterations until convergence:  279\n",
            "Training accuracy 0.9833333333333333\n",
            "Test accuracy 0.9666666666666667\n",
            "\n",
            "----Training Split 4----\n",
            "Iterations until convergence:  237\n",
            "Training accuracy 0.975\n",
            "Test accuracy 0.9333333333333333\n",
            "\n",
            "\n",
            "Softmax Probabilities\n",
            "[[1.59921928e-04 8.26240617e-01 8.30519523e-02]\n",
            " [9.99493433e-01 3.18780661e-03 2.75830906e-11]\n",
            " [9.99485193e-01 3.12738475e-03 2.85929526e-11]\n",
            " [9.99271844e-01 5.34115248e-03 3.76586216e-11]\n",
            " [9.98834494e-01 1.01493647e-02 5.81370872e-11]\n",
            " [9.98933019e-01 9.51873556e-03 5.31783240e-11]\n",
            " [1.54192633e-02 9.87984543e-01 3.54429589e-05]\n",
            " [5.43975352e-06 2.05030294e-02 9.91273566e-01]\n",
            " [9.99160329e-01 5.61243315e-03 4.53560257e-11]\n",
            " [1.84254262e-05 1.22666121e-01 9.03912566e-01]\n",
            " [9.99192347e-01 3.71760649e-03 4.85021110e-11]\n",
            " [9.99029675e-01 4.46994817e-03 6.49593513e-11]\n",
            " [2.48125534e-06 6.17987311e-03 9.98299766e-01]\n",
            " [9.68476877e-04 9.73141248e-01 3.30611171e-03]\n",
            " [2.88367326e-04 9.55306653e-01 2.21074932e-02]\n",
            " [2.27993875e-05 1.17111361e-01 8.72468962e-01]\n",
            " [9.99264603e-01 3.38319359e-03 4.57647834e-11]\n",
            " [5.37791392e-04 9.54159616e-01 8.85179368e-03]\n",
            " [4.58319308e-05 2.60165394e-01 6.28042669e-01]\n",
            " [9.99073880e-01 5.01187693e-03 5.94040001e-11]\n",
            " [2.92332162e-04 9.64263033e-01 1.84739737e-02]\n",
            " [9.98835151e-01 9.52033124e-03 5.59507792e-11]\n",
            " [9.99511992e-01 3.33597040e-03 2.46945519e-11]\n",
            " [1.14548249e-04 7.69264460e-01 1.47698274e-01]\n",
            " [9.97994665e-01 6.99784081e-03 1.50353303e-10]\n",
            " [9.98089198e-01 1.17954061e-02 1.16784746e-10]\n",
            " [1.73464192e-06 5.51776074e-03 9.98935323e-01]\n",
            " [9.99734092e-01 1.73589975e-03 1.49955889e-11]\n",
            " [5.96804704e-06 2.32441399e-02 9.89756215e-01]]\n"
          ]
        }
      ],
      "source": [
        "# Iris with no regularization\n",
        "\n",
        "\n",
        "for i in range(4):  # Do it 4 times\n",
        "    # Random 80/20 split of the data\n",
        "    print(f\"----Training Split {i + 1}----\")\n",
        "    X_train, X_test, y_train, y_test = train_test_split(X, y, test_size=0.2)\n",
        "    # Train the model\n",
        "    clf = MLPClassifier(hidden_layer_sizes = [64], activation = 'logistic',\n",
        "                        solver = 'sgd', alpha = 0, batch_size = 1,\n",
        "                        learning_rate_init = 0.01, shuffle = True, momentum = 0,\n",
        "                        n_iter_no_change = 50, max_iter=1000)\n",
        "    clf.fit(X_train, y_train)\n",
        "    # Print results\n",
        "    print(\"Iterations until convergence: \", clf.n_iter_)\n",
        "    print(\"Training accuracy\", clf.score(X_train, y_train))\n",
        "    print(\"Test accuracy\", clf.score(X_test, y_test))\n",
        "    print()\n",
        "\n",
        "print()\n",
        "print(\"Softmax Probabilities\")\n",
        "print(clf.predict_proba(X_test[:-1]))"
      ]
    },
    {
      "cell_type": "markdown",
      "metadata": {
        "id": "i3TVlRZjWa4v"
      },
      "source": [
        "After using one-hot coding to split the iris data set into binary values [1,0,0], [0,1,0], and [0,0,1] and converting the data into the correct format, I ran the MLP model. Using an 80% of the data as the training set and 20% for the test, I ran the model several times with a large amount of iterations. Each model took about 300 iterations to converge with a training accuracy of about 98-99% (on average) and a test accuracy of 95%. Also, on the last iteration, I found the softmaz probabilities (as shown above) which are estimats of which type of flower each input is.\n",
        "\n",
        "The model that I ran was quite accurate for the data set. This is likely because of the simplicity and small size of the data. However, the algorithm was quite slow becuase it ran so many iterations. This likely caused it to overfit the data, leading to a smaller test accuracy."
      ]
    },
    {
      "cell_type": "markdown",
      "metadata": {
        "id": "CdjGIFe3Wa4v"
      },
      "source": [
        "### 1.2 (10%) Early Stopping (Validation Set)\n",
        "\n",
        "- Do the same as above but his time with early stopping\n",
        "- Use a validation set taken from the training set for your stopping criteria. Using 10-15% of the training set for a validation set is common. You do this simply by setting the MLPClassifier early_stopping, validation_fraction, and n_iter_no_change parameters.\n",
        "- Run it a few times with different training/test splits and give average values for\n",
        "    - Number of iterations until convergence\n",
        "    - Training set accuracy\n",
        "    - Test set accuracy\n",
        "    - Best validation score (MLPClassifer attribute best_validation_score_)\n",
        "- For one run create a graph with validation set accuracy (*y*-axis) vs epochs (*x*-axis). Hint: MLPClassifer attribute validation_scores_\n",
        "\n",
        "Note: Due to the simplicity of and lack of noise in the iris data set you will not see the accuracy improvements that early stopping or loss regularization can give for more complex noisy datasets.  In particular, early stopping will have lower than expected results because with a very small VS taken from a very small training set there is less data to train on and more variance with the VS score.  Thus, you will probably get lower accuracies for VS than normal training for this less typical case.  But at least you will get practice on using early stopping and loss regularization for future data sets."
      ]
    },
    {
      "cell_type": "code",
      "execution_count": 5,
      "metadata": {
        "colab": {
          "base_uri": "https://localhost:8080/",
          "height": 472
        },
        "id": "wW6prYeNWa4v",
        "outputId": "3c29cbd0-a603-4260-88c8-81da9dbcd79f"
      },
      "outputs": [
        {
          "output_type": "display_data",
          "data": {
            "text/plain": [
              "<Figure size 640x480 with 1 Axes>"
            ],
            "image/png": "[encoded data removed]"
          },
          "metadata": {}
        }
      ],
      "source": [
        "#Iris with early stopping and validation scores graph\n",
        "X_train, X_test, y_train, y_test = train_test_split(X, y, test_size=0.2)\n",
        "clf = MLPClassifier(hidden_layer_sizes = [64], activation = 'logistic',\n",
        "                    solver = 'sgd', alpha = 0, batch_size = 1,\n",
        "                    learning_rate_init = 0.01, shuffle = True, momentum = 0,\n",
        "                    n_iter_no_change = 50, max_iter=1000, early_stopping=True,\n",
        "                    validation_fraction=0.15).fit(X_train, y_train)\n",
        "\n",
        "# plot the data\n",
        "epochs = np.arange(0, clf.n_iter_)   # For each epoch\n",
        "plt.plot(epochs, clf.validation_scores_)\n",
        "plt.title('Validation Accuracy per epoch')\n",
        "plt.xlabel('Epoch')\n",
        "plt.ylabel('Accuracy')\n",
        "plt.grid() # add grid lines\n",
        "plt.show() # show the plot"
      ]
    },
    {
      "cell_type": "markdown",
      "metadata": {
        "id": "ZNMATZqjtlxs"
      },
      "source": [
        "I ran the same model on the data set. But, this time, I set the early_stopping parameter to true. This made the algorithm stop sooner when little improvement was made on the validation accuracy. So, instead of taking 300 iterations, the model converged at 137 (in this case). Its validation set accuracy was lower than expected at 94%. Also it had a training accuracy of 97.5% and test accuracy of 96.7%.\n",
        "\n",
        "I created a graph to measure the validation accuracy after each epoch. And after about 75 epochs, little change was made on the accuracy.\n",
        "\n",
        "In this case, the model was less accurate just becuase the data set was much smaller and had little noise. For larger data sets with noise, the early_stopping parameter will prevent data form overfitting, make it have a higher test set accuracy."
      ]
    },
    {
      "cell_type": "markdown",
      "metadata": {
        "id": "tp_9hzXVWa4w"
      },
      "source": [
        "### 1.3 (10%) Loss Regularization\n",
        "\n",
        "- Do the same as in 1.1 but his time with loss regularization (Do not do early stopping)\n",
        "- Run it with different L2 regularization parameter values (alpha).  The default for alpha is .0001.  Try other values such as .1, .01, .001, .00001, etc. Make a table with each row including:\n",
        "    - The regularization parameter value\n",
        "    - Number of iterations until convergence\n",
        "    - Training set accuracy\n",
        "    - Test set accuracy\n",
        "    - Best loss value (MLPClassifer attribute best_loss_)\n",
        "- Which regularization value gave you the best results?\n",
        "- For your best regularization value do one run and create a graph with loss (*y*-axis) vs epochs (*x*-axis) for the training set (Hint: MLPClassifer attribute loss_curve_)"
      ]
    },
    {
      "cell_type": "code",
      "execution_count": 8,
      "metadata": {
        "colab": {
          "base_uri": "https://localhost:8080/"
        },
        "id": "SB8GWcvjWa4w",
        "outputId": "909b4061-6ccd-4af1-a7c1-5389b7a9e513"
      },
      "outputs": [
        {
          "output_type": "stream",
          "name": "stdout",
          "text": [
            "  Regularization    Iterations Till Convergence    Training accuracy    Test Accuracy    Best loss value\n",
            "----------------  -----------------------------  -------------------  ---------------  -----------------\n",
            "           1e-05                            326             0.975            0.9               0.0950513\n",
            "           0.001                            437             0.975            0.9               0.20801\n",
            "           0.01                             392             0.983333         1                 0.757739\n",
            "           0.1                              189             0.558333         0.466667          1.63435\n",
            "           0.5                               88             0                0                 1.89499\n"
          ]
        }
      ],
      "source": [
        "#Iris with Loss Regularization\n",
        "# Random 80/20 split of the data\n",
        "X_train, X_test, y_train, y_test = train_test_split(X, y, test_size=0.2)\n",
        "# Data for the table\n",
        "regularization_values = [.00001, 0.001, 0.01, 0.1, 0.5]\n",
        "num_iterations = []\n",
        "training_accuracy = []\n",
        "test_accuracy = []\n",
        "best_losses = []\n",
        "table_data = [[\"Regularization\", \"Iterations Till Convergence\",\t\"Training accuracy\",\n",
        "               \"Test Accuracy\", \"Best loss value\"]]\n",
        "\n",
        "for regularization in regularization_values:   # For each regularization value\n",
        "    # Train the model\n",
        "    clf = MLPClassifier(hidden_layer_sizes = [64], activation = 'logistic',\n",
        "                        solver = 'sgd', alpha = regularization, batch_size = 1,\n",
        "                        learning_rate_init = 0.01, shuffle = True, momentum = 0,\n",
        "                        n_iter_no_change = 50, max_iter=1000).fit(X_train, y_train)\n",
        "    # record data about each iteration\n",
        "    num_iterations.append(clf.n_iter_)\n",
        "    training_accuracy.append(clf.score(X_train, y_train))\n",
        "    test_accuracy.append(clf.score(X_test, y_test))\n",
        "    best_losses.append(clf.best_loss_)\n",
        "    table_data.append([regularization, clf.n_iter_, clf.score(X_train, y_train),\n",
        "                       clf.score(X_test, y_test), clf.best_loss_])\n",
        "\n",
        "table = tabulate(table_data, headers=\"firstrow\")\n",
        "print(table)"
      ]
    },
    {
      "cell_type": "code",
      "source": [
        "# plot the data\n",
        "epochs = np.arange(0, clf.n_iter_)   # For each epoch\n",
        "plt.plot(epochs, clf.loss_curve_)\n",
        "plt.title('Loss Value At Each Epoch')\n",
        "plt.xlabel('Epoch')\n",
        "plt.ylabel('Loss')\n",
        "plt.grid() # add grid lines\n",
        "plt.show() # show the plot"
      ],
      "metadata": {
        "colab": {
          "base_uri": "https://localhost:8080/",
          "height": 472
        },
        "id": "3Re8PWGK1Let",
        "outputId": "1927923e-af76-401d-d98b-1d32df2fc378"
      },
      "execution_count": 14,
      "outputs": [
        {
          "output_type": "display_data",
          "data": {
            "text/plain": [
              "<Figure size 640x480 with 1 Axes>"
            ],
            "image/png": "[encoded data removed]"
          },
          "metadata": {}
        }
      ]
    },
    {
      "cell_type": "markdown",
      "metadata": {
        "id": "8pqp12fGWa4w"
      },
      "source": [
        "This time, I ran the model using regularization rather than early stopping. Regularization affects the loss function. With a small regularization value, the weights are updated slower and all end up closer to 0. In this particular case, I used the regularization values 0.00001, 0.001, 0.01, 0.1, and 0.5. As expected, the lower regularization values took more iterations to converge. Also, the model was more accurate with the smallest regularization (with a training accuracy of 97.5% and a nearly perfect test accuracy). Furthermore, the best loss value was smaller whenever regularization was smaller.\n",
        "\n",
        "In this particular case, the most accurate model was the first one (without regularization and without early stopping). The early stopping method was the second most accurate method. By stopping at a specified validation set accuracy, the model did not overfit the data. And, regularization was the least accurate. The time it took for the algorithm to run only seemed to increase without improving the accuracy. I think that this is because the data set was small and didn't have much noise. Regularization and early stopping are created in order to minimize the negative effects of noise. Since this data had little noise, there was no need to use these methods.\n",
        "\n",
        "I also graphed the loss value at each epoch with the regularization value of 0.00001. The loss value drastically decreased afte the first few epochs and than remained the same for the next 80. So, the model learned quickly and may have performed more epochs than needed."
      ]
    },
    {
      "cell_type": "markdown",
      "metadata": {
        "id": "mOteTlV6S0bq"
      },
      "source": [
        "## 2 Hyperparameters\n",
        "In this section we use the [Vowel Dataset](https://raw.githubusercontent.com/cs472ta/CS472/master/datasets/vowel.arff) to consider the hyperparameters of learning rate, number of hidden nodes, and momentum.\n",
        "\n",
        "### 2.1 (10%) Vowel Dataset Questions\n",
        "- Give the baseline accuracies for the Iris and Vowel datasets. Baseline accuracy is what you would get if the model just outputs the majority class of the data set (i.e. the output value which occurs most often). These two data sets are not great example for this as they have an equal amount of each class, which is not typical.\n",
        "- Discuss why the vowel data set will probably have lower accuracy than Iris.\n",
        "- Consider which of the vowel dataset's input features you should not use in training and discuss why."
      ]
    },
    {
      "cell_type": "code",
      "source": [
        "# Import the data from vowel.arff\n",
        "Data_Set = arff.loadarff('vowel.arff')\n",
        "Data_Set_df = pd.DataFrame(Data_Set[0])\n",
        "Data_Set_np = Data_Set_df.to_numpy()\n",
        "\n",
        "# Separate data into array of inputs and targets\n",
        "X = Data_Set_np[:, :-1]\n",
        "y = Data_Set_np[:, -1]\n",
        "\n",
        "# Find the number each target occurs\n",
        "print(np.count_nonzero(y == b'hid'))\n",
        "print(np.count_nonzero(y == b'hId'))\n",
        "print(np.count_nonzero(y == b'hEd'))\n",
        "print(np.count_nonzero(y == b'hAd'))\n",
        "print(np.count_nonzero(y == b'hYd'))\n",
        "print(np.count_nonzero(y == b'had'))\n",
        "print(np.count_nonzero(y == b'hOd'))\n",
        "print(np.count_nonzero(y == b'hod'))\n",
        "print(np.count_nonzero(y == b'hUd'))\n",
        "print(np.count_nonzero(y == b'hud'))\n",
        "print(np.count_nonzero(y == b'hed'))\n",
        "print(\"Baseline Accuracy: \", 1 / 11)"
      ],
      "metadata": {
        "colab": {
          "base_uri": "https://localhost:8080/"
        },
        "id": "pqBzaSCYXCVn",
        "outputId": "864b8452-fad4-492e-e2a4-2db8e5340b03"
      },
      "execution_count": null,
      "outputs": [
        {
          "output_type": "stream",
          "name": "stdout",
          "text": [
            "90\n",
            "90\n",
            "90\n",
            "90\n",
            "90\n",
            "90\n",
            "90\n",
            "90\n",
            "90\n",
            "90\n",
            "90\n",
            "Baseline Accuracy:  0.09090909090909091\n"
          ]
        }
      ]
    },
    {
      "cell_type": "markdown",
      "metadata": {
        "id": "qmq9GSbJS8k2"
      },
      "source": [
        "The baseline accuracy for the Iris data set is 33.3%. This is becuase there are three different classifications, each containing 1/3 of of the data set. Also, the baseline accuracy for the Vowel dataset is 9.09%. This is becuase there are 11 different classes, each with the same amount of instance (as calculated in the code above). This means, that if the model were to just return the most common class, the Iris data set would be correct 33.3% of the time and the Vowel dataset would be correct 9.09% of it.\n",
        "\n",
        "The Vowel dataset will likely have a lower accuracy than the Iris dataset simply becuase it has more classes to generalize. Rather than predicting something to be one of three classes, each input has 11 possible values (increasing the chance of error).\n",
        "\n",
        "The vowel data set has 10 features which are used to predict the class. The first of which is just used to split the data into training and test sets. So, we may ignore that feature and use our own random split. The second feature is the name of the speaker. This likely has no affect on the sound of the vowel and would be extremely hard to convert to a real input. So, we can remove that feature as well. The third feature is the gender, which may have an effect on the pheonetic properties of the vowel. So, it likely needs to be included. And, the remaining features are all real values that we do not have enough information about to decide if they are necessary. So, we likely cannot remove anything else until further analysis is made."
      ]
    },
    {
      "cell_type": "markdown",
      "metadata": {
        "id": "SIRG42TgSR4x"
      },
      "source": [
        "### 2.2 (10%) Learning Rate\n",
        "Load the [Vowel Dataset](https://raw.githubusercontent.com/cs472ta/CS472/master/datasets/vowel.arff). Drop any features which you explained above as being inappropriate for training.\n",
        "\n",
        "Hints: Consider the Pandas drop method for dropping columns. When you want to transform features in your data set there are lots of approaches. You could edit the arff file directly, or make the transforms in your code.  The Pandas replace method is nice for that. For example, if you wanted to change the vowel data set gender feature in a Pandas dataframe to 0/1 you could do the following:\n",
        "\n",
        "vowel_df['Sex'] = vowel_df['Sex'].str.decode('utf-8')   //Changes the byte code data into a normal string, b'Male' becomes \"Male\"\\\n",
        "vowel_df = vowel_df.replace('Male', 0)\\\n",
        "vowel_df = vowel_df.replace('Female', 1)\n",
        "\n",
        "- Use one layer of hidden nodes with the number of hidden nodes being twice the number of inputs.\n",
        "- Use a random 75/25 split of the data for the training/test set.\n",
        "- Do not use early stopping.\n",
        "- Try at least 5 different learning rates (LR) from very small (e.g. .001) to pretty big (e.g. 10). Each LR will require a different number of epochs to learn. LR effects both accuracy and time required for learning.\n",
        "- Create a table which includes a row for each LR.  Your table columns should be LR, # epochs to learn the model, final training set accuracy and final test set accuracy.  As learning rates get smaller, it usually takes more epochs to learn. If your model is stopping learning too soon (converging) by hitting max_iterations (in this case and in experiments below), then you need to increase your max_iterations parameter in order to give your model a fair chance.  To keep things faster, you don't need to increase max_iter past 1000 if you don't want to, but point out when more iterations may have given improvement.\n",
        "\n",
        "In real testing one averages the results of multiple trials per LR (and other parameters) with different intitial conditions (training/test split, initial weights, etc.). That gives more accurate results but is not required for this lab."
      ]
    },
    {
      "cell_type": "code",
      "execution_count": null,
      "metadata": {
        "id": "KBGUn43ASiXW"
      },
      "outputs": [],
      "source": [
        "# Train with different learning rates\n",
        "\n",
        "# Import the data from vowel.arff\n",
        "vowel = arff.loadarff('vowel.arff')\n",
        "vowel_df = pd.DataFrame(Data_Set[0], columns=[\"Train or Test\", \"Speaker Number\",\n",
        "                                              \"Sex\", \"Feature 0\", \"Feature 1\",\n",
        "                                              \"Feature 2\", \"Feature 3\",\n",
        "                                              \"Feature 4\", \"Feature 5\",\n",
        "                                              \"Feature 6\", \"Feature 7\",\n",
        "                                              \"Feature 8\", \"Feature 9\", \"Class\"])\n",
        "\n",
        "# Convert the data into a useable format\n",
        "# Remove train/test and name features\n",
        "vowel_df = vowel_df.drop(labels=[\"Train or Test\", \"Speaker Number\"], axis=1)\n",
        "\n",
        "#Changes the byte code data into a normal string, b'Male' becomes \"Male\"\n",
        "vowel_df['Sex'] = vowel_df['Sex'].str.decode('utf-8')\n",
        "vowel_df = vowel_df.replace('Male', 0)\n",
        "vowel_df = vowel_df.replace('Female', 1)\n",
        "\n",
        "# Convert to numpy array and split into X and y\n",
        "vowel_df = vowel_df.to_numpy()\n",
        "X = vowel_df[:, :-1]\n",
        "X = X.astype(float)\n",
        "\n",
        "# Onehot encode to convert classes to usable data\n",
        "y = vowel_df[:, -1]\n",
        "y = pd.get_dummies(y)\n",
        "y = y.to_numpy()\n",
        "y = y.astype(float)"
      ]
    },
    {
      "cell_type": "code",
      "source": [
        "# Test training split\n",
        "X_train, X_test, y_train, y_test = train_test_split(X, y, test_size=0.25)\n",
        "input_size = np.shape(X_train)[0]\n",
        "\n",
        "# Data to be used\n",
        "learning_rates = [0.001, 0.01, 0.1, 1, 10]\n",
        "num_iterations = []\n",
        "training_accuracy = []\n",
        "test_accuracy = []\n",
        "table_data = [[\"Learning Rate\", \"Epochs Till Convergence\",\t\"Training accuracy\",\n",
        "               \"Test Accuracy\"]]\n",
        "\n",
        "for learning_rate in learning_rates:\n",
        "    # Train the model\n",
        "    clf = MLPClassifier(hidden_layer_sizes = [input_size * 2], shuffle = True,\n",
        "                        momentum = 0, learning_rate_init = learning_rate,\n",
        "                        activation = 'logistic', n_iter_no_change = 50,\n",
        "                        max_iter = 1000)\n",
        "    clf.fit(X_train, y_train)\n",
        "\n",
        "    # record data about each iteration\n",
        "    num_iterations.append(clf.n_iter_)\n",
        "    training_accuracy.append(clf.score(X_train, y_train))\n",
        "    test_accuracy.append(clf.score(X_test, y_test))\n",
        "    table_data.append([learning_rate, clf.n_iter_,\n",
        "                       clf.score(X_train, y_train), clf.score(X_test, y_test)])\n",
        "\n",
        "table = tabulate(table_data, headers=\"firstrow\")\n",
        "print(table)"
      ],
      "metadata": {
        "colab": {
          "base_uri": "https://localhost:8080/"
        },
        "id": "bcMMx8OjXRGJ",
        "outputId": "d3bed8da-64fb-4e2b-e9bf-5c26e1bc405e"
      },
      "execution_count": null,
      "outputs": [
        {
          "output_type": "stream",
          "name": "stderr",
          "text": [
            "/usr/local/lib/python3.10/dist-packages/sklearn/neural_network/_multilayer_perceptron.py:686: ConvergenceWarning: Stochastic Optimizer: Maximum iterations (1000) reached and the optimization hasn't converged yet.\n",
            "  warnings.warn(\n"
          ]
        },
        {
          "output_type": "stream",
          "name": "stdout",
          "text": [
            "  Learning Rate    Epochs Till Convergence    Training accuracy    Test Accuracy\n",
            "---------------  -------------------------  -------------------  ---------------\n",
            "          0.001                       1000             0.839623         0.733871\n",
            "          0.01                         801             1                0.935484\n",
            "          0.1                          796             1                0.846774\n",
            "          1                            459             0.756065         0.584677\n",
            "         10                             52             0                0\n"
          ]
        }
      ]
    },
    {
      "cell_type": "markdown",
      "metadata": {
        "id": "xpjJBIwktlxt"
      },
      "source": [
        "First, to upload the data, I removed the name feature and test/training feature (creating my own test/training split). Also, I set the gender male to 0 and female to 1. Finally, I one-hot encoded the classes in order to make it binary.\n",
        "\n",
        "I ran the MLP model 5 times, each on a different learning rate. Each model took much longer than expected. This was likely because of the large amount of hidden nodes in the hidden layer. But, after a few minutes, each model was trained.\n",
        "\n",
        "The high learning rates of 1 and 10 were very inaccurate, converging far too early (after 50-200 epochs). The highest test accuracy of the two was only 40%, which is not much better than baseline accuracy. Things improved a lot for the learning rates of 0.1 and 0.01. The model converged at around 750 epochs and was about 90% accurate on the tests. But, I believe that the data was overfitting since the training accuracy was 100%. Finally, due to the hyperparameters I set, the learning rate of 0.001 stopped at 1000 epochs (before it converged). So, it was not as accurate as the other models. But, I believe that if I were to increase the maximum amount of iterations, it would be the most accurate model.\n",
        "\n",
        "In conclusion, smaller learning rates improved the training and test accuracies. But, they came with the cost of runtime by increasing the number of epochs needed for convergence."
      ]
    },
    {
      "cell_type": "markdown",
      "metadata": {
        "id": "A-nUu5Txtlxt"
      },
      "source": [
        "### 2.3 (10%) Number of Hidden Nodes\n",
        "\n",
        "Using the best LR you discovered, experiment with different numbers of hidden nodes.\n",
        "\n",
        "- Start with 1 hidden node, then 2, and then double them for each test until you get no more improvement in accuracy.\n",
        "- Create a table just like above, except with # of hidden nodes rather than LR.\n",
        "\n",
        "In general, whenever you are testing a parameter such as # of hidden nodes, keep testing values until no more improvement is found. For example, if 20 hidden nodes did better than 10, you would not stop at 20, but would try 40, etc., until you no longer got improvement."
      ]
    },
    {
      "cell_type": "code",
      "execution_count": null,
      "metadata": {
        "id": "uLqeA1iutlxt",
        "colab": {
          "base_uri": "https://localhost:8080/"
        },
        "outputId": "3b226f22-b5ea-4890-e17c-1f0f3e9c2433"
      },
      "outputs": [
        {
          "output_type": "stream",
          "name": "stderr",
          "text": [
            "/usr/local/lib/python3.10/dist-packages/sklearn/neural_network/_multilayer_perceptron.py:686: ConvergenceWarning: Stochastic Optimizer: Maximum iterations (1500) reached and the optimization hasn't converged yet.\n",
            "  warnings.warn(\n",
            "/usr/local/lib/python3.10/dist-packages/sklearn/neural_network/_multilayer_perceptron.py:686: ConvergenceWarning: Stochastic Optimizer: Maximum iterations (1500) reached and the optimization hasn't converged yet.\n",
            "  warnings.warn(\n",
            "/usr/local/lib/python3.10/dist-packages/sklearn/neural_network/_multilayer_perceptron.py:686: ConvergenceWarning: Stochastic Optimizer: Maximum iterations (1500) reached and the optimization hasn't converged yet.\n",
            "  warnings.warn(\n",
            "/usr/local/lib/python3.10/dist-packages/sklearn/neural_network/_multilayer_perceptron.py:686: ConvergenceWarning: Stochastic Optimizer: Maximum iterations (1500) reached and the optimization hasn't converged yet.\n",
            "  warnings.warn(\n",
            "/usr/local/lib/python3.10/dist-packages/sklearn/neural_network/_multilayer_perceptron.py:686: ConvergenceWarning: Stochastic Optimizer: Maximum iterations (1500) reached and the optimization hasn't converged yet.\n",
            "  warnings.warn(\n"
          ]
        },
        {
          "output_type": "stream",
          "name": "stdout",
          "text": [
            "  Hidden Nodes    Epochs Till Convergence    Training accuracy    Test Accuracy\n",
            "--------------  -------------------------  -------------------  ---------------\n",
            "             1                        139             0               0\n",
            "             2                       1500             0.083558        0.0524194\n",
            "             4                       1500             0.269542        0.254032\n",
            "             8                       1500             0.652291        0.552419\n",
            "            16                       1500             0.878706        0.737903\n",
            "            32                       1500             1               0.834677\n",
            "            64                       1273             1               0.903226\n",
            "           128                        960             1               0.903226\n",
            "           256                        873             1               0.907258\n",
            "           512                        843             1               0.915323\n",
            "          1024                        824             1               0.919355\n"
          ]
        }
      ],
      "source": [
        "# Train with different numbers of hidden nodes\n",
        "\n",
        "# Test training split\n",
        "X_train, X_test, y_train, y_test = train_test_split(X, y, test_size=0.25)\n",
        "\n",
        "# Data to be used\n",
        "hidden_nodes = [1, 2, 4, 8, 16, 32, 64, 128, 256, 512, 1024]\n",
        "num_iterations = []\n",
        "training_accuracy = []\n",
        "test_accuracy = []\n",
        "table_data = [[\"Hidden Nodes\", \"Epochs Till Convergence\",\t\"Training accuracy\",\n",
        "               \"Test Accuracy\"]]\n",
        "\n",
        "for hidden_node in hidden_nodes:\n",
        "    # Train the model\n",
        "    clf = MLPClassifier(hidden_layer_sizes = [hidden_node], shuffle = True,\n",
        "                        momentum = 0, learning_rate_init = 0.01,\n",
        "                        activation = 'logistic', n_iter_no_change = 50,\n",
        "                        max_iter = 1500)\n",
        "    clf.fit(X_train, y_train)\n",
        "\n",
        "    # record data about each iteration\n",
        "    num_iterations.append(clf.n_iter_)\n",
        "    training_accuracy.append(clf.score(X_train, y_train))\n",
        "    test_accuracy.append(clf.score(X_test, y_test))\n",
        "    table_data.append([hidden_node, clf.n_iter_,\n",
        "                       clf.score(X_train, y_train), clf.score(X_test, y_test)])\n",
        "\n",
        "table = tabulate(table_data, headers=\"firstrow\")\n",
        "print(table)"
      ]
    },
    {
      "cell_type": "markdown",
      "metadata": {
        "id": "CLliSMtXtlxt"
      },
      "source": [
        "*Discuss your table and the effect of different numbers of hidden nodes on both training time and accuracy*\n",
        "\n",
        "Using a learning rate of 0.01, I ran the same machine learning model. But, rather than changing the learning rate for each model, I changed the amount of hidden nodes. Starting with 1, I doubled the amount of hidden nodes until I reached 1024 (see table above). This was when the test was less accurate than the last. So, in this case, the model was most accurate when it used 512 nodes (with a training accuracy of 100% and test accuracy of 93.5%).\n",
        "\n",
        "I noticed that as the number of hidden node increased, the number of epochs it took to converge decreased (with the exception of when I used 1 or 2 hidden nodes, which trivally compares to the single-layer Perceptron). This makes sense because each hidden node provides more information. So, each epoch takes longer but does more. Also, as the number of nodes increased, the training accuracy and test accuracy increased. This was true until the number of hidden nodes was so large that it accounted for the noise as well."
      ]
    },
    {
      "cell_type": "markdown",
      "metadata": {
        "id": "v72ryeHXtlxu"
      },
      "source": [
        "### 2.4 (10%) Momentum\n",
        "\n",
        "Try at least 5 different momentum terms between 0 and just less than 1 using the best number of hidden nodes and LR from your earlier experiments.\n",
        "\n",
        "- Create a table just like above, except with momentum values rather than LR or number of hidden nodes."
      ]
    },
    {
      "cell_type": "code",
      "execution_count": null,
      "metadata": {
        "id": "yiEBTL6Vtlxu",
        "colab": {
          "base_uri": "https://localhost:8080/"
        },
        "outputId": "db509b9d-2b35-4ca8-b0f9-35cc46095bfc"
      },
      "outputs": [
        {
          "output_type": "stream",
          "name": "stderr",
          "text": [
            "/usr/local/lib/python3.10/dist-packages/sklearn/neural_network/_multilayer_perceptron.py:686: ConvergenceWarning: Stochastic Optimizer: Maximum iterations (1500) reached and the optimization hasn't converged yet.\n",
            "  warnings.warn(\n",
            "/usr/local/lib/python3.10/dist-packages/sklearn/neural_network/_multilayer_perceptron.py:686: ConvergenceWarning: Stochastic Optimizer: Maximum iterations (1500) reached and the optimization hasn't converged yet.\n",
            "  warnings.warn(\n",
            "/usr/local/lib/python3.10/dist-packages/sklearn/neural_network/_multilayer_perceptron.py:686: ConvergenceWarning: Stochastic Optimizer: Maximum iterations (1500) reached and the optimization hasn't converged yet.\n",
            "  warnings.warn(\n",
            "/usr/local/lib/python3.10/dist-packages/sklearn/neural_network/_multilayer_perceptron.py:686: ConvergenceWarning: Stochastic Optimizer: Maximum iterations (1500) reached and the optimization hasn't converged yet.\n",
            "  warnings.warn(\n"
          ]
        },
        {
          "output_type": "stream",
          "name": "stdout",
          "text": [
            "  Momentum    Epochs Till Convergence    Training accuracy    Test Accuracy\n",
            "----------  -------------------------  -------------------  ---------------\n",
            "      0.01                       1500             0.382749         0.318548\n",
            "      0.1                        1500             0.432615         0.346774\n",
            "      0.5                        1500             0.614555         0.508065\n",
            "      0.9                        1500             1                0.875\n",
            "      0.99                       1500             0.997305         0.798387\n"
          ]
        },
        {
          "output_type": "stream",
          "name": "stderr",
          "text": [
            "/usr/local/lib/python3.10/dist-packages/sklearn/neural_network/_multilayer_perceptron.py:686: ConvergenceWarning: Stochastic Optimizer: Maximum iterations (1500) reached and the optimization hasn't converged yet.\n",
            "  warnings.warn(\n"
          ]
        }
      ],
      "source": [
        "# Train with different momentum values\n",
        "# Train with different numbers of hidden nodes\n",
        "\n",
        "# Test training split\n",
        "X_train, X_test, y_train, y_test = train_test_split(X, y, test_size=0.25)\n",
        "input_size = np.shape(X_train)[0]\n",
        "\n",
        "# Data to be used\n",
        "momentums = [0.01, 0.1, 0.5, 0.9, 0.99]\n",
        "num_iterations = []\n",
        "training_accuracy = []\n",
        "test_accuracy = []\n",
        "table_data = [[\"Momentum\", \"Epochs Till Convergence\", \"Training accuracy\",\n",
        "               \"Test Accuracy\"]]\n",
        "\n",
        "for momentum in momentums:\n",
        "    # Train the model\n",
        "    clf = MLPClassifier(hidden_layer_sizes = [input_size], solver = \"sgd\",\n",
        "                        momentum = momentum, learning_rate_init = 0.1,\n",
        "                        activation = 'logistic', n_iter_no_change = 50,\n",
        "                        max_iter = 1500, shuffle = True)\n",
        "    clf.fit(X_train, y_train)\n",
        "\n",
        "    # record data about each iteration\n",
        "    num_iterations.append(clf.n_iter_)\n",
        "    training_accuracy.append(clf.score(X_train, y_train))\n",
        "    test_accuracy.append(clf.score(X_test, y_test))\n",
        "    table_data.append([momentum, clf.n_iter_,\n",
        "                       clf.score(X_train, y_train), clf.score(X_test, y_test)])\n",
        "\n",
        "table = tabulate(table_data, headers=\"firstrow\")\n",
        "print(table)"
      ]
    },
    {
      "cell_type": "markdown",
      "metadata": {
        "id": "LqidhekCtlxu"
      },
      "source": [
        "*Discuss your table and the effect of momentum on both training time and accuracy*\n",
        "\n",
        "Following a similar process as above, I analyzed the effects of different momentum values on the model. Momentum encourage the model to learn quicker when the weights keep changing in the same direction and slows down with the gradiant changes direction.\n",
        "\n",
        "Once again, it took quite a long time for the computer to run all five models. And, on my first run, none of them converged. So, for the sake of analyzing momentum, I had to increase the learning rate to 0.1. And, most of the models still did not converge. But, due to the significant time that I took, I kept my max number of iterations to be 1500.\n",
        "\n",
        "Once the models finally finished, I found that the model that used 0.90 as the momentum was the most accurate (with a training accuracy of 100%, which likely means it overfit, and a test accuracy of 87.5%). But, it did not converge before the max amount, (like all the other models). On the other hand, the least accurate model had a momentum of 0.01, with a testing accuracy of 31.8% (see table above).\n",
        "\n",
        "It makes sense that a larger momentum was more accurate, since it made the model learn more quickly (since none of the algorithms converged before 1500 epochs). But, I was surprised that 0.99 as a momentum had less accuracy. This may be because it was affected by noise. As expected, the models with very low momentums were not accurate (both by training and test accuracy) at 1500 epochs becuase they did not have enough time to learn everything."
      ]
    },
    {
      "cell_type": "markdown",
      "metadata": {
        "id": "7hHxNgUCtlxv"
      },
      "source": [
        "### 2.5 (10%) Automatic Hyperparameter Discovery\n",
        "Using the vowel dataset, automatically adjust the LR, # of hidden nodes, and momentum using [grid and random search](https://scikit-learn.org/stable/modules/grid_search.html)\n",
        "- For grid search include the most promising hyperparameter values you used in your experiments above.  You may add others also.\n",
        "- Be patient as the grid search can take a while since it has to train all combinations of models. Don't use too many parameter options or it will too slow.\n",
        "- Report your best hyperparameters and accuracy.  Unfortunately, you will not always get as high a score as you might expect.  This is in part due to the simplicity of the dataset.  It also teaches that in gerneral you should not always blindly assume that a tool will get you the results you expect and that you may need to consider multiple approaches."
      ]
    },
    {
      "cell_type": "code",
      "execution_count": null,
      "metadata": {
        "colab": {
          "base_uri": "https://localhost:8080/"
        },
        "id": "3GWdwF57Wa4y",
        "outputId": "878ef441-9aaf-434c-f4b8-b24ed4bfe4de"
      },
      "outputs": [
        {
          "output_type": "stream",
          "name": "stdout",
          "text": [
            "{'hidden_layer_sizes': [512], 'learning_rate_init': 0.01, 'momentum': 0.9}\n",
            "0.40202020202020206\n"
          ]
        }
      ],
      "source": [
        "#Grid search for hyperparameters.\n",
        "#Here is one variation of code you could use for your grid search. You can try your own variation if you prefer.\n",
        "\n",
        "from sklearn.model_selection import GridSearchCV\n",
        "\n",
        "clf = MLPClassifier(activation='logistic', solver='sgd',alpha=0,early_stopping=True, n_iter_no_change=10, batch_size=1)\n",
        "parameters = {'learning_rate_init':( .001, 0.01, 0.1),\n",
        "              'hidden_layer_sizes': ([8], [256], [512]),\n",
        "              'momentum':(0, 0.5, 0.9)}\n",
        "grid = GridSearchCV(clf, parameters)\n",
        "grid.fit(X,y)    #This takes a while to run\n",
        "print(grid.best_params_)\n",
        "print(grid.best_score_)"
      ]
    },
    {
      "cell_type": "code",
      "execution_count": null,
      "metadata": {
        "colab": {
          "base_uri": "https://localhost:8080/"
        },
        "id": "FNvKxD36Wa4y",
        "outputId": "933d6e54-9f80-44e9-9eb4-28d6a48ecacb"
      },
      "outputs": [
        {
          "output_type": "stream",
          "name": "stdout",
          "text": [
            "{'hidden_layer_sizes': [256], 'learning_rate_init': 0.040622532191631956, 'momentum': 0.8872053139717985}\n",
            "0.40808080808080816\n"
          ]
        }
      ],
      "source": [
        "#Randomized search for hyperparameters\n",
        "#Here is one variation of code you could use for your randomized search.\n",
        "\n",
        "from sklearn.model_selection import RandomizedSearchCV\n",
        "from scipy.stats import uniform\n",
        "clf = MLPClassifier(activation='logistic', solver='sgd',alpha=0,early_stopping=True, n_iter_no_change=10, batch_size=1)\n",
        "distributions = dict(learning_rate_init=uniform(loc=0.001, scale=0.099), #loc is the min val, and loc + scale is the max val\n",
        "                    hidden_layer_sizes = ([8], [256], [512]), #since there is no distribution it samples these values uniformly\n",
        "                    momentum=uniform(loc=0,scale =.99))\n",
        "search = RandomizedSearchCV(clf, distributions, n_iter=10)\n",
        "search.fit(X,y)\n",
        "print(search.best_params_)\n",
        "print(search.best_score_)"
      ]
    },
    {
      "cell_type": "markdown",
      "metadata": {
        "id": "BqSFAXwlk3Ms"
      },
      "source": [
        "*Discussion and comparison of grid and randomized parameter search*\n",
        "\n",
        "Grid search and randomized search are algorithms used to find the optimal parameters of an MLP model. It took about 30 minutes for the grid search algorithm to run. It returned values of 512 for the optimal amount of nodes, 0.01 as the optimal learning rate, and 0.9 as the best momentum value. These values are consistent with are analysis above.\n",
        "\n",
        "Randomized search, on the other hand, only took about 10-15 minutes to run. And, it calculated the optimal number of nodes to be 256, with the optimal learning rate at about 0.0406, and an optimal momentum at 0.887. These values are quite similar to the ones grid search returned. But, I was suprised to see that its optimal value for hidden layers was less than my prediction and the grid search model.\n",
        "\n",
        "All in all, I beleive that the randomized search is preferrable. This is mainly becuase it was about twice as fast and find a real value for the learning rate, rather than just using predetermined values."
      ]
    },
    {
      "cell_type": "markdown",
      "metadata": {
        "id": "lIM0rEA9tlxu"
      },
      "source": [
        "## 3 Regression with MLPs\n",
        "\n",
        "### 3.1 (10%) - Learn a regression data set of your choice\n",
        "\n",
        "Train MLP on any real world data set that requires regression (i.e. has a real valued ouput) and discuss your effort and results.  While the [Irvine ML Repository](https://archive.ics.uci.edu) is a great resource, also onsider [Kaggle](https://www.kaggle.com) and [OpenML](https://openml.org) as other great place to find datasets.\n",
        "- Use [MLPRegressor](https://scikit-learn.org/stable/modules/generated/sklearn.neural_network.MLPRegressor.html#sklearn.neural_network.MLPRegressor) rather than MLPclassifier.  It has almost the exact same setup as MLPClassier except it uses the linear activation function for the output nodes and SSE as the loss function.  MLPClassier uses softmax activation for the output nodes and cross-entropy for the loss function.\n",
        "- Use any reasonable hyperparameters that you want.  \n",
        "- You will probably need to normalize input features.\n",
        "- It is not typically necessary to normalize the output.\n",
        "- Split into train and test and report the training and test set MAEs (Mean Absolute Error). For regression problems where we don't normalize the output, MAE is an intuitive measure as it shows exactly how much our output is off on average."
      ]
    },
    {
      "cell_type": "code",
      "execution_count": null,
      "metadata": {
        "id": "OFQv70W2VyqJ",
        "colab": {
          "base_uri": "https://localhost:8080/"
        },
        "outputId": "bf71e92a-9e99-4972-f527-969fda7bbe6d"
      },
      "outputs": [
        {
          "output_type": "stream",
          "name": "stdout",
          "text": [
            "[[0.         0.         0.84108476 ... 0.04672693 0.         0.        ]\n",
            " [0.         0.         0.87904907 ... 0.         0.         0.        ]\n",
            " [0.         0.         0.74906425 ... 0.         0.         0.        ]\n",
            " ...\n",
            " [0.04233338 0.04233338 0.88900089 ... 0.         0.         0.        ]\n",
            " [0.04816831 0.04816831 0.86702949 ... 0.         0.04816831 0.        ]\n",
            " [0.04642383 0.04642383 0.88205286 ... 0.         0.         0.        ]]\n"
          ]
        }
      ],
      "source": [
        "# Load and Learn a real world regression data set\n",
        "# To calculate MAE you could do a variation of the following\n",
        "\n",
        "# Import the data\n",
        "df = pd.read_csv(\"student-mat.csv\")\n",
        "data = df.to_numpy()\n",
        "data = np.array([row[0].split(\";\") for row in data])   # Convert data to matrix\n",
        "y = data[:, -1]\n",
        "data = data[:, :-3]  # Don't care about term grades\n",
        "\n",
        "# Clean the data\n",
        "# Convert to binary\n",
        "data[data == 'GP'] = 0\n",
        "data[data == 'MS'] = 1\n",
        "data[data == '\"F\"'] = 0\n",
        "data[data == '\"M\"'] = 1\n",
        "data[data == '\"U\"'] = 0\n",
        "data[data == '\"R\"'] = 1\n",
        "data[data == '\"no\"'] = 0\n",
        "data[data == '\"yes\"'] = 1\n",
        "data[data == '\"LE3\"'] = 0\n",
        "data[data == '\"GT3\"'] = 1\n",
        "data[data == '\"T\"'] = 0\n",
        "data[data == '\"A\"'] = 1\n",
        "\n",
        "# One-hot encode columns with categorical data\n",
        "data_df = pd.DataFrame(data)\n",
        "data_df = pd.get_dummies(data_df, columns=[8, 9, 10, 11, 12])\n",
        "data = data_df.to_numpy()\n",
        "\n",
        "# Convert data to floats and noramlize the input\n",
        "data = data.astype(np.float64)\n",
        "data = preprocessing.normalize(data)\n",
        "y = y.astype(np.float64)\n",
        "\n",
        "\n",
        "# print(data)\n",
        "# print(y)\n",
        "\n"
      ]
    },
    {
      "cell_type": "code",
      "source": [
        "X_train, X_test, y_train, y_test = train_test_split(data, y, test_size=0.2)\n",
        "\n",
        "# Train the model\n",
        "regr = MLPRegressor(random_state=1, max_iter=10000)\n",
        "regr.fit(X_train, y_train)\n",
        "\n",
        "# Print useful data\n",
        "print(\"Iterations Until Convergence: \", regr.n_iter_)\n",
        "print(\"Training MAE: \", mean_absolute_error(regr.predict(X_train), y_train))\n",
        "print(\"Test MAE: \", mean_absolute_error(regr.predict(X_test), y_test))"
      ],
      "metadata": {
        "colab": {
          "base_uri": "https://localhost:8080/"
        },
        "id": "asWKrek6THf8",
        "outputId": "6c759192-57de-4dee-c850-2bfb928ffee3"
      },
      "execution_count": null,
      "outputs": [
        {
          "output_type": "stream",
          "name": "stdout",
          "text": [
            "Iterations Until Convergence:  8270\n",
            "Training MAE:  0.3385540664639643\n",
            "Test MAE:  4.151134779379654\n"
          ]
        }
      ]
    },
    {
      "cell_type": "markdown",
      "metadata": {
        "id": "SPe4aISNWa4z"
      },
      "source": [
        "*Discussion*\n",
        "\n",
        "I took a data set from (https://archive.ics.uci.edu/dataset/320/student+performance) which predicts the students' final grade in their math class. It took data like the school, gender, age, family size, study time, and so on to try to predict what grade (out of 20) a student will end with in the math class. I chose this data set becuase it is similar to the group project I will be doing to predict student's ACT scores.\n",
        "\n",
        "The first step was to import the data and convert it to a usable format. Most of the data was binary. But, I had to use one-hot coding for some of the categorical variables. Then, I normalized the input matrix. After taking care of the data, I was able to use MLPRegressor to predict students grades.\n",
        "\n",
        "My model converged after 7445 iteration. This number was large becuase of the number of dimensions of my input vector. Each student had about 30 features that the model looked at. I found that after convergence, the training set had an mean absolute error of 0.3356, which means that it was pretty accurate on the training set. But, I was surprised to see that the mean absolute error on the test set was as high as 3.887. The final grades were out of 20, so the error was not too bad. But, it definitely was not perfect. Either are model overfit the data, or we did not have enough data to accurately predict students' final grades."
      ]
    },
    {
      "cell_type": "markdown",
      "metadata": {
        "id": "yKuLsDCcWa4z"
      },
      "source": [
        "### 3.2 (10%) - Other MLP Hyperparameters\n",
        "With the same data set, you may (not required) experiment with some of the hyperparameters you already did above (LR, hidden nodes, momentum, validation set parameters, regularization).  But for sure experiment with and discuss the results of the first two hyperparameters below (activation functions and multiple hidden layers).  We encourage you to experiment briefly with the others but they are not required.\n",
        "\n",
        "- different hidden layer activation functions (tanh, relu in addition to logistic) - Note that Sklean does not currently let you choose the output layer activation function.  It is automatically softmax for classification and linear for regression.\n",
        "- more than one hidden layer\n",
        "- solver - try adam and lbfgs in addition to sgd\n",
        "- batch size\n",
        "- learning rate adaptation - this is the schedule parameter which lets LR adapt during learning"
      ]
    },
    {
      "cell_type": "code",
      "execution_count": null,
      "metadata": {
        "id": "Hu1JE4vStlxv",
        "colab": {
          "base_uri": "https://localhost:8080/"
        },
        "outputId": "780d387a-cdcc-4a4e-b41a-26c7c4438fcf"
      },
      "outputs": [
        {
          "output_type": "stream",
          "name": "stdout",
          "text": [
            "Hidden Layer Function      Epochs Till Convergence    Training accuracy    Test Accuracy\n",
            "-----------------------  -------------------------  -------------------  ---------------\n",
            "identity                                      1236             0.345698      -0.0211985\n",
            "logistic                                      3132             0.339871      -0.00918382\n",
            "tanh                                          1241             0.348294      -0.0301939\n",
            "relu                                          8270             0.98807       -0.423696\n"
          ]
        }
      ],
      "source": [
        "# Different Hidden Layer Functions\n",
        "\n",
        "# Data to be used\n",
        "functions = [\"identity\", \"logistic\", \"tanh\", \"relu\"]\n",
        "num_iterations = []\n",
        "training_accuracy = []\n",
        "test_accuracy = []\n",
        "table_data = [[\"Hidden Layer Function\", \"Epochs Till Convergence\", \"Training accuracy\",\n",
        "               \"Test Accuracy\"]]\n",
        "\n",
        "for function in functions:\n",
        "    # Train the model\n",
        "    # Train the model\n",
        "    regr = MLPRegressor(random_state=1, max_iter=10000, activation=function)\n",
        "    regr.fit(X_train, y_train)\n",
        "\n",
        "    # record data about each iteration\n",
        "    table_data.append([function, regr.n_iter_,\n",
        "                       regr.score(X_train, y_train), regr.score(X_test, y_test)])\n",
        "\n",
        "table = tabulate(table_data, headers=\"firstrow\")\n",
        "print(table)"
      ]
    },
    {
      "cell_type": "code",
      "source": [
        "# Different amounts of hidden layers\n",
        "# Data to be used\n",
        "hidden_layers = [[100], [100, 100], [100, 100, 100]]\n",
        "num_iterations = []\n",
        "training_accuracy = []\n",
        "test_accuracy = []\n",
        "table_data = [[\"Hidden Layer Function\", \"Epochs Till Convergence\", \"Training accuracy\",\n",
        "               \"Test Accuracy\"]]\n",
        "\n",
        "for hidden_layer in hidden_layers:\n",
        "    # Train the model\n",
        "    # Train the model\n",
        "    regr = MLPRegressor(hidden_layer_sizes=hidden_layer, random_state=1, max_iter=10000)\n",
        "    regr.fit(X_train, y_train)\n",
        "\n",
        "    # record data about each iteration\n",
        "    table_data.append([len(hidden_layer), regr.n_iter_,\n",
        "                       regr.score(X_train, y_train), regr.score(X_test, y_test)])\n",
        "\n",
        "table = tabulate(table_data, headers=\"firstrow\")\n",
        "print(table)"
      ],
      "metadata": {
        "colab": {
          "base_uri": "https://localhost:8080/"
        },
        "id": "X_iz4bTffZK4",
        "outputId": "2f48b0f6-21b9-4878-9529-6d57b0c129c6"
      },
      "execution_count": null,
      "outputs": [
        {
          "output_type": "stream",
          "name": "stdout",
          "text": [
            "  Hidden Layer Function    Epochs Till Convergence    Training accuracy    Test Accuracy\n",
            "-----------------------  -------------------------  -------------------  ---------------\n",
            "                      1                       8270             0.98807         -0.423696\n",
            "                      2                       1945             0.97676         -0.341693\n",
            "                      3                        879             0.979615        -0.403633\n"
          ]
        }
      ]
    },
    {
      "cell_type": "markdown",
      "metadata": {
        "id": "HScVQasltlxv"
      },
      "source": [
        "*Discussion*\n",
        "\n",
        "With the same data set, I tested some other hyperparameters. First, I tested the effects of the hidden layer activation function. I found that identity activation function, logistic function, and tanh functions had training accuracies around 0.34. And, the testing accuracies were around -0.03. I think that these numbers are different than expected becuase the output is out of 20 (instead of 1). Also, it is notabe that the relu function has a training accuracy of 0.98. But, its testing accuracy is -.42, meaning that it is likely overtfitting the data. And, it took much more epochs to converge than the other functions.\n",
        "\n",
        "Second, I tested the effects of different amounts of hidden layers. To avoid large runtimes, I put just 100 hidden nodes in each layer. With one hidden layer, it took about 8,000 epochs to converge whereas with 3 hidden layers, it only took 879. This was as expected since each additional layer means more learning within an epoch. However, I was surprised that the training accuracies and test accuracies were similar in each case. This is likely because the algorithms accounted for less layers by learning for more epochs."
      ]
    },
    {
      "cell_type": "markdown",
      "metadata": {
        "id": "cTlK-kijk8Mg"
      },
      "source": [
        "## 4. (Optional 20% extra credit) Code up your own MLP/Backprop learner\n",
        "Below is a scaffold you could use if you want. Requirements for this task:\n",
        "- Your model should support the methods shown in the example scaffold below.\n",
        "- Ability to create a network structure with at least one hidden layer and an arbitrary number of nodes. You may choose just one activation function for all hidden and output nodes if you want (e.g. logistic activation function where the loss is SSE rather than cross-entropy).\n",
        "- Random weight initialization with small random weights with 0 mean. Remember that every hidden and output node should have its own bias weight.\n",
        "- Use stochastic training updates: update weights after each training instance (i.e. not batch)\n",
        "- Option to include a momentum term\n",
        "- Your class can inherit from the relevant scikit-learn learners (e.g. data shuffling, etc.), but don't call any of the super methods to accomplish the core methods in the scaffold.\n",
        "- Run the Iris data set above with your Backprop version. Show and discuss your results and how they compare with the sklearn version.\n",
        "- Coding MLP is a good experience but is a little more challening that implementing other models so the extra credit points are higher than typical."
      ]
    },
    {
      "cell_type": "markdown",
      "metadata": {
        "id": "rokMDC3Qtlxv"
      },
      "source": [
        "*Discuss your results and any differences*"
      ]
    },
    {
      "cell_type": "code",
      "execution_count": null,
      "metadata": {
        "id": "hn8n_iR8tlxv"
      },
      "outputs": [],
      "source": [
        "from sklearn.base import BaseEstimator, ClassifierMixin\n",
        "\n",
        "class MLP(BaseEstimator,ClassifierMixin):\n",
        "\n",
        "    def __init__(self,lr=.1, momentum=0, shuffle=True,hidden_layer_widths=None):\n",
        "        \"\"\" Initialize class with chosen hyperparameters.\n",
        "\n",
        "        Args:\n",
        "            lr (float): A learning rate / step size.\n",
        "            shuffle(boolean): Whether to shuffle the training data each epoch. DO NOT SHUFFLE for evaluation / debug datasets.\n",
        "            momentum(float): The momentum coefficent\n",
        "        Optional Args (Args we think will make your life easier):\n",
        "            hidden_layer_widths (list(int)): A list of integers which defines the width of each hidden layer if hidden layer is none do twice as many hidden nodes as input nodes. (and then one more for the bias node)\n",
        "            For example: input width 1, then hidden layer will be 3 nodes\n",
        "        Example:\n",
        "            mlp = MLP(lr=.2,momentum=.5,shuffle=False,hidden_layer_widths = [3,3]),  <--- this will create a model with two hidden layers, both 3 nodes wide\n",
        "        \"\"\"\n",
        "        self.hidden_layer_widths\n",
        "        self.lr = lr\n",
        "        self.momentum = momentum\n",
        "        self.shuffle = shuffle\n",
        "\n",
        "\n",
        "    def fit(self, X, y, initial_weights=None):\n",
        "        \"\"\" Fit the data; run the algorithm and adjust the weights to find a good solution\n",
        "\n",
        "        Args:\n",
        "            X (array-like): A 2D numpy array with the training data, excluding targets\n",
        "            y (array-like): A 2D numpy array with the training targets\n",
        "        Optional Args (Args we think will make your life easier):\n",
        "            initial_weights (array-like): allows the user to provide initial weights\n",
        "        Returns:\n",
        "            self: this allows this to be chained, e.g. model.fit(X,y).predict(X_test)\n",
        "\n",
        "        \"\"\"\n",
        "        self.weights = self.initialize_weights() if not initial_weights else initial_weights\n",
        "\n",
        "        return self\n",
        "\n",
        "    def predict(self, X):\n",
        "        \"\"\" Predict all classes for a dataset X\n",
        "        Args:\n",
        "            X (array-like): A 2D numpy array with the training data, excluding targets\n",
        "        Returns:\n",
        "            array, shape (n_samples,)\n",
        "                Predicted target values per element in X.\n",
        "        \"\"\"\n",
        "        pass\n",
        "\n",
        "    def initialize_weights(self):\n",
        "        \"\"\" Initialize weights for perceptron. Don't forget the bias!\n",
        "\n",
        "        Returns:\n",
        "\n",
        "        \"\"\"\n",
        "\n",
        "        return [0]\n",
        "\n",
        "    def score(self, X, y):\n",
        "        \"\"\" Return accuracy of model on a given dataset. Must implement own score function.\n",
        "\n",
        "        Args:\n",
        "            X (array-like): A 2D numpy array with data, excluding targets\n",
        "            y (array-like): A 2D numpy array with targets\n",
        "\n",
        "        Returns:\n",
        "            score : float\n",
        "                Mean accuracy of self.predict(X) wrt. y.\n",
        "        \"\"\"\n",
        "\n",
        "        return 0\n",
        "\n",
        "    ###  Returns the weights. Not required but helpful for debugging\n",
        "    def get_weights(self):\n",
        "        pass\n"
      ]
    }
  ],
  "metadata": {
    "colab": {
      "provenance": []
    },
    "kernelspec": {
      "display_name": "Python 2.7.16 64-bit",
      "language": "python",
      "name": "python3"
    },
    "language_info": {
      "codemirror_mode": {
        "name": "ipython",
        "version": 3
      },
      "file_extension": ".py",
      "mimetype": "text/x-python",
      "name": "python",
      "nbconvert_exporter": "python",
      "pygments_lexer": "ipython3",
      "version": "2.7.16"
    },
    "vscode": {
      "interpreter": {
        "hash": "767d51c1340bd893661ea55ea3124f6de3c7a262a8b4abca0554b478b1e2ff90"
      }
    }
  },
  "nbformat": 4,
  "nbformat_minor": 0
}