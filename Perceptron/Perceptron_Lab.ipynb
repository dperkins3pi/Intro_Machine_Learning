{
  "cells": [
    {
      "cell_type": "markdown",
      "metadata": {
        "id": "DVL7_bgmIAPR"
      },
      "source": [
        "# Perceptron Lab"
      ]
    },
    {
      "cell_type": "markdown",
      "metadata": {
        "id": "rBIfzcfn3QPO"
      },
      "source": [
        "This is the scaffold notebook for the perceptron lab and each lab will have a similar scaffold.  Make your own copy of this notebook and then you can fill in the tasks.  **You will fill in code boxes and test boxes with discussion for most tasks** and particularly discussion of results, graphs, etc. Good writing, grammar, punctuation, etc. are important and points will be taken off if these things are lacking.\n",
        "\n",
        "In most cases just reporting results without discussion will not receive full credit. Thus, your discussion should also include sentences like the following: This is because…  Note that the …  I was surprised to observe… I am not sure why …, but my hypothesis is that …\n",
        "\n",
        "Start by looking over the scikit-learn [user guide](https://scikit-learn.org/stable/user_guide.html) and carefully reading over the [perceptron documentation](https://scikit-learn.org/stable/modules/generated/sklearn.linear_model.Perceptron.html)."
      ]
    },
    {
      "cell_type": "code",
      "execution_count": 173,
      "metadata": {
        "id": "6ZbYjZZZ_yLV"
      },
      "outputs": [],
      "source": [
        "# imports\n",
        "import numpy as np\n",
        "from scipy.io import arff\n",
        "import pandas as pd"
      ]
    },
    {
      "cell_type": "markdown",
      "metadata": {
        "id": "KibCIXIThpbE"
      },
      "source": [
        "## 1. Debug and Evaluation\n",
        "\n",
        "For most labs we will give you some data and expected results so that you can verify that you are doing things right and getting appropriate results.  We will then have you run on some other data with the exact same hyperparameters so we can see if your results are correct.\n",
        "\n",
        "### 1.1 Debug (5%)\n",
        "Download this [data set](https://raw.githubusercontent.com/cs472ta/CS472/master/datasets/linsep2nonorigin.arff) into your local directory and name it debug.arff.  To download rather than view, right-click the link and save as.  To allow consistent results run the Perceptron using the following hyperparameters:\n",
        "- Learning rate = .1\n",
        "- Do NOT shuffle the data after every epoch like you would normally do\n",
        "- Learn for a maximum of 10 epochs\n",
        "- Start all weights at 0 (which is the default for this scikit-learn implementation)  \n",
        "\n",
        "Your results should be:\n",
        "Accuracy = [.875]\\\n",
        "Final Weights = [[-0.23  0.18]]\\\n",
        "[-0.1] - This last weight is the bias weight, which they call the intercept.\n",
        "\n",
        "To help you with this first task, following is one detailed variation that would do this for you. You may use your own variation.  Note that commonly used variable names in the community are clf (classifier), X (array of input features), y (vector of output labels)."
      ]
    },
    {
      "cell_type": "code",
      "execution_count": 174,
      "metadata": {
        "id": "KgAyy82gixIF",
        "colab": {
          "base_uri": "https://localhost:8080/"
        },
        "outputId": "0158bbb4-4de3-48f4-f0b4-aa2328bfc9e0"
      },
      "outputs": [
        {
          "output_type": "stream",
          "name": "stdout",
          "text": [
            "-- Epoch 1\n",
            "Norm: 0.04, NNZs: 2, Bias: -0.100000, T: 8, Avg. loss: 0.013500\n",
            "Total training time: 0.00 seconds.\n",
            "-- Epoch 2\n",
            "Norm: 0.07, NNZs: 2, Bias: -0.100000, T: 16, Avg. loss: 0.011875\n",
            "Total training time: 0.00 seconds.\n",
            "-- Epoch 3\n",
            "Norm: 0.11, NNZs: 2, Bias: -0.100000, T: 24, Avg. loss: 0.010250\n",
            "Total training time: 0.00 seconds.\n",
            "-- Epoch 4\n",
            "Norm: 0.14, NNZs: 2, Bias: -0.100000, T: 32, Avg. loss: 0.008625\n",
            "Total training time: 0.01 seconds.\n",
            "-- Epoch 5\n",
            "Norm: 0.18, NNZs: 2, Bias: -0.100000, T: 40, Avg. loss: 0.007000\n",
            "Total training time: 0.01 seconds.\n",
            "-- Epoch 6\n",
            "Norm: 0.21, NNZs: 2, Bias: -0.100000, T: 48, Avg. loss: 0.005375\n",
            "Total training time: 0.01 seconds.\n",
            "-- Epoch 7\n",
            "Norm: 0.23, NNZs: 2, Bias: -0.100000, T: 56, Avg. loss: 0.008250\n",
            "Total training time: 0.01 seconds.\n",
            "-- Epoch 8\n",
            "Norm: 0.25, NNZs: 2, Bias: -0.100000, T: 64, Avg. loss: 0.007625\n",
            "Total training time: 0.01 seconds.\n",
            "-- Epoch 9\n",
            "Norm: 0.27, NNZs: 2, Bias: -0.100000, T: 72, Avg. loss: 0.007000\n",
            "Total training time: 0.01 seconds.\n",
            "-- Epoch 10\n",
            "Norm: 0.29, NNZs: 2, Bias: -0.100000, T: 80, Avg. loss: 0.006375\n",
            "Total training time: 0.01 seconds.\n",
            "-- Epoch 11\n",
            "Norm: 0.31, NNZs: 2, Bias: -0.100000, T: 88, Avg. loss: 0.005750\n",
            "Total training time: 0.01 seconds.\n",
            "Convergence after 11 epochs took 0.01 seconds\n",
            "[[-0.24  0.2 ]]\n",
            "[-0.1]\n",
            "1.0\n"
          ]
        }
      ],
      "source": [
        "from sklearn.linear_model import Perceptron\n",
        "\n",
        "#set up perceptron model with Learning rate 0.1, max epochs, and no shuffling\n",
        "clf = Perceptron(shuffle=False, verbose=1, eta0=.1)\n",
        "\n",
        "#import the data from arff file into a numpy array of floats\n",
        "Data_Set = arff.loadarff('debug.arff')\n",
        "Data_Set_df = pd.DataFrame(Data_Set[0])\n",
        "Data_Set_np = Data_Set_df.to_numpy()\n",
        "Data_Set_np = Data_Set_np.astype(float)\n",
        "\n",
        "#separate data into array of inputs and targets\n",
        "X = Data_Set_np[:, :-1]\n",
        "y = Data_Set_np[:, -1]\n",
        "\n",
        "#train the model, printing results after each epoch\n",
        "clf.fit(X, y)\n",
        "\n",
        "print(clf.coef_) #print the weights\n",
        "print(clf.intercept_)  #print the bias rate\n",
        "print(clf.score(X, y))  #mean accuracy"
      ]
    },
    {
      "cell_type": "markdown",
      "metadata": {
        "id": "45dPWgDf1I-n"
      },
      "source": [
        "Notes:\n",
        "* If you increase (or just remove) max_iter your perceptron will converge to 100% in one more epoch.  Try it!\n",
        "* verbose (integer) specifies how much info you get after each epoch.  It does not change results.  Try it with 0.\n",
        "    * Norm is a measure of the total weight magnitudes in the current model.\n",
        "    * NNZs is the number of non-zero weights there currently are (not including the bias).\n",
        "    * clf.intercept_ is the value of the bias weight, NOT the actual y-intercept of the decision surface, though it will affect that.\n",
        "    * T is the total number of weight updates so far.  In this case all the weights were updated each epoch.\n",
        "    * Avg. loss is another measure of error.  More on that later.\n",
        "    * The activation function outputs 1 if net > 0, else 0."
      ]
    },
    {
      "cell_type": "markdown",
      "metadata": {
        "id": "kY3VNB1ui03N"
      },
      "source": [
        "### 1.2 (15%) Evaluation\n",
        "\n",
        "Now run your model  on the [evaluation dataset](https://raw.githubusercontent.com/cs472ta/CS472/master/datasets/data_banknote_authentication.arff) and report the final accuracy, weights, and bias. Use the exact same hyperparameters as the debug dataset. The most common reason for results not matching ours is not exactly using the same hyperparameters (e.g. initial weights, training exactly 10 epochs, no shuffling, etc.) Hint: Throughout these labs for the numerous cases where you are doing the same task, but with different data (e.g. debug, eval), you could create a function where you just pass the data set name, so as not to recreate the code multiple times."
      ]
    },
    {
      "cell_type": "code",
      "execution_count": 175,
      "metadata": {
        "id": "2yAxA78QjDh2"
      },
      "outputs": [],
      "source": [
        "def run_perceptron(data_set):\n",
        "    \"\"\"\n",
        "    Run the Perceptron model on a specified data set\n",
        "\n",
        "    Args:\n",
        "        data_set (string): the .arff set used for the inputs and target\n",
        "\n",
        "    Perceptron specifications:\n",
        "        shuffle=False: No shuffling\n",
        "        verbose=1: Print information after each epoch\n",
        "        eta0=.1: Learning rate is 0.1\n",
        "        max_iter=10: Runs through 10 epochs at max\n",
        "        By default, the initial rates are all 0 and there is a bias\n",
        "\n",
        "    Output:\n",
        "        print the data from perceptron in each epoch\n",
        "        print the final weights\n",
        "        print the final bias rate\n",
        "        print the mean accuracy\n",
        "    \"\"\"\n",
        "    #set up perceptron model with Learning rate 0.1, max epochs, and no shuffling\n",
        "    clf = Perceptron(shuffle=False, verbose=1, eta0=.1, max_iter=10)\n",
        "\n",
        "    #import the data from arff file into a numpy array of floats\n",
        "    Data_Set = arff.loadarff(data_set)\n",
        "    Data_Set_df = pd.DataFrame(Data_Set[0])\n",
        "    Data_Set_np = Data_Set_df.to_numpy()\n",
        "    Data_Set_np = Data_Set_np.astype(float)\n",
        "\n",
        "    #separate data into array of inputs and targets\n",
        "    X = Data_Set_np[:, :-1]\n",
        "    y = Data_Set_np[:, -1]\n",
        "\n",
        "    #train the model, printing results after each epoch\n",
        "    clf.fit(X, y)\n",
        "\n",
        "    print(\"Weights: \", clf.coef_) #print the weights\n",
        "    print(\"Bias: \", clf.intercept_)  #print the bias rate\n",
        "    print(\"Accuracy: \", clf.score(X, y))  #mean accuracy"
      ]
    },
    {
      "cell_type": "code",
      "source": [
        "# Load evaluation data\n",
        "# Train on the evaluation data\n",
        "# print your accuracy and weights. Do not enter these values by hand.\n",
        "\n",
        "run_perceptron(\"eval.arff\")"
      ],
      "metadata": {
        "colab": {
          "base_uri": "https://localhost:8080/"
        },
        "id": "85dJ6-1T8Jog",
        "outputId": "899a0bb4-d123-4a0a-9ed5-b411b876db15"
      },
      "execution_count": 176,
      "outputs": [
        {
          "output_type": "stream",
          "name": "stdout",
          "text": [
            "-- Epoch 1\n",
            "Norm: 1.42, NNZs: 4, Bias: 2.100000, T: 1372, Avg. loss: 0.023615\n",
            "Total training time: 0.00 seconds.\n",
            "-- Epoch 2\n",
            "Norm: 2.90, NNZs: 4, Bias: 2.600000, T: 2744, Avg. loss: 0.022359\n",
            "Total training time: 0.00 seconds.\n",
            "-- Epoch 3\n",
            "Norm: 3.62, NNZs: 4, Bias: 3.500000, T: 4116, Avg. loss: 0.028435\n",
            "Total training time: 0.00 seconds.\n",
            "-- Epoch 4\n",
            "Norm: 4.36, NNZs: 4, Bias: 3.700000, T: 5488, Avg. loss: 0.013195\n",
            "Total training time: 0.00 seconds.\n",
            "-- Epoch 5\n",
            "Norm: 4.51, NNZs: 4, Bias: 4.300000, T: 6860, Avg. loss: 0.015216\n",
            "Total training time: 0.00 seconds.\n",
            "-- Epoch 6\n",
            "Norm: 4.70, NNZs: 4, Bias: 4.700000, T: 8232, Avg. loss: 0.026061\n",
            "Total training time: 0.00 seconds.\n",
            "-- Epoch 7\n",
            "Norm: 5.40, NNZs: 4, Bias: 4.600000, T: 9604, Avg. loss: 0.018060\n",
            "Total training time: 0.00 seconds.\n",
            "-- Epoch 8\n",
            "Norm: 5.83, NNZs: 4, Bias: 4.800000, T: 10976, Avg. loss: 0.018378\n",
            "Total training time: 0.00 seconds.\n",
            "-- Epoch 9\n",
            "Norm: 5.88, NNZs: 4, Bias: 5.200000, T: 12348, Avg. loss: 0.015085\n",
            "Total training time: 0.01 seconds.\n",
            "Convergence after 9 epochs took 0.01 seconds\n",
            "Weights:  [[-4.28857497 -2.390381   -3.0160324  -1.1686672 ]]\n",
            "Bias:  [5.2]\n",
            "Accuracy:  0.9766763848396501\n"
          ]
        }
      ]
    },
    {
      "cell_type": "markdown",
      "metadata": {
        "id": "U-4J5VcS9umq"
      },
      "source": [
        "In the code above, I created a function to train the Perceptron for me with the specified parameters for this lab. The function sets of the Perceptron model as an variable named clf. Then it loads the data from the data set, splits it into the input and target set, and trains the model. Finally, it prints out the results.\n",
        "\n",
        "After running the Perceptron on the evaluation set, the training converged in 9 epochs. It has the final weights [-4.28857497 -2.390381   -3.0160324  -1.1686672 ] with a bias of 5.2 and mean accuracy of 97.67%. This is a very high accuracy meaning that the model will likely generalize well. I was surprised to see how quickly the weights converged. I believe that it is becuase the training set was quite small."
      ]
    },
    {
      "cell_type": "markdown",
      "metadata": {
        "id": "9vWiTdlbR2Xh"
      },
      "source": [
        "## 2. Classifying on linearly separable and non-linearly separable data\n",
        "\n",
        "### 2.1 (5%) Create 2 datasets\n",
        "\n",
        "- Both with 8 instances using 2 real valued inputs with 4 instances from each class.\n",
        "- One data set should be linearly separable and the other not.\n",
        "\n"
      ]
    },
    {
      "cell_type": "code",
      "execution_count": 177,
      "metadata": {
        "id": "4SSoasDQSKXb",
        "colab": {
          "base_uri": "https://localhost:8080/",
          "height": 70
        },
        "outputId": "3f9a1ffd-02a0-4a30-f66b-af6e65897554"
      },
      "outputs": [
        {
          "output_type": "execute_result",
          "data": {
            "text/plain": [
              "'\\n@relation linearly_separable\\n@attribute a1 real\\n@attribute a2 real\\n@attribute class {0,1}\\n@data\\n-0.1, -0.8, 1\\n0.32, 0.17, 1\\n-0.08, -0.82, 1\\n-.8, 0.1, 1\\n-0.09, -0.81, 0\\n-0.77, 0.14, 0\\n0.2, 0.42, 0\\n-0.3, -0.07, 0\\n'"
            ],
            "application/vnd.google.colaboratory.intrinsic+json": {
              "type": "string"
            }
          },
          "metadata": {},
          "execution_count": 177
        }
      ],
      "source": [
        "# Create and show the 2 datasets.\n",
        "# You could do it here in Python or create arff files in your local folder with a text editor.\n",
        "\n",
        "# I created the two data sets as arff files in a local folder with a text editor\n",
        "\n",
        "#Linearly Seperable file\n",
        "\"\"\"\n",
        "@relation linearly_separable\n",
        "@attribute a1 real\n",
        "@attribute a2 real\n",
        "@attribute class {0,1}\n",
        "@data\n",
        "-0.3, 0.8, 1\n",
        "0.2, 0.7, 1\n",
        "-0.04, 0.1, 1\n",
        "-0.4, 0.3, 1\n",
        "-0.5, -0.9, 0\n",
        "0.54, -0.75, 0\n",
        "0.6, 0.2, 0\n",
        "0.3, -0.02, 0\n",
        "\"\"\"\n",
        "\n",
        "\n",
        "#Non linearly separable file\n",
        "\"\"\"\n",
        "@relation linearly_separable\n",
        "@attribute a1 real\n",
        "@attribute a2 real\n",
        "@attribute class {0,1}\n",
        "@data\n",
        "-0.1, -0.8, 1\n",
        "0.32, 0.17, 1\n",
        "-0.08, -0.82, 1\n",
        "-.8, 0.1, 1\n",
        "-0.09, -0.81, 0\n",
        "-0.77, 0.14, 0\n",
        "0.2, 0.42, 0\n",
        "-0.3, -0.07, 0\n",
        "\"\"\""
      ]
    },
    {
      "cell_type": "markdown",
      "metadata": {
        "id": "SIRG42TgSR4x"
      },
      "source": [
        "### 2.2 (5%) Train on both sets using the scikit-learn perceptron model"
      ]
    },
    {
      "cell_type": "code",
      "execution_count": 178,
      "metadata": {
        "id": "KBGUn43ASiXW",
        "colab": {
          "base_uri": "https://localhost:8080/"
        },
        "outputId": "5ee81d0f-974f-4b83-fca7-d426ba2c15d8"
      },
      "outputs": [
        {
          "output_type": "stream",
          "name": "stdout",
          "text": [
            "Linearly Separable\n",
            "-- Epoch 1\n",
            "Norm: 0.16, NNZs: 2, Bias: -0.100000, T: 8, Avg. loss: 0.011125\n",
            "Total training time: 0.00 seconds.\n",
            "-- Epoch 2\n",
            "Norm: 0.22, NNZs: 2, Bias: -0.100000, T: 16, Avg. loss: 0.004375\n",
            "Total training time: 0.00 seconds.\n",
            "-- Epoch 3\n",
            "Norm: 0.23, NNZs: 2, Bias: 0.000000, T: 24, Avg. loss: 0.009600\n",
            "Total training time: 0.00 seconds.\n",
            "-- Epoch 4\n",
            "Norm: 0.23, NNZs: 2, Bias: 0.000000, T: 32, Avg. loss: 0.000000\n",
            "Total training time: 0.00 seconds.\n",
            "-- Epoch 5\n",
            "Norm: 0.23, NNZs: 2, Bias: 0.000000, T: 40, Avg. loss: 0.000000\n",
            "Total training time: 0.00 seconds.\n",
            "-- Epoch 6\n",
            "Norm: 0.23, NNZs: 2, Bias: 0.000000, T: 48, Avg. loss: 0.000000\n",
            "Total training time: 0.01 seconds.\n",
            "-- Epoch 7\n",
            "Norm: 0.23, NNZs: 2, Bias: 0.000000, T: 56, Avg. loss: 0.000000\n",
            "Total training time: 0.01 seconds.\n",
            "-- Epoch 8\n",
            "Norm: 0.23, NNZs: 2, Bias: 0.000000, T: 64, Avg. loss: 0.000000\n",
            "Total training time: 0.01 seconds.\n",
            "-- Epoch 9\n",
            "Norm: 0.23, NNZs: 2, Bias: 0.000000, T: 72, Avg. loss: 0.000000\n",
            "Total training time: 0.01 seconds.\n",
            "Convergence after 9 epochs took 0.01 seconds\n",
            "Weights:  [[-0.084  0.21 ]]\n",
            "Bias:  [0.]\n",
            "Accuracy:  1.0\n",
            "\n",
            "Not Linearly Separable\n",
            "-- Epoch 1\n",
            "Norm: 0.08, NNZs: 2, Bias: -0.100000, T: 8, Avg. loss: 0.020826\n",
            "Total training time: 0.00 seconds.\n",
            "-- Epoch 2\n",
            "Norm: 0.07, NNZs: 2, Bias: -0.100000, T: 16, Avg. loss: 0.041420\n",
            "Total training time: 0.00 seconds.\n",
            "-- Epoch 3\n",
            "Norm: 0.07, NNZs: 2, Bias: -0.100000, T: 24, Avg. loss: 0.041389\n",
            "Total training time: 0.00 seconds.\n",
            "-- Epoch 4\n",
            "Norm: 0.07, NNZs: 2, Bias: -0.100000, T: 32, Avg. loss: 0.041358\n",
            "Total training time: 0.01 seconds.\n",
            "-- Epoch 5\n",
            "Norm: 0.09, NNZs: 2, Bias: -0.100000, T: 40, Avg. loss: 0.033411\n",
            "Total training time: 0.01 seconds.\n",
            "-- Epoch 6\n",
            "Norm: 0.11, NNZs: 2, Bias: -0.100000, T: 48, Avg. loss: 0.032540\n",
            "Total training time: 0.01 seconds.\n",
            "Convergence after 6 epochs took 0.01 seconds\n",
            "Weights:  [[ 0.086 -0.07 ]]\n",
            "Bias:  [-0.1]\n",
            "Accuracy:  0.5\n"
          ]
        }
      ],
      "source": [
        "# Train on each and print the results. Train until convergence (i.e. use the default max_iter).\n",
        "# You may choose your other hyperparameters.\n",
        "\n",
        "print(\"Linearly Separable\")\n",
        "run_perceptron(\"linearly_separable.arff\")\n",
        "print()\n",
        "print(\"Not Linearly Separable\")\n",
        "run_perceptron(\"non_linearly_separable.arff\")"
      ]
    },
    {
      "cell_type": "markdown",
      "metadata": {
        "id": "890A39KX9zLC"
      },
      "source": [
        "I created both of the data sets as arff files in the text editor on my local file system. To make the linearly separable on, I made each a2 value greater than the a1 value for the target output 1. And, for the target output 2, I made each a1 value greater than the a2 value. Therefore, I knew that the data set was linearly separable by at least the line y=x.\n",
        "\n",
        "After running the Perceptron, the model on the Linearly Separable data converged after 9 epochs, with the final weights [-0.84,0.21], no bias, and an accuracy of 100%. This was expected since I purposely made the data easy to separate.\n",
        "\n",
        "For the data file of non-linearly-separable data points, I made the data more random and purposely made some inputs with target output 1 really similar to other inputs with target output 0. The model on this data converged after 6 epochs with the final weights [-0.84,0.21], a bias of -0.1, and an accuracy of 0.5. This accuracy was also expected since I purposely made the data difficuly to separate. But, I was surprised to see how quickly it converged. This must be becuase after the 6th epoch, the accuracy was already maximized."
      ]
    },
    {
      "cell_type": "markdown",
      "metadata": {
        "id": "v19fpixqTe-7"
      },
      "source": [
        "### 2.3 (10%) Graph the datasets and their corresponding decision line\n",
        "\n",
        " - Graph each dataset\n",
        " - Use your trained perceptrons above to determine each dataset's decision line\n",
        "    - We discssed how to find the slope and intercept in class and the equation is in the Percptron slides\n",
        " - For all graphs always label the axes!\n",
        " - Following are examples of what graphs could look like\n",
        "\n",
        "![Linearly Separable Data](https://raw.githubusercontent.com/rmorain/CS472-1/master/images/perceptron/linearly_separable.png)\n",
        "\n",
        "![Not Linearly Separable](https://raw.githubusercontent.com/rmorain/CS472-1/master/images/perceptron/not_linearly_separable.png)"
      ]
    },
    {
      "cell_type": "code",
      "execution_count": 179,
      "metadata": {
        "colab": {
          "base_uri": "https://localhost:8080/",
          "height": 472
        },
        "id": "8l64tZUqCEwy",
        "outputId": "8a6521cd-91a6-40b2-e011-5c627e0ddd07"
      },
      "outputs": [
        {
          "output_type": "display_data",
          "data": {
            "text/plain": [
              "<Figure size 640x480 with 1 Axes>"
            ],
            "image/png": "[encoded data removed]"
          },
          "metadata": {}
        }
      ],
      "source": [
        "import matplotlib.pyplot as plt\n",
        "\n",
        "#import the linearlt separable data from arff file into a numpy array of floats\n",
        "lin_sep_data = arff.loadarff(\"linearly_separable.arff\")\n",
        "lin_sep_data_df = pd.DataFrame(lin_sep_data[0])\n",
        "lin_sep_data_np = lin_sep_data_df.to_numpy()\n",
        "lin_sep_data_np = lin_sep_data_np.astype(float)\n",
        "\n",
        "#separate data into array of inputs and targets\n",
        "lin_sep_X = lin_sep_data_np[:, :-1]\n",
        "lin_sep_y = lin_sep_data_np[:, -1]\n",
        "\n",
        "# Create a scatter plot of data\n",
        "plt.xlim(-1,1)\n",
        "plt.ylim(-1,1)\n",
        "scatter = plt.scatter(lin_sep_X[:,0], lin_sep_X[:,1], c = lin_sep_y, s=200, cmap='seismic')\n",
        "legend = plt.legend(*scatter.legend_elements(num=1), title=\"Class\", loc='upper right') # Legend\n",
        "\n",
        "\n",
        "# Plot the learned separator\n",
        "xlist = np.linspace(-1.0, 1.0, 100) # create 100 evenly spaced points between -1 and 1 for the x axis\n",
        "ylist = np.linspace(-1.0, 1.0, 100) # create 100 evenly spaced points between -1 and 1 for the y axis\n",
        "slope = 0.084/0.21  # calculated from learned weights [-0.084  0.21 ]\n",
        "intercept = 0 # calculated from the Bias 0\n",
        "eq = slope*xlist + intercept\n",
        "plt.plot(xlist,  eq, '-k', )\n",
        "plt.title('Linearly Separable Data Example')\n",
        "plt.xlabel('x')\n",
        "plt.ylabel('y')\n",
        "plt.grid() # add grid lines\n",
        "plt.show() # show the plot"
      ]
    },
    {
      "cell_type": "code",
      "execution_count": 180,
      "metadata": {
        "id": "ZCPFUAGTS2sX",
        "colab": {
          "base_uri": "https://localhost:8080/",
          "height": 472
        },
        "outputId": "c72685a7-7277-40f3-e7b5-0c7aaedc46d3"
      },
      "outputs": [
        {
          "output_type": "display_data",
          "data": {
            "text/plain": [
              "<Figure size 640x480 with 1 Axes>"
            ],
            "image/png": "[encoded data removed]"
          },
          "metadata": {}
        }
      ],
      "source": [
        "# Graph datasets and decision lines for both cases.\n",
        "\n",
        "import matplotlib.pyplot as plt\n",
        "\n",
        "#import the linearlt separable data from arff file into a numpy array of floats\n",
        "non_lin_sep_data = arff.loadarff(\"non_linearly_separable.arff\")\n",
        "non_lin_sep_data_df = pd.DataFrame(non_lin_sep_data[0])\n",
        "non_lin_sep_data_np = non_lin_sep_data_df.to_numpy()\n",
        "non_lin_sep_data_np = non_lin_sep_data_np.astype(float)\n",
        "\n",
        "#separate data into array of inputs and targets\n",
        "non_lin_sep_X = non_lin_sep_data_np[:, :-1]\n",
        "non_lin_sep_y = non_lin_sep_data_np[:, -1]\n",
        "\n",
        "# Create a scatter plot of data\n",
        "plt.xlim(-1,1)\n",
        "plt.ylim(-1,1)\n",
        "scatter = plt.scatter(non_lin_sep_X[:,0], non_lin_sep_X[:,1],\n",
        "                      c = non_lin_sep_y, s=200, cmap='seismic')\n",
        "legend = plt.legend(*scatter.legend_elements(num=1),\n",
        "                    title=\"Class\", loc='upper right') # Legend\n",
        "\n",
        "\n",
        "# Plot the learned separator\n",
        "xlist = np.linspace(-1.0, 1.0, 100) # create 100 evenly spaced points between -1 and 1 for the x axis\n",
        "ylist = np.linspace(-1.0, 1.0, 100) # create 100 evenly spaced points between -1 and 1 for the y axis\n",
        "slope = 0.086/0.07  # Calculated from the Weights:  [ 0.086 -0.07 ]\n",
        "intercept = -0.1/-0.07 # calculated from the Bias -0.1 and weight -0.07\n",
        "eq = slope*xlist + intercept\n",
        "plt.plot(xlist,  eq, '-k', )\n",
        "plt.title('Not Linearly Separable Data Example')\n",
        "plt.xlabel('x')\n",
        "plt.ylabel('y')\n",
        "plt.grid() # add grid lines\n",
        "plt.show() # show the plot"
      ]
    },
    {
      "cell_type": "markdown",
      "metadata": {
        "id": "M7dyHR0c92zd"
      },
      "source": [
        "I used Matplotlib to graph the two sets of data. And, I found the equation of the line to seperate them by plugging the weights into x_2=(-w_1/w_2)x_1+bias/w_2.\n",
        "\n",
        "After graphing the data, the first set is clearly linearly separable. The Perceptron model used the line y=0.4x to seperate the data. Clearly, all the red points (class = 1) are above the line and all the blue points (class = 0) are below the line. This explains why the model had 100% accuracy.\n",
        "\n",
        "And second set of data is clearly not linearly separable. There is no possible line that can seperate the blue points from the red ones. This is because I purposely made the data impossible to separate. For example how there at two points of class 1 and one of class 0 all clustered near (-0.1,-0.8). So, the model did the best it could, creating a line at y=1.23x+1.43, which above all of the data points. This makes perfect sense since the model only has 50% accuracy and half of the data belongs to each class."
      ]
    },
    {
      "cell_type": "markdown",
      "metadata": {
        "id": "_N5RXV8AzdRF"
      },
      "source": [
        "### 2.4 (5%) Discuss why the perceptron won’t get perfect accuracy on non-linearly separable data"
      ]
    },
    {
      "cell_type": "markdown",
      "metadata": {
        "id": "0hSjHuLdzdRF"
      },
      "source": [
        "Perceptron will not get perfect accuracy on non-linearly separable data because it is mathematically impossible. In the example above, for example, no matter how many different lines we try, we will never be able to create a decision boundary that separates the two classes. So, when the data is not linearly separable, at least one data point will be on the incorrect side of the decision boundary. And, since the accuracy is a measure based on the difference between the target output and correct classification, it will always be less than 100%"
      ]
    },
    {
      "cell_type": "markdown",
      "metadata": {
        "id": "0ySvhd1lUGSe"
      },
      "source": [
        "## 3. Use the perceptron to learn this version of the [voting data set](https://raw.githubusercontent.com/cs472ta/CS472/master/datasets/voting-dataset.arff)\n",
        "\n",
        "This particular task is an edited version of the standard voting set, where we have replaced all the “don’t know” values with the most common value for the particular attribute.  \n",
        "\n",
        "### 3.1 (10%) Average final training and test set accuracy over multiple trials\n",
        "\n",
        "- Learn the voting data five times with different random 70/30 Training/Test splits each time\n",
        "- Use a learning rate of 1.  The other hyperparameters are up to you.\n",
        "- Report the 5 trials and the average training and test accuracy and number of epochs to converge across the 5 trials in a table\n",
        "    - Below is an example of what a 2 trial table might look like\n",
        "\n",
        "| Trial | Training Accuracy | Test accuracy | Number of epochs |\n",
        "| --- | --- | --- | --- |\n",
        "| 1 | .950 | .550 | 4 |\n",
        "| 2 | .850 | .450 | 6 |\n",
        "| Average | .900 | .500 | 5 |\n",
        "\n",
        "*- As a rough sanity check, typical Perceptron test accuracies for the voting data set are 90%-98%.*\n"
      ]
    },
    {
      "cell_type": "code",
      "source": [
        "from sklearn.model_selection import train_test_split\n",
        "\n",
        "def run_perceptron_splits(data_set):\n",
        "    \"\"\"\n",
        "    Run the Perceptron model on a specified data set\n",
        "\n",
        "    Args:\n",
        "        data_set (string): the .arff set used for the inputs and target\n",
        "\n",
        "    Perceptron specifications:\n",
        "        shuffle=False: No shuffling\n",
        "        verbose=1: Print information after each epoch\n",
        "        eta0=1: Learning rate is 1\n",
        "        By default, the initial rates are all 0 and there is a bias\n",
        "\n",
        "    Output:\n",
        "        clf.score(X_train, y_train): Training Accuracy\n",
        "        clf.score(X_test, y_test): Test Accuracy\n",
        "        clf.n_iter_: Number of epochs\n",
        "        clf.coef_: weights\n",
        "        clf.intercept_: Bias\n",
        "    \"\"\"\n",
        "    #set up perceptron model with Learning rate 1, and no shuffling\n",
        "    clf = Perceptron(shuffle=False, verbose=0, eta0=1)\n",
        "\n",
        "    #import the data from arff file into a numpy array of floats\n",
        "    Data_Set = arff.loadarff(data_set)\n",
        "    Data_Set_df = pd.DataFrame(Data_Set[0])\n",
        "    Data_Set_np = Data_Set_df.to_numpy()\n",
        "\n",
        "    #separate data into array of inputs and targets\n",
        "    X = Data_Set_np[:, :-1]\n",
        "    y = Data_Set_np[:, -1]\n",
        "\n",
        "    #convert bytes with \"yes\" to 1, and bytes with \"no\" to 0\n",
        "    X[X == b'y'] = 1\n",
        "    X[X == b'n'] = 0\n",
        "    X = X.astype(float)\n",
        "\n",
        "    #convert class of republican to 1, and class of democrat to 0\n",
        "    y[y == b'republican'] = 1\n",
        "    y[y == b'democrat'] = 0\n",
        "    y = y.astype(float)\n",
        "\n",
        "    #randomly split the data into test and training (70%)\n",
        "    X_train, X_test, y_train, y_test = train_test_split(X, y, test_size=0.30)\n",
        "\n",
        "    #train the model\n",
        "    clf.fit(X_train, y_train)\n",
        "\n",
        "    #return data of the model\n",
        "    return clf.score(X_train, y_train), clf.score(X_test, y_test), clf.n_iter_, clf.coef_, clf.intercept_"
      ],
      "metadata": {
        "id": "AYeKHJ-vbc5f"
      },
      "execution_count": 181,
      "outputs": []
    },
    {
      "cell_type": "code",
      "execution_count": 182,
      "metadata": {
        "id": "Romyl4G8Trki",
        "colab": {
          "base_uri": "https://localhost:8080/"
        },
        "outputId": "baf96917-5748-4fd0-e2e1-c4aa7161fe34"
      },
      "outputs": [
        {
          "output_type": "stream",
          "name": "stdout",
          "text": [
            "  Trial    Training Accuracy    Test accuracy    Number of epochs\n",
            "-------  -------------------  ---------------  ------------------\n",
            "      1             0.968944         0.956835                  12\n",
            "      2             0.940994         0.928058                  12\n",
            "      3             0.947205         0.942446                  10\n",
            "      4             0.903727         0.884892                  12\n",
            "      5             0.965839         0.928058                  16\n"
          ]
        }
      ],
      "source": [
        "# Run the perceptron 5 times on the voting data set with different splits and record the results.\n",
        "# Hint: look up scikit-learn train_test_split\n",
        "# Create the table using the tool of your choice\n",
        "\n",
        "from tabulate import tabulate\n",
        "table_data = [[\"Trial\", \"Training Accuracy\",\t\"Test accuracy\",\t\"Number of epochs\"]]\n",
        "\n",
        "#Run the perceptron 5 times with different splits and gather data\n",
        "for i in range(5):\n",
        "    training_accuracy, test_accuracy, epochs, weight, bias = run_perceptron_splits(\"voting.arff\")\n",
        "    data_to_add = [i+1, training_accuracy, test_accuracy, epochs]\n",
        "    table_data.append(data_to_add)\n",
        "\n",
        "#Make a table\n",
        "table = tabulate(table_data, headers=\"firstrow\")\n",
        "print(table)\n"
      ]
    },
    {
      "cell_type": "markdown",
      "metadata": {
        "id": "cm4rbWkzVeoR"
      },
      "source": [
        "### 3.2 (5%) Interpreting the Model\n",
        "- Learn with the perceptron once on the full voting data set\n",
        "- Look at the learned weights and bias and do your best to explain what the model has learned and how the individual input features affect the result.\n",
        "- Which specific features are most critical for the voting task, and which are least critical?"
      ]
    },
    {
      "cell_type": "code",
      "source": [
        "def run_perceptron_after_training(data_set):\n",
        "    \"\"\"\n",
        "    Run the Perceptron model on a full data set (after training)\n",
        "\n",
        "    Args:\n",
        "        data_set (string): the .arff set used for the inputs and target\n",
        "\n",
        "    Perceptron specifications:\n",
        "        shuffle=False: No shuffling\n",
        "        verbose=1: Print information after each epoch\n",
        "        eta0=1: Learning rate is 1\n",
        "        By default, the initial rates are all 0 and there is a bias\n",
        "\n",
        "    Output:\n",
        "        clf.score(X, y): Accuracy\n",
        "        clf.n_iter_: Number of epochs\n",
        "        clf.coef_: weights\n",
        "        clf.intercept_: Bias\n",
        "    \"\"\"\n",
        "    #set up perceptron model with Learning rate 1, and no shuffling\n",
        "    clf = Perceptron(shuffle=False, verbose=0, eta0=1)\n",
        "\n",
        "    #import the data from arff file into a numpy array of floats\n",
        "    Data_Set = arff.loadarff(data_set)\n",
        "    Data_Set_df = pd.DataFrame(Data_Set[0])\n",
        "    Data_Set_np = Data_Set_df.to_numpy()\n",
        "\n",
        "    #separate data into array of inputs and targets\n",
        "    X = Data_Set_np[:, :-1]\n",
        "    y = Data_Set_np[:, -1]\n",
        "\n",
        "    #convert bytes with \"yes\" to 1, and bytes with \"no\" to 0\n",
        "    X[X == b'y'] = 1\n",
        "    X[X == b'n'] = 0\n",
        "    X = X.astype(float)\n",
        "\n",
        "    #convert class of republican to 1, and class of democrat to 0\n",
        "    y[y == b'republican'] = 1\n",
        "    y[y == b'democrat'] = 0\n",
        "    y = y.astype(float)\n",
        "\n",
        "    #train the model\n",
        "    clf.fit(X, y)\n",
        "\n",
        "    #return data of the model\n",
        "    return clf.score(X, y), clf.n_iter_, clf.coef_, clf.intercept_"
      ],
      "metadata": {
        "id": "Cg40JhC52wyn"
      },
      "execution_count": 183,
      "outputs": []
    },
    {
      "cell_type": "code",
      "execution_count": 184,
      "metadata": {
        "id": "K3i3J_Ja1I-u",
        "colab": {
          "base_uri": "https://localhost:8080/"
        },
        "outputId": "b4e3d8d9-e6f7-42ad-92a2-96f8cc618cfa"
      },
      "outputs": [
        {
          "output_type": "stream",
          "name": "stdout",
          "text": [
            "After running the model on the whole data set....\n",
            "Accuracy:  0.9674620390455532\n",
            "Number of epochs:  8\n",
            "Final weights:  [[ -2.   0. -13.  24.   3.  -5.   7.   4.  -6.   5. -11.  -4.  -3.   4.\n",
            "   -6.   1.]]\n",
            "Final bias:  [-9.]\n"
          ]
        }
      ],
      "source": [
        "#Learn once on the full voting data set\n",
        "accuracy, epochs, weights, bias = run_perceptron_after_training(\"voting.arff\")\n",
        "print(\"After running the model on the whole data set....\")\n",
        "print(\"Accuracy: \", accuracy)\n",
        "print(\"Number of epochs: \", epochs)\n",
        "print(\"Final weights: \", weight)\n",
        "print(\"Final bias: \", bias)"
      ]
    },
    {
      "cell_type": "markdown",
      "metadata": {
        "id": "UbfPgy5_1I-v"
      },
      "source": [
        "To set up the Perceptron, I first need to convert the byte data into binary (1's and 0's). So, I set the republican class to be 1 and the democratic class to be 0. Also, for the input data, I set the \"yes\" answers to be 1 and the \"no\" answers to be 0. Then, after converting the data into arrays of binary numbers, the Perceptron model could be run. I ran it 5 times on random splits between the training and test sets. These trials were about 85-97% accurate.\n",
        "\n",
        "Next, I ran the Perceptron model on the entire data set, the model was 96.75% accurate, which is surprisingly high. And, the model converged to its solution after just 8 epochs. Apparently, it is quite easy to predict if someone is Republican or Democratic.\n",
        "\n",
        "The model's final bias was -9. This means that, according to the model, if none of the issues were to matter, an average person is more likely to be democratic (since the class was set at 0, which is less than 1).\n",
        "\n",
        "Also, the final weights can help identify which issues matter more. In this specific model, the inputs with the highest magnitudes were the 3rd, 4th, and 12th. The 3rd input value (adoption of the budget resolution) had a value of -11. This means that the people who agree with the budget resolution are much more likely to be democratic. The 4th input value (physician free freeze) had a value of 16. This is an extremely high number and means that there is a high probability that the people who agree with the fee freeze are republicans. Finally, the 12th input value (education spending) had a value of -14. Once again, this means the people who support education spending are more likely to be democratic.\n",
        "\n",
        "I found this experiment to be really interesting. A computer really can accurately predict the political party of someone. And, it is even able to discern which issues are more important for each party.\n"
      ]
    },
    {
      "cell_type": "markdown",
      "metadata": {
        "id": "NyUmJ4yWVsQ7"
      },
      "source": [
        "### 3.3 (10%) Misclassification rate vs epochs\n",
        "\n",
        "Learn with the perceptron once on the full voting data set and graph the misclassification rate (number_misclassified  /  number_of_total_data_points) at each epoch until convergence (0th – final epoch).  Hints:\n",
        "- For the 0th epoch (i.e. initial weights), assume the initial rate should be about 50% and let that be your first point on your graph.\n",
        "- Doing clf.fit with max_iter = 1, and warm_start=True will let you loop through epochs one at a time, allowing you to look at accuracy, etc. after each epoch.  But how do you know how many epochs to run until convergence?  One way is to just to first run it until convergence with random_state = c to see how many epochs it took (n_iter_).  Then run it again one epoch at a time n_iter_ times using the same random_state constant c (so that you get the exact same conditions).\n",
        "- Below is a rough example of what this type of graph might look like (though this graph is for avg rate across multiple trials)\n",
        "\n",
        "![Average Misclassification Rate](https://raw.githubusercontent.com/rmorain/CS472-1/master/images/perceptron/avg_misclassification_rate_vs_epochs.png)"
      ]
    },
    {
      "cell_type": "code",
      "source": [
        "def run_perceptron_miscallification(data_set):\n",
        "    \"\"\"\n",
        "    Run the Perceptron model, epoch by epoch on a full data set\n",
        "\n",
        "    Args:\n",
        "        data_set (string): the .arff set used for the inputs and target\n",
        "\n",
        "    Perceptron specifications:\n",
        "        shuffle=False: No shuffling\n",
        "        verbose=1: Print information after each epoch\n",
        "        eta0=1: Learning rate is 1\n",
        "        By default, the initial rates are all 0 and there is a bias\n",
        "\n",
        "    Output:\n",
        "        miscallification_rate: list of the rate after each epoch\n",
        "    \"\"\"\n",
        "    miscallification_rate = [0.5]  #assume the rate is 50% at 0th epoch\n",
        "    #set up perceptron model with Learning rate 1, max epochs, and no shuffling\n",
        "    clf = Perceptron(shuffle=False, verbose=1, eta0=1, warm_start=True,\n",
        "                     max_iter=1, random_state=9876)\n",
        "    #After running the model with random_state=9876, it converges with 8 epochs\n",
        "\n",
        "    #import the data from arff file into a numpy array of floats\n",
        "    Data_Set = arff.loadarff(data_set)\n",
        "    Data_Set_df = pd.DataFrame(Data_Set[0])\n",
        "    Data_Set_np = Data_Set_df.to_numpy()\n",
        "\n",
        "    #separate data into array of inputs and targets\n",
        "    X = Data_Set_np[:, :-1]\n",
        "    y = Data_Set_np[:, -1]\n",
        "\n",
        "    #convert bytes with \"yes\" to 1, and bytes with \"no\" to 0\n",
        "    X[X == b'y'] = 1\n",
        "    X[X == b'n'] = 0\n",
        "    X = X.astype(float)\n",
        "\n",
        "    #convert class of republican to 1, and class of democrat to 0\n",
        "    y[y == b'republican'] = 1\n",
        "    y[y == b'democrat'] = 0\n",
        "    y = y.astype(float)\n",
        "\n",
        "    #train the model\n",
        "    for i in range(8):\n",
        "        clf.fit(X, y)\n",
        "        #score is the opposite of miscallification rate\n",
        "        miscallification_rate.append(1 - clf.score(X, y))\n",
        "\n",
        "    return miscallification_rate"
      ],
      "metadata": {
        "id": "kpIZXNzM9sNg"
      },
      "execution_count": 185,
      "outputs": []
    },
    {
      "cell_type": "code",
      "source": [
        "run_perceptron_miscallification(\"voting.arff\")"
      ],
      "metadata": {
        "colab": {
          "base_uri": "https://localhost:8080/"
        },
        "id": "FaNaVTg9-cxX",
        "outputId": "891b89d1-6cd9-4de0-fb67-61da215b753a"
      },
      "execution_count": 186,
      "outputs": [
        {
          "output_type": "stream",
          "name": "stdout",
          "text": [
            "-- Epoch 1\n",
            "Norm: 13.78, NNZs: 15, Bias: -2.000000, T: 461, Avg. loss: 0.240781\n",
            "Total training time: 0.00 seconds.\n",
            "-- Epoch 1\n",
            "Norm: 17.23, NNZs: 13, Bias: -4.000000, T: 461, Avg. loss: 0.188720\n",
            "Total training time: 0.00 seconds.\n",
            "-- Epoch 1\n",
            "Norm: 18.84, NNZs: 13, Bias: -4.000000, T: 461, Avg. loss: 0.162690\n",
            "Total training time: 0.00 seconds.\n",
            "-- Epoch 1\n",
            "Norm: 21.14, NNZs: 16, Bias: -5.000000, T: 461, Avg. loss: 0.206074\n",
            "Total training time: 0.00 seconds.\n",
            "-- Epoch 1\n",
            "Norm: 23.26, NNZs: 14, Bias: -7.000000, T: 461, Avg. loss: 0.184382\n",
            "Total training time: 0.00 seconds.\n",
            "-- Epoch 1\n",
            "Norm: 24.78, NNZs: 16, Bias: -8.000000, T: 461, Avg. loss: 0.199566\n",
            "Total training time: 0.00 seconds.\n",
            "-- Epoch 1\n",
            "Norm: 25.44, NNZs: 15, Bias: -9.000000, T: 461, Avg. loss: 0.210412\n",
            "Total training time: 0.00 seconds.\n",
            "-- Epoch 1\n",
            "Norm: 25.96, NNZs: 14, Bias: -9.000000, T: 461, Avg. loss: 0.199566\n",
            "Total training time: 0.00 seconds.\n"
          ]
        },
        {
          "output_type": "stream",
          "name": "stderr",
          "text": [
            "/usr/local/lib/python3.10/dist-packages/sklearn/linear_model/_stochastic_gradient.py:702: ConvergenceWarning: Maximum number of iteration reached before convergence. Consider increasing max_iter to improve the fit.\n",
            "  warnings.warn(\n",
            "/usr/local/lib/python3.10/dist-packages/sklearn/linear_model/_stochastic_gradient.py:702: ConvergenceWarning: Maximum number of iteration reached before convergence. Consider increasing max_iter to improve the fit.\n",
            "  warnings.warn(\n",
            "/usr/local/lib/python3.10/dist-packages/sklearn/linear_model/_stochastic_gradient.py:702: ConvergenceWarning: Maximum number of iteration reached before convergence. Consider increasing max_iter to improve the fit.\n",
            "  warnings.warn(\n",
            "/usr/local/lib/python3.10/dist-packages/sklearn/linear_model/_stochastic_gradient.py:702: ConvergenceWarning: Maximum number of iteration reached before convergence. Consider increasing max_iter to improve the fit.\n",
            "  warnings.warn(\n",
            "/usr/local/lib/python3.10/dist-packages/sklearn/linear_model/_stochastic_gradient.py:702: ConvergenceWarning: Maximum number of iteration reached before convergence. Consider increasing max_iter to improve the fit.\n",
            "  warnings.warn(\n",
            "/usr/local/lib/python3.10/dist-packages/sklearn/linear_model/_stochastic_gradient.py:702: ConvergenceWarning: Maximum number of iteration reached before convergence. Consider increasing max_iter to improve the fit.\n",
            "  warnings.warn(\n",
            "/usr/local/lib/python3.10/dist-packages/sklearn/linear_model/_stochastic_gradient.py:702: ConvergenceWarning: Maximum number of iteration reached before convergence. Consider increasing max_iter to improve the fit.\n",
            "  warnings.warn(\n",
            "/usr/local/lib/python3.10/dist-packages/sklearn/linear_model/_stochastic_gradient.py:702: ConvergenceWarning: Maximum number of iteration reached before convergence. Consider increasing max_iter to improve the fit.\n",
            "  warnings.warn(\n"
          ]
        },
        {
          "output_type": "execute_result",
          "data": {
            "text/plain": [
              "[0.5,\n",
              " 0.05206073752711493,\n",
              " 0.0390455531453362,\n",
              " 0.04772234273318876,\n",
              " 0.05422993492407813,\n",
              " 0.04772234273318876,\n",
              " 0.045553145336225564,\n",
              " 0.03687635574837311,\n",
              " 0.03253796095444683]"
            ]
          },
          "metadata": {},
          "execution_count": 186
        }
      ]
    },
    {
      "cell_type": "code",
      "execution_count": 187,
      "metadata": {
        "id": "2_ZRPWWVVeFM"
      },
      "outputs": [],
      "source": [
        "# Learn once on the full voting data set, while gathering info after every epoch\n",
        "# Then Graph it here.  Here is some sample graph code, but you can do it your own way, including using a bar graph, etc.\n",
        "\n",
        "def plot_misclassification(misclassification_rate):\n",
        "    \"\"\"\n",
        "        Plots the misclassification rate\n",
        "    Args:\n",
        "        misclassification_rate (array-like): A 1D array or list of missclassifcation rate at every epoch\n",
        "    \"\"\"\n",
        "    plt.plot(np.arange(len(misclassification_rate)), misclassification_rate)\n",
        "    plt.title(\"Misclassification Rate vs. Epoch\")\n",
        "    plt.xlabel(\"Epoch\")\n",
        "    plt.ylabel(\"Misclassification Rate\")\n",
        "    plt.show()"
      ]
    },
    {
      "cell_type": "code",
      "source": [
        "plot_misclassification(run_perceptron_miscallification(\"voting.arff\"))"
      ],
      "metadata": {
        "colab": {
          "base_uri": "https://localhost:8080/",
          "height": 1000
        },
        "id": "MWXATgL8DB78",
        "outputId": "464f104e-cd51-4124-d757-d2a6cf2fcd36"
      },
      "execution_count": 188,
      "outputs": [
        {
          "output_type": "stream",
          "name": "stdout",
          "text": [
            "-- Epoch 1\n",
            "Norm: 13.78, NNZs: 15, Bias: -2.000000, T: 461, Avg. loss: 0.240781\n",
            "Total training time: 0.00 seconds.\n",
            "-- Epoch 1\n",
            "Norm: 17.23, NNZs: 13, Bias: -4.000000, T: 461, Avg. loss: 0.188720\n",
            "Total training time: 0.00 seconds.\n",
            "-- Epoch 1\n",
            "Norm: 18.84, NNZs: 13, Bias: -4.000000, T: 461, Avg. loss: 0.162690\n",
            "Total training time: 0.00 seconds.\n",
            "-- Epoch 1\n",
            "Norm: 21.14, NNZs: 16, Bias: -5.000000, T: 461, Avg. loss: 0.206074\n",
            "Total training time: 0.00 seconds.\n",
            "-- Epoch 1\n",
            "Norm: 23.26, NNZs: 14, Bias: -7.000000, T: 461, Avg. loss: 0.184382\n",
            "Total training time: 0.00 seconds.\n",
            "-- Epoch 1\n",
            "Norm: 24.78, NNZs: 16, Bias: -8.000000, T: 461, Avg. loss: 0.199566\n",
            "Total training time: 0.00 seconds.\n",
            "-- Epoch 1\n",
            "Norm: 25.44, NNZs: 15, Bias: -9.000000, T: 461, Avg. loss: 0.210412\n",
            "Total training time: 0.00 seconds.\n",
            "-- Epoch 1\n",
            "Norm: 25.96, NNZs: 14, Bias: -9.000000, T: 461, Avg. loss: 0.199566\n",
            "Total training time: 0.00 seconds.\n"
          ]
        },
        {
          "output_type": "stream",
          "name": "stderr",
          "text": [
            "/usr/local/lib/python3.10/dist-packages/sklearn/linear_model/_stochastic_gradient.py:702: ConvergenceWarning: Maximum number of iteration reached before convergence. Consider increasing max_iter to improve the fit.\n",
            "  warnings.warn(\n",
            "/usr/local/lib/python3.10/dist-packages/sklearn/linear_model/_stochastic_gradient.py:702: ConvergenceWarning: Maximum number of iteration reached before convergence. Consider increasing max_iter to improve the fit.\n",
            "  warnings.warn(\n",
            "/usr/local/lib/python3.10/dist-packages/sklearn/linear_model/_stochastic_gradient.py:702: ConvergenceWarning: Maximum number of iteration reached before convergence. Consider increasing max_iter to improve the fit.\n",
            "  warnings.warn(\n",
            "/usr/local/lib/python3.10/dist-packages/sklearn/linear_model/_stochastic_gradient.py:702: ConvergenceWarning: Maximum number of iteration reached before convergence. Consider increasing max_iter to improve the fit.\n",
            "  warnings.warn(\n",
            "/usr/local/lib/python3.10/dist-packages/sklearn/linear_model/_stochastic_gradient.py:702: ConvergenceWarning: Maximum number of iteration reached before convergence. Consider increasing max_iter to improve the fit.\n",
            "  warnings.warn(\n",
            "/usr/local/lib/python3.10/dist-packages/sklearn/linear_model/_stochastic_gradient.py:702: ConvergenceWarning: Maximum number of iteration reached before convergence. Consider increasing max_iter to improve the fit.\n",
            "  warnings.warn(\n",
            "/usr/local/lib/python3.10/dist-packages/sklearn/linear_model/_stochastic_gradient.py:702: ConvergenceWarning: Maximum number of iteration reached before convergence. Consider increasing max_iter to improve the fit.\n",
            "  warnings.warn(\n",
            "/usr/local/lib/python3.10/dist-packages/sklearn/linear_model/_stochastic_gradient.py:702: ConvergenceWarning: Maximum number of iteration reached before convergence. Consider increasing max_iter to improve the fit.\n",
            "  warnings.warn(\n"
          ]
        },
        {
          "output_type": "display_data",
          "data": {
            "text/plain": [
              "<Figure size 640x480 with 1 Axes>"
            ],
            "image/png": "[encoded data removed]"
          },
          "metadata": {}
        }
      ]
    },
    {
      "cell_type": "markdown",
      "metadata": {
        "id": "PgqUrgh--GeU"
      },
      "source": [
        "Using the Peceptron model with random_state variable set to 9876, I found that it converged after 8 epochs. So, using the score function to calculate the miscallification rate, the above graph resulted. At 0 epochs, the model is at 50% (since it is purely random if it is correct or not). But, immediately after, on the second epoch, the misscalification rate dropped down to less than 10%. I was surprised to see how quickly it dropped. This means that the model learned very quickly. So, it makes sense that it only took 8 epochs to converge."
      ]
    },
    {
      "cell_type": "markdown",
      "metadata": {
        "id": "ClWJIfj81I-v"
      },
      "source": [
        "### 3.4 (15%) Hyperparameters\n",
        "Read over all the Hyperparameters and their defaults in the scikit [perceptron documentation](https://scikit-learn.org/stable/modules/generated/sklearn.linear_model.Perceptron.html). With the voting data set, experiment briefly with EACH of the following 6 hyperparameters and discuss your findings.\n",
        "- shuffle\n",
        "- eta0 - learning rate\n",
        "- verbose\n",
        "- fit_intercept - whether to use a bias weight or not\n",
        "- random state\n",
        "- warm start"
      ]
    },
    {
      "cell_type": "code",
      "execution_count": 189,
      "metadata": {
        "id": "WK6lp9Fd1I-w"
      },
      "outputs": [],
      "source": [
        "# Run the model with different hyperparameters\n",
        "def run_perceptron_hyperparameters(data_set, shuffle=False, eta0=1,\n",
        "                                   verbose=0, fit_intercept=True,\n",
        "                                   random_state=0, warm_start=False):\n",
        "    \"\"\"\n",
        "    Run the Perceptron model on a full data set (after training)\n",
        "\n",
        "    Args:\n",
        "        data_set (string): the .arff set used for the inputs and target\n",
        "        shuffle: Shuffling the data after each epoch\n",
        "        eta0: Learning rate\n",
        "        verbose: Print information after each epoch\n",
        "        fit_intercept: Whether to use a bias or not\n",
        "        Random state: random seed\n",
        "        Warm Start: Whether or not the model runs from the previous one\n",
        "\n",
        "    Output:\n",
        "        clf.score(X, y): Accuracy\n",
        "        clf.n_iter_: Number of epochs\n",
        "        clf.coef_: weights\n",
        "        clf.intercept_: Bias\n",
        "    \"\"\"\n",
        "    #set up perceptron model with Learning rate 1, and no shuffling\n",
        "    clf = Perceptron(shuffle=shuffle, eta0=eta0, verbose=verbose,\n",
        "                     fit_intercept=fit_intercept, random_state=random_state,\n",
        "                     warm_start=warm_start)\n",
        "\n",
        "    #import the data from arff file into a numpy array of floats\n",
        "    Data_Set = arff.loadarff(data_set)\n",
        "    Data_Set_df = pd.DataFrame(Data_Set[0])\n",
        "    Data_Set_np = Data_Set_df.to_numpy()\n",
        "\n",
        "    #separate data into array of inputs and targets\n",
        "    X = Data_Set_np[:, :-1]\n",
        "    y = Data_Set_np[:, -1]\n",
        "\n",
        "    #convert bytes with \"yes\" to 1, and bytes with \"no\" to 0\n",
        "    X[X == b'y'] = 1\n",
        "    X[X == b'n'] = 0\n",
        "    X = X.astype(float)\n",
        "\n",
        "    #convert class of republican to 1, and class of democrat to 0\n",
        "    y[y == b'republican'] = 1\n",
        "    y[y == b'democrat'] = 0\n",
        "    y = y.astype(float)\n",
        "\n",
        "    #train the model\n",
        "    clf.fit(X, y)\n",
        "\n",
        "    #print statements to see how the parameters affected the model\n",
        "    print(\"Perceptron with:\")\n",
        "    print(f\"\\tshuffle: {shuffle}\")\n",
        "    print(f\"\\teta0: {eta0}\")\n",
        "    print(f\"\\tverbose: {verbose}\")\n",
        "    print(f\"\\tfit_intercept: {fit_intercept}\")\n",
        "    print(f\"\\trandom_state: {random_state}\")\n",
        "    print(f\"\\twarm_start: {warm_start}\")\n",
        "    print(\"Accuracy: \", clf.score(X, y))\n",
        "    print(\"Number of epochs: \", clf.n_iter_)\n",
        "    print(\"Weights: \", clf.coef_)\n",
        "    print(\"Bias: \", clf.intercept_)\n",
        "    return\n"
      ]
    },
    {
      "cell_type": "code",
      "source": [
        "#run the model with various parameters\n",
        "\n",
        "run_perceptron_hyperparameters(\"voting.arff\")\n",
        "print()\n",
        "run_perceptron_hyperparameters(\"voting.arff\", shuffle=True)\n",
        "print()\n",
        "run_perceptron_hyperparameters(\"voting.arff\", eta0=0.01)\n",
        "print()\n",
        "run_perceptron_hyperparameters(\"voting.arff\", verbose=1)\n",
        "print()\n",
        "run_perceptron_hyperparameters(\"voting.arff\", fit_intercept=False)\n",
        "print()\n",
        "run_perceptron_hyperparameters(\"voting.arff\", random_state=876)\n",
        "print()\n",
        "run_perceptron_hyperparameters(\"voting.arff\", warm_start=True)"
      ],
      "metadata": {
        "colab": {
          "base_uri": "https://localhost:8080/"
        },
        "id": "Xw2vPbdfII6g",
        "outputId": "7a156c82-7328-4857-b1c5-e2c5e268dbdc"
      },
      "execution_count": 190,
      "outputs": [
        {
          "output_type": "stream",
          "name": "stdout",
          "text": [
            "Perceptron with:\n",
            "\tshuffle: False\n",
            "\teta0: 1\n",
            "\tverbose: 0\n",
            "\tfit_intercept: True\n",
            "\trandom_state: 0\n",
            "\twarm_start: False\n",
            "Accuracy:  0.9674620390455532\n",
            "Number of epochs:  8\n",
            "Weights:  [[ 2. -3. -7. 19.  3. -2.  1.  5. -9.  2. -9.  1.  0.  0. -3.  6.]]\n",
            "Bias:  [-9.]\n",
            "\n",
            "Perceptron with:\n",
            "\tshuffle: True\n",
            "\teta0: 1\n",
            "\tverbose: 0\n",
            "\tfit_intercept: True\n",
            "\trandom_state: 0\n",
            "\twarm_start: False\n",
            "Accuracy:  0.9609544468546638\n",
            "Number of epochs:  9\n",
            "Weights:  [[  0.  -3.  -8.  17.   4.  -2.   5.   6.  -7.   5. -10.  -1.  -1.   0.\n",
            "   -4.   5.]]\n",
            "Bias:  [-9.]\n",
            "\n",
            "Perceptron with:\n",
            "\tshuffle: False\n",
            "\teta0: 0.01\n",
            "\tverbose: 0\n",
            "\tfit_intercept: True\n",
            "\trandom_state: 0\n",
            "\twarm_start: False\n",
            "Accuracy:  0.9566160520607375\n",
            "Number of epochs:  6\n",
            "Weights:  [[ 2.00000000e-02 -3.00000000e-02 -5.00000000e-02  1.60000000e-01\n",
            "   2.00000000e-02 -2.00000000e-02  1.00000000e-02  3.00000000e-02\n",
            "  -7.00000000e-02  1.00000000e-02 -9.00000000e-02  4.00000000e-02\n",
            "  -1.00000000e-02 -3.46944695e-18 -2.00000000e-02  5.00000000e-02]]\n",
            "Bias:  [-0.06]\n",
            "\n",
            "-- Epoch 1\n",
            "Norm: 13.78, NNZs: 15, Bias: -2.000000, T: 461, Avg. loss: 0.240781\n",
            "Total training time: 0.00 seconds.\n",
            "-- Epoch 2\n",
            "Norm: 17.23, NNZs: 13, Bias: -4.000000, T: 922, Avg. loss: 0.188720\n",
            "Total training time: 0.00 seconds.\n",
            "-- Epoch 3\n",
            "Norm: 18.84, NNZs: 13, Bias: -4.000000, T: 1383, Avg. loss: 0.162690\n",
            "Total training time: 0.00 seconds.\n",
            "-- Epoch 4\n",
            "Norm: 21.14, NNZs: 16, Bias: -5.000000, T: 1844, Avg. loss: 0.206074\n",
            "Total training time: 0.00 seconds.\n",
            "-- Epoch 5\n",
            "Norm: 23.26, NNZs: 14, Bias: -7.000000, T: 2305, Avg. loss: 0.184382\n",
            "Total training time: 0.00 seconds.\n",
            "-- Epoch 6\n",
            "Norm: 24.78, NNZs: 16, Bias: -8.000000, T: 2766, Avg. loss: 0.199566\n",
            "Total training time: 0.01 seconds.\n",
            "-- Epoch 7\n",
            "Norm: 25.44, NNZs: 15, Bias: -9.000000, T: 3227, Avg. loss: 0.210412\n",
            "Total training time: 0.01 seconds.\n",
            "-- Epoch 8\n",
            "Norm: 25.96, NNZs: 14, Bias: -9.000000, T: 3688, Avg. loss: 0.199566\n",
            "Total training time: 0.01 seconds.\n",
            "Convergence after 8 epochs took 0.01 seconds\n",
            "Perceptron with:\n",
            "\tshuffle: False\n",
            "\teta0: 1\n",
            "\tverbose: 1\n",
            "\tfit_intercept: True\n",
            "\trandom_state: 0\n",
            "\twarm_start: False\n",
            "Accuracy:  0.9674620390455532\n",
            "Number of epochs:  8\n",
            "Weights:  [[ 2. -3. -7. 19.  3. -2.  1.  5. -9.  2. -9.  1.  0.  0. -3.  6.]]\n",
            "Bias:  [-9.]\n",
            "\n",
            "Perceptron with:\n",
            "\tshuffle: False\n",
            "\teta0: 1\n",
            "\tverbose: 0\n",
            "\tfit_intercept: False\n",
            "\trandom_state: 0\n",
            "\twarm_start: False\n",
            "Accuracy:  0.9522776572668112\n",
            "Number of epochs:  6\n",
            "Weights:  [[ 0. -4. -5. 13.  2. -2.  0.  3. -5.  2. -9.  2. -1. -1. -3.  4.]]\n",
            "Bias:  [0.]\n",
            "\n",
            "Perceptron with:\n",
            "\tshuffle: False\n",
            "\teta0: 1\n",
            "\tverbose: 0\n",
            "\tfit_intercept: True\n",
            "\trandom_state: 876\n",
            "\twarm_start: False\n",
            "Accuracy:  0.9674620390455532\n",
            "Number of epochs:  8\n",
            "Weights:  [[ 2. -3. -7. 19.  3. -2.  1.  5. -9.  2. -9.  1.  0.  0. -3.  6.]]\n",
            "Bias:  [-9.]\n",
            "\n",
            "Perceptron with:\n",
            "\tshuffle: False\n",
            "\teta0: 1\n",
            "\tverbose: 0\n",
            "\tfit_intercept: True\n",
            "\trandom_state: 0\n",
            "\twarm_start: True\n",
            "Accuracy:  0.9674620390455532\n",
            "Number of epochs:  8\n",
            "Weights:  [[ 2. -3. -7. 19.  3. -2.  1.  5. -9.  2. -9.  1.  0.  0. -3.  6.]]\n",
            "Bias:  [-9.]\n"
          ]
        }
      ]
    },
    {
      "cell_type": "markdown",
      "metadata": {
        "id": "dImecIgP1I-w"
      },
      "source": [
        "To test out the different Hyperparameters, I made them parameters to my function definition. Then, I called my function wich ran the Perceptron model multiple times to test the effects of each hyperparameter.\n",
        "\n",
        "The shuffle parameter determines whether or not the training set should be shuffled after each epoch. I think that this makes large models more accurate by eliminating the effect of the order of input. In our case, setting shuffle to true actually decreased the accuracy a little. This surprised me. I think that it occured becuase the accuracy calculated is based purely on the training set. However, I would expect the testing accuracy to improve with shuffling set to true.\n",
        "\n",
        "The eta0 parameter sets the learning rate. When the value is low, the model takes longer to learn but is more accurate. In this case, when I set the eta0 to a low number of 0.01, I was surprised to see the number of epochs decrease. This is probably becuase the data set was small and easy to predict. Also, I noted that decreasing the learning rate also had an effect on the final weights, making all of them much smaller (but by the same factor each time). This makes sense since the Learning rate is part of the weight change formula.\n",
        "\n",
        "The verbose parameter specifies if running the Perceptron will print anything or not. When verbose is 0, no print statements are done. And, when verbose is 1, the algorithm provides data after each epoch.\n",
        "\n",
        "The fit_intercept specifies whether to use a bias weight. When I set it to false, the final bias was 0 and the weights changed. Also, the accuracy decreased. I think that it is almost always better to have a bias, unless you know for a fact that the linear separation passes through the origin.\n",
        "\n",
        "The random_state parameter specifies the random seed used in the algorithm. It didn't have much effect on our program. All of the weights and bias remained the same. I think that this variable can be used to determine if the resulting weights depend on the random function or not. If they do, the model is not accurate.\n",
        "\n",
        "Finally, the warm start variable determines if the data should be taken form a previous model or start from scratch. Since our data converged so quickly, it also had no effect. But, I can see this parameter being useful if you want to take data out at each epoch."
      ]
    },
    {
      "cell_type": "markdown",
      "metadata": {
        "id": "mxssT08TzdRH"
      },
      "source": [
        "## 4 (15%) Use the perceptron to learn one other data set of your choice.  \n",
        "- The UC Irvine Data Repository is one great source, but you may get your data set from wherever you like, though it should be a real world task.\n",
        "- Report your results"
      ]
    },
    {
      "cell_type": "code",
      "execution_count": 191,
      "metadata": {
        "id": "hqPZLMf1zdRH"
      },
      "outputs": [],
      "source": [
        "# Load and Train on your dataset and report results\n",
        "def run_perceptron_breast_cancer(training=True):\n",
        "    \"\"\"\n",
        "    Run the Perceptron model on the breast cancer data set\n",
        "\n",
        "    Arguments\n",
        "        training: If true, the model splits into training and test sets\n",
        "\n",
        "    Perceptron specifications:\n",
        "        shuffle=False: No shuffling\n",
        "        verbose=1: Print information after each epoch\n",
        "        eta0=1: Learning rate is 1\n",
        "        By default, the initial rates are all 0 and there is a bias\n",
        "\n",
        "    Output:\n",
        "        clf.score(X_train, y_train): Training Accuracy\n",
        "        clf.score(X_test, y_test): Test Accuracy\n",
        "        clf.n_iter_: Number of epochs\n",
        "        clf.coef_: weights\n",
        "        clf.intercept_: Bias\n",
        "    \"\"\"\n",
        "    #set up perceptron model with Learning rate 0.5, and shuffling\n",
        "    clf = Perceptron(shuffle=True, verbose=0, eta0=0.5)\n",
        "\n",
        "    #initialize the list that will contain the data\n",
        "    data = []\n",
        "\n",
        "    #import the data file, line by line\n",
        "    with open(\"wdbc.data\", \"r\") as file:\n",
        "        data_set = file.read().splitlines()\n",
        "\n",
        "    #separate each line into a list and append to data\n",
        "    for line in data_set:\n",
        "        data.append(line.split(\",\"))\n",
        "\n",
        "    #convert the data into an array\n",
        "    Data_Set_df = pd.DataFrame(data)\n",
        "    data = Data_Set_df.to_numpy()\n",
        "\n",
        "    #separate data into array of inputs and targets\n",
        "    X = data[:, 2:] #ignore first two data values (ID number and target)\n",
        "    y = data[:, 1]\n",
        "\n",
        "    #convert input data to floats and normalize it\n",
        "    X = X.astype(float)\n",
        "    X = (X-np.min(X))/(np.max(X)-np.min(X))\n",
        "\n",
        "    #convert class of malignant cancer to 1, and class of benign cancer to 0\n",
        "    y[y == 'M'] = 1\n",
        "    y[y == 'B'] = 0\n",
        "    y = y.astype(float)\n",
        "\n",
        "    #when training, we split the set into training and test set\n",
        "    if training == True:\n",
        "      #randomly split the data into test and training (70%)\n",
        "      X_train, X_test, y_train, y_test = train_test_split(X, y, test_size=0.30)\n",
        "\n",
        "      #train the model\n",
        "      clf.fit(X_train, y_train)\n",
        "\n",
        "      #return data of the model\n",
        "      return clf.score(X_train, y_train), clf.score(X_test, y_test), clf.n_iter_, clf.coef_, clf.intercept_\n",
        "\n",
        "    else:\n",
        "      #train the model\n",
        "      clf.fit(X, y)\n",
        "\n",
        "      #return data of the model\n",
        "      return clf.score(X, y), clf.n_iter_, clf.coef_, clf.intercept_"
      ]
    },
    {
      "cell_type": "code",
      "source": [
        "table_data = [[\"Trial\", \"Training Accuracy\",\t\"Test accuracy\",\t\"Number of epochs\"]]\n",
        "\n",
        "#Run the perceptron 5 times with different splits and gather data\n",
        "print(\"--------Training Set--------\")\n",
        "for i in range(10):\n",
        "    training_accuracy, test_accuracy, epochs, weight, bias = run_perceptron_breast_cancer()\n",
        "    data_to_add = [i+1, training_accuracy, test_accuracy, epochs]\n",
        "    table_data.append(data_to_add)\n",
        "\n",
        "#Make a table\n",
        "table = tabulate(table_data, headers=\"firstrow\")\n",
        "print(table)\n",
        "\n",
        "#Run the test on everything\n",
        "accuracy, epochs, weight, bias = run_perceptron_breast_cancer(training=False)\n",
        "print()\n",
        "print(\"On the entire data set, we have:\")\n",
        "print(\"Accuracy: \", accuracy)\n",
        "print(\"Number of epochs: \", epochs)\n",
        "print(\"Weights: \", weight[0])\n",
        "print(\"Bias: \", bias)\n",
        "\n"
      ],
      "metadata": {
        "colab": {
          "base_uri": "https://localhost:8080/"
        },
        "id": "aLNta4imMft9",
        "outputId": "a6827f47-b0fd-4768-e8af-2e750fcf2f4c"
      },
      "execution_count": 192,
      "outputs": [
        {
          "output_type": "stream",
          "name": "stdout",
          "text": [
            "--------Training Set--------\n",
            "  Trial    Training Accuracy    Test accuracy    Number of epochs\n",
            "-------  -------------------  ---------------  ------------------\n",
            "      1             0.884422         0.888889                   8\n",
            "      2             0.849246         0.888889                  10\n",
            "      3             0.876884         0.900585                  10\n",
            "      4             0.907035         0.918129                   9\n",
            "      5             0.886935         0.906433                   8\n",
            "      6             0.839196         0.77193                   17\n",
            "      7             0.884422         0.871345                   8\n",
            "      8             0.859296         0.853801                   8\n",
            "      9             0.856784         0.859649                   7\n",
            "     10             0.90201          0.900585                  13\n",
            "\n",
            "On the entire data set, we have:\n",
            "Accuracy:  0.9086115992970123\n",
            "Number of epochs:  15\n",
            "Weights:  [-5.13399154e-03  2.59543959e-01  1.02482370e-01 -4.61212976e-02\n",
            "  1.20969911e-03  4.24524213e-03  5.90066643e-03  2.48282299e-03\n",
            "  2.01868829e-03  5.21215327e-04  7.02485896e-03  1.41994006e-02\n",
            "  5.41212153e-02  6.95717913e-01  1.01210038e-04  8.94706512e-04\n",
            "  1.14403279e-03  2.91643159e-04  2.47199694e-04  8.87752351e-05\n",
            "  6.52856135e-02  4.77405971e-01  6.30621768e-01  6.77140339e+00\n",
            "  2.48417137e-03  1.55397438e-02  1.90326455e-02  5.49473096e-03\n",
            "  5.72750353e-03  1.91162435e-03]\n",
            "Bias:  [-1.5]\n"
          ]
        }
      ]
    },
    {
      "cell_type": "markdown",
      "metadata": {
        "id": "BqSFAXwlk3Ms"
      },
      "source": [
        "For this problem, I took a data set from https://archive-beta.ics.uci.edu/dataset/17/breast+cancer+wisconsin+diagnostic. This data was created to help researchers determine if breast cancer is malignant (1) or benign (0). The inputs for the data set were based on the data from 3 sample cells taken from the patient. The radius, texture, perimeter, area, and many other measurements were taken for each cell. So, the input list had a total of 30 inputs, each as real numbers (which were normalized).\n",
        "\n",
        "I run the Perceptron model on 10 different splits for the training set. The average test accuracy for those sets was around 80-85%. But, every once in a while a trial or two in the group of 10 had an accuracy below 40%. So, Perceptron may not be the best model for this specific set of data. This is likely becuase of the large size of the input data. As the inputs increase, the probability for it to be linearly separable decreases (limiting the accuracy of the Perceptron model). However, this model was still much better than 50% overall. So, it may be applied to help aid medical research in the field.\n",
        "\n",
        "After training the data, I ran the Perceptron model on the entire set. It converged after 15 epochs. The final bias was around -1.5 and most of the weights were very low numbers. The largest weights were the second and third input of each cell, which measured the cell texture and cell perimeter. So, we can conclude that as breast cancer cells get more rough and/or increase in perimeter, the cancer is more likely to be malignant."
      ]
    },
    {
      "cell_type": "markdown",
      "metadata": {
        "id": "cTlK-kijk8Mg"
      },
      "source": [
        "## 5. (Optional 15% extra credit) Code up your own perceptron learner\n",
        "\n",
        "Past versions of this class required students to code up their own version of each model and then compare results with scikit-learn.  Actually coding a model leads to better understanding of what is really happening \"under the hood.\"  Though not required for this class, we give a significant extra credit reward for each lab to those who choose to code their own models.  If you choose to do this, your code must be your own, and NOT taken from any other source (including the text).  Once you are done coding we encourage you to look at other versions to see how yours compares.  Below is a scaffold you could use if you want. Requirements for this task:\n",
        "- Your perceptron should support the methods shown in the example scaffold below.\n",
        "- Your output node should output 1 if net is > 0, else 0.\n",
        "- Use Stochastic/On-line training updates: Iterate and update weights after each training instance (i.e. not batch updates)\n",
        "- Implement a stopping criteria: when your model has trained for a number of epochs with no improvement in accuracy, stop training. Note that the weights/accuracy do not usually change monotonically.\n",
        "- Your class can inherit from the relevant scikit-learn learners (e.g. data shuffling, etc.), but don't call any of the super methods to accomplish the core methods in the scaffold.\n",
        "- Run the evaluation data set and the voting data set above with your Perceptron version. Show and discuss your results and how they compare with the scikit-learn version."
      ]
    },
    {
      "cell_type": "code",
      "execution_count": 193,
      "metadata": {
        "id": "5iY77P7gk1Nh"
      },
      "outputs": [],
      "source": [
        "# Optional scaffold for Extra Credit Perceptron code.  IF you use this feel free to change/add any methods you want.\n",
        "\n",
        "#JUST FINISHED PREDICTION METHOD, MAYBE WORK ON FIT NOW\n",
        "\n",
        "from sklearn.base import BaseEstimator, ClassifierMixin\n",
        "class PerceptronClassifier(BaseEstimator,ClassifierMixin):\n",
        "\n",
        "    def __init__(self, X, y, lr=.1, shuffle=True):\n",
        "        \"\"\"\n",
        "            Initialize class with chosen hyperparameters.\n",
        "        Args:\n",
        "            lr (float): A learning rate / step size.\n",
        "            shuffle: Whether to shuffle the training data each epoch. DO NOT\n",
        "            SHUFFLE for evaluation / debug datasets.\n",
        "            X (numpy array): Training Data\n",
        "            y (numpy array): Target\n",
        "            weights: Weights used in the model\n",
        "        \"\"\"\n",
        "        self.lr = lr\n",
        "        self.shuffle = shuffle\n",
        "        self.initialize_training_set(X)\n",
        "        self.initialize_target_set(y)\n",
        "        self.initialize_weights()\n",
        "        self.epochs = 0\n",
        "\n",
        "    def fit(self, initial_weights=None):\n",
        "        \"\"\"\n",
        "            Fit the data; run the algorithm and adjust the weights to find a\n",
        "            good solution\n",
        "        Args:\n",
        "            initial_weights (array-like): allows the user to provide initial\n",
        "            weights\n",
        "        Returns:\n",
        "            self: this allows this to be chained, e.g. model.fit(X,y).predict(X_test)\n",
        "        \"\"\"\n",
        "        if initial_weights:  #set initial weights to what the user inputs\n",
        "            self.weights = initial_weights\n",
        "\n",
        "        scores = []\n",
        "        score_difference = 1 #default value\n",
        "        while score_difference > 0.002:\n",
        "            #change the weights for each patterin in the epic\n",
        "            for pattern in range(len(self.y) - 1):\n",
        "                delta_weights = self.lr * (self.y[pattern] - self.predict(self.X[pattern])) * self.X[pattern]\n",
        "                self.weights += delta_weights\n",
        "\n",
        "            #update the number of epochs and list of scores\n",
        "            self.epochs += 1\n",
        "            scores.append(self.score())\n",
        "\n",
        "            #calculate the score_difference by comparing the mean to the last three scores\n",
        "            if self.epochs >= 3:   #need at least 3 for convergence\n",
        "                score_difference = 0\n",
        "                score_sum = scores[self.epochs - 1] + scores[self.epochs - 2] + scores[self.epochs - 3]\n",
        "                score_average = score_sum / 3\n",
        "                score_difference += abs(scores[self.epochs - 1] - score_average)\n",
        "                score_difference += abs(scores[self.epochs - 2] - score_average)\n",
        "                score_difference += abs(scores[self.epochs - 3] - score_average)\n",
        "        return self\n",
        "\n",
        "    def predict(self, X):\n",
        "        \"\"\"\n",
        "            Predict all classes for a dataset X\n",
        "        Returns:\n",
        "            array, shape (n_samples,)\n",
        "                Predicted target values per element in X.\n",
        "        \"\"\"\n",
        "        net = X @ self.weights   #sums the product of x_i and w_i\n",
        "        # net = list(net) # to allow for list comprehension\n",
        "        # net = [1 if x > 0 else 0 for x in net] #change net to predictions\n",
        "        if net > 0:\n",
        "            net = 1\n",
        "        else:\n",
        "            net = 0\n",
        "        return net\n",
        "\n",
        "    def initialize_weights(self):\n",
        "        \"\"\" Initialize weights for perceptron. Don't forget the bias!\n",
        "        Initializes the weights attribute as a numpy array of only 0s\n",
        "        \"\"\"\n",
        "        n = len(self.X[0])  #number of elements in first row of inputs\n",
        "        self.weights = np.zeros(n)\n",
        "        return\n",
        "\n",
        "    def initialize_training_set(self, X):\n",
        "        \"\"\"Initialize the training set\n",
        "        Adds the bias to the end of each pattern\n",
        "\n",
        "        Arg: X --> Initial input set as a matrix given by the user\n",
        "        \"\"\"\n",
        "        self.X = []\n",
        "        bias = np.array([1])\n",
        "        for row in X:\n",
        "            self.X.append(np.concatenate((row, bias)))\n",
        "        self.X = np.array(self.X)\n",
        "\n",
        "    def initialize_target_set(self, y):\n",
        "        \"\"\"Initialize the target set\n",
        "        Adds the bias to the end of each pattern\n",
        "\n",
        "        Arg: X --> Initial input set as a matrix given by the user\n",
        "        \"\"\"\n",
        "        bias = np.array([1])\n",
        "        self.y = np.concatenate((y, bias))\n",
        "        self.y = np.array(self.y)\n",
        "\n",
        "    def score(self):\n",
        "        \"\"\"\n",
        "            Return accuracy of model on a given dataset. Must implement own\n",
        "            score function.\n",
        "        Args:\n",
        "            X (array-like): A 2D numpy array with data, excluding targets\n",
        "            y (array-like): A 2D numpy array with targets\n",
        "        Returns:\n",
        "            score : float\n",
        "                Mean accuracy of self.predict(X) wrt. y.\n",
        "        \"\"\"\n",
        "        #calculate output for all current weights\n",
        "        net = self.X @ self.weights   #sums the product of x_i and w_i\n",
        "        net = list(net) # to allow for list comprehension\n",
        "        net = [1 if x > 0 else 0 for x in net] #change net to predictions\n",
        "        net = np.array(net)\n",
        "\n",
        "        #find the number of incorrect predictions\n",
        "        num_incorrect = 0\n",
        "        for i in range(len(self.y) - 1):\n",
        "            if net[i] != self.y[i]:\n",
        "                num_incorrect += 1\n",
        "\n",
        "        #return the percent of incorrect\n",
        "        return 1 - (num_incorrect / (len(self.y) - 1))\n",
        "\n",
        "    ### Returns the weights and bias. Not required but great for debugging.\n",
        "    def get_weights(self):\n",
        "        return self.weights"
      ]
    },
    {
      "cell_type": "code",
      "source": [
        "#Run the Perceptron on evaluation data\n",
        "print(\"-----Evaluation Data-----\")\n",
        "#import the data from arff file into a numpy array of floats\n",
        "Data_Set = arff.loadarff(\"eval.arff\")\n",
        "Data_Set_df = pd.DataFrame(Data_Set[0])\n",
        "Data_Set_np = Data_Set_df.to_numpy()\n",
        "Data_Set_np = Data_Set_np.astype(float)\n",
        "\n",
        "#separate data into array of inputs and targets\n",
        "X = Data_Set_np[:, :-1]\n",
        "y = Data_Set_np[:, -1]\n",
        "\n",
        "#train the model, printing results after each epoch\n",
        "clf = PerceptronClassifier(X, y)\n",
        "clf.fit()\n",
        "\n",
        "print(\"Weights and Bias: \", clf.weights) #print the weights and bias\n",
        "print(\"Accuracy: \", clf.score())  #mean accuracy\n",
        "print(\"Number of epochs: \", clf.epochs)\n",
        "\n",
        "\n",
        "\n",
        "#Run the Perceptron on voting data\n",
        "print()\n",
        "print(\"-----Voting Data-----\")\n",
        "#import the data from arff file into a numpy array of floats\n",
        "#import the data from arff file into a numpy array of floats\n",
        "Data_Set = arff.loadarff(\"voting.arff\")\n",
        "Data_Set_df = pd.DataFrame(Data_Set[0])\n",
        "Data_Set_np = Data_Set_df.to_numpy()\n",
        "\n",
        "#separate data into array of inputs and targets\n",
        "X = Data_Set_np[:, :-1]\n",
        "y = Data_Set_np[:, -1]\n",
        "\n",
        "#convert bytes with \"yes\" to 1, and bytes with \"no\" to 0\n",
        "X[X == b'y'] = 1\n",
        "X[X == b'n'] = 0\n",
        "X = X.astype(float)\n",
        "\n",
        "#convert class of republican to 1, and class of democrat to 0\n",
        "y[y == b'republican'] = 1\n",
        "y[y == b'democrat'] = 0\n",
        "y = y.astype(float)\n",
        "\n",
        "#train the model, printing results after each epoch\n",
        "clf = PerceptronClassifier(X, y)\n",
        "clf.fit()\n",
        "\n",
        "print(\"Weights and Bias: \", clf.weights) #print the weights and bias\n",
        "print(\"Accuracy: \", clf.score())  #mean accuracy\n",
        "print(\"Number of epochs: \", clf.epochs)"
      ],
      "metadata": {
        "colab": {
          "base_uri": "https://localhost:8080/"
        },
        "id": "oeQ-nxDWbcdB",
        "outputId": "750bc9c0-9498-4790-9b03-c605de2f3105"
      },
      "execution_count": 194,
      "outputs": [
        {
          "output_type": "stream",
          "name": "stdout",
          "text": [
            "-----Evaluation Data-----\n",
            "Weights and Bias:  [-3.07391142 -1.7218     -2.1175274  -1.5410362   4.4       ]\n",
            "Accuracy:  0.9613702623906706\n",
            "Number of epochs:  6\n",
            "\n",
            "-----Voting Data-----\n",
            "Weights and Bias:  [ 0.1 -0.3 -0.7  2.1  0.1 -0.1  0.2  0.7 -0.9  0.4 -1.3  0.1  0.1 -0.1\n",
            " -0.3  0.8 -1.3]\n",
            "Accuracy:  0.96529284164859\n",
            "Number of epochs:  121\n"
          ]
        }
      ]
    },
    {
      "cell_type": "markdown",
      "metadata": {
        "id": "CCMC9aHQ-IGL"
      },
      "source": [
        "I created a version of the Perceptron model using the PrrceptronClassifier class. This class ran on the same data and used the formulas we used from class to determine the weights. I made it different from the scikit-learn version by making the input and target sets only need to be inputs for the class initialization (preventing the need to use them as arguments for the fit() and score() methods).\n",
        "\n",
        "When I ran my Perceptron class on the evaluation data, it has a 96.1% accuracy after 6 epochs. On the other hand, the scikit-learn version has a 97.7% accuracy after 9 epochs. So, my model performed quite similarly. The only difference notable difference may be my criteria for determining convergence.\n",
        "\n",
        "When I ran my Perceptron model on the voting data set, I had an accuracy of 96.5% after 121 epochs, whereas the scikit-learn model had 96.7% accuracy after 8. So, clearly, the scikit-learn is better in this case because it is more accurate and requires much less iterations.\n",
        "\n",
        "All in all, it was a meaningful experience to code up the Perceptron model myself. I now understand how this machine learning model works. If I were to implement methods to split up the data into training and test sets, randomly shuffle, and so on, I believe that my model could be even more accurate."
      ]
    }
  ],
  "metadata": {
    "colab": {
      "provenance": []
    },
    "kernelspec": {
      "display_name": "Python 2.7.16 64-bit",
      "language": "python",
      "name": "python3"
    },
    "language_info": {
      "codemirror_mode": {
        "name": "ipython",
        "version": 3
      },
      "file_extension": ".py",
      "mimetype": "text/x-python",
      "name": "python",
      "nbconvert_exporter": "python",
      "pygments_lexer": "ipython3",
      "version": "3.11.4"
    },
    "vscode": {
      "interpreter": {
        "hash": "767d51c1340bd893661ea55ea3124f6de3c7a262a8b4abca0554b478b1e2ff90"
      }
    }
  },
  "nbformat": 4,
  "nbformat_minor": 0
}